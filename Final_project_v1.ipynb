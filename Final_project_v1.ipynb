{
  "nbformat": 4,
  "nbformat_minor": 0,
  "metadata": {
    "accelerator": "GPU",
    "colab": {
      "name": "Midterm.ipynb",
      "provenance": [],
      "collapsed_sections": [],
      "toc_visible": true,
      "machine_shape": "hm"
    },
    "kernelspec": {
      "display_name": "Python 3",
      "language": "python",
      "name": "python3"
    },
    "language_info": {
      "codemirror_mode": {
        "name": "ipython",
        "version": 3
      },
      "file_extension": ".py",
      "mimetype": "text/x-python",
      "name": "python",
      "nbconvert_exporter": "python",
      "pygments_lexer": "ipython3",
      "version": "3.7.4"
    },
    "toc": {
      "base_numbering": 1,
      "nav_menu": {},
      "number_sections": true,
      "sideBar": true,
      "skip_h1_title": false,
      "title_cell": "Table of Contents",
      "title_sidebar": "Contents",
      "toc_cell": true,
      "toc_position": {},
      "toc_section_display": true,
      "toc_window_display": false
    }
  },
  "cells": [
    {
      "cell_type": "markdown",
      "metadata": {
        "colab_type": "text",
        "id": "ajaDjC5QQb5m",
        "toc": true
      },
      "source": [
        "<h1>Table of Contents<span class=\"tocSkip\"></span></h1>\n",
        "<div class=\"toc\"><ul class=\"toc-item\"><li><span><a href=\"#Overview\" data-toc-modified-id=\"Overview-1\"><span class=\"toc-item-num\">1&nbsp;&nbsp;</span>Overview</a></span></li><li><span><a href=\"#Notebook-Configuration\" data-toc-modified-id=\"Notebook-Configuration-2\"><span class=\"toc-item-num\">2&nbsp;&nbsp;</span>Notebook Configuration</a></span><ul class=\"toc-item\"><li><span><a href=\"#Google-Drive\" data-toc-modified-id=\"Google-Drive-2.1\"><span class=\"toc-item-num\">2.1&nbsp;&nbsp;</span>Google Drive</a></span></li><li><span><a href=\"#Warning\" data-toc-modified-id=\"Warning-2.2\"><span class=\"toc-item-num\">2.2&nbsp;&nbsp;</span>Warning</a></span></li><li><span><a href=\"#Matplotlib\" data-toc-modified-id=\"Matplotlib-2.3\"><span class=\"toc-item-num\">2.3&nbsp;&nbsp;</span>Matplotlib</a></span></li></ul></li><li><span><a href=\"#Data-Preprocessing\" data-toc-modified-id=\"Data-Preprocessing-3\"><span class=\"toc-item-num\">3&nbsp;&nbsp;</span>Data Preprocessing</a></span><ul class=\"toc-item\"><li><span><a href=\"#Loading-data\" data-toc-modified-id=\"Loading-data-3.1\"><span class=\"toc-item-num\">3.1&nbsp;&nbsp;</span>Loading data</a></span></li><li><span><a href=\"#Getting-the-name-of-the-target\" data-toc-modified-id=\"Getting-the-name-of-the-target-3.2\"><span class=\"toc-item-num\">3.2&nbsp;&nbsp;</span>Getting the name of the target</a></span></li><li><span><a href=\"#Dividing-the-training-data-into-training-and-validation\" data-toc-modified-id=\"Dividing-the-training-data-into-training-and-validation-3.3\"><span class=\"toc-item-num\">3.3&nbsp;&nbsp;</span>Dividing the training data into training and validation</a></span></li><li><span><a href=\"#Handling-the-identifiers\" data-toc-modified-id=\"Handling-the-identifiers-3.4\"><span class=\"toc-item-num\">3.4&nbsp;&nbsp;</span>Handling the identifiers</a></span></li><li><span><a href=\"#Handling-uncommon-variables\" data-toc-modified-id=\"Handling-uncommon-variables-3.5\"><span class=\"toc-item-num\">3.5&nbsp;&nbsp;</span>Handling uncommon variables</a></span></li><li><span><a href=\"#Handling-date-time-variables\" data-toc-modified-id=\"Handling-date-time-variables-3.6\"><span class=\"toc-item-num\">3.6&nbsp;&nbsp;</span>Handling date time variables</a></span></li><li><span><a href=\"#Handling-missing-data\" data-toc-modified-id=\"Handling-missing-data-3.7\"><span class=\"toc-item-num\">3.7&nbsp;&nbsp;</span>Handling missing data</a></span></li><li><span><a href=\"#Encoding-the-data\" data-toc-modified-id=\"Encoding-the-data-3.8\"><span class=\"toc-item-num\">3.8&nbsp;&nbsp;</span>Encoding the data</a></span></li><li><span><a href=\"#Getting-the-name-of-the-features\" data-toc-modified-id=\"Getting-the-name-of-the-features-3.9\"><span class=\"toc-item-num\">3.9&nbsp;&nbsp;</span>Getting the name of the features</a></span></li><li><span><a href=\"#Getting-the-feature-matrix-and-target-vector\" data-toc-modified-id=\"Getting-the-feature-matrix-and-target-vector-3.10\"><span class=\"toc-item-num\">3.10&nbsp;&nbsp;</span>Getting the feature matrix and target vector</a></span></li><li><span><a href=\"#Scaling-the-data\" data-toc-modified-id=\"Scaling-the-data-3.11\"><span class=\"toc-item-num\">3.11&nbsp;&nbsp;</span>Scaling the data</a></span></li></ul></li><li><span><a href=\"#Hyperparameter-Tuning-and-Model-Selection\" data-toc-modified-id=\"Hyperparameter-Tuning-and-Model-Selection-4\"><span class=\"toc-item-num\">4&nbsp;&nbsp;</span>Hyperparameter Tuning and Model Selection</a></span><ul class=\"toc-item\"><li><span><a href=\"#Creating-the-dictionary-of-the-models\" data-toc-modified-id=\"Creating-the-dictionary-of-the-models-4.1\"><span class=\"toc-item-num\">4.1&nbsp;&nbsp;</span>Creating the dictionary of the models</a></span></li><li><span><a href=\"#Creating-the-dictionary-of-the-pipelines\" data-toc-modified-id=\"Creating-the-dictionary-of-the-pipelines-4.2\"><span class=\"toc-item-num\">4.2&nbsp;&nbsp;</span>Creating the dictionary of the pipelines</a></span></li><li><span><a href=\"#Hyperparameter-tuning-and--model-selection-using-Sklearn-(0.22-or-above)\" data-toc-modified-id=\"Hyperparameter-tuning-and--model-selection-using-Sklearn-(0.22-or-above)-4.3\"><span class=\"toc-item-num\">4.3&nbsp;&nbsp;</span>Hyperparameter tuning and  model selection using Sklearn (0.22 or above)</a></span><ul class=\"toc-item\"><li><span><a href=\"#Getting-the-predefined-split-cross-validator\" data-toc-modified-id=\"Getting-the-predefined-split-cross-validator-4.3.1\"><span class=\"toc-item-num\">4.3.1&nbsp;&nbsp;</span>Getting the predefined split cross-validator</a></span></li><li><span><a href=\"#Creating-the-dictionary-of-the-parameter-grids\" data-toc-modified-id=\"Creating-the-dictionary-of-the-parameter-grids-4.3.2\"><span class=\"toc-item-num\">4.3.2&nbsp;&nbsp;</span>Creating the dictionary of the parameter grids</a></span><ul class=\"toc-item\"><li><span><a href=\"#The-parameter-grid-for-multi-layer-perceptron-classifier\" data-toc-modified-id=\"The-parameter-grid-for-multi-layer-perceptron-classifier-4.3.2.1\"><span class=\"toc-item-num\">4.3.2.1&nbsp;&nbsp;</span>The parameter grid for multi-layer perceptron classifier</a></span></li></ul></li><li><span><a href=\"#Creating-the-directory-for-the-cv-results.\" data-toc-modified-id=\"Creating-the-directory-for-the-cv-results.-4.3.3\"><span class=\"toc-item-num\">4.3.3&nbsp;&nbsp;</span>Creating the directory for the cv results.</a></span></li><li><span><a href=\"#Hyperparameter-Tuning\" data-toc-modified-id=\"Hyperparameter-Tuning-4.3.4\"><span class=\"toc-item-num\">4.3.4&nbsp;&nbsp;</span>Hyperparameter Tuning</a></span></li><li><span><a href=\"#Model-Selection\" data-toc-modified-id=\"Model-Selection-4.3.5\"><span class=\"toc-item-num\">4.3.5&nbsp;&nbsp;</span>Model Selection</a></span></li></ul></li></ul></li><li><span><a href=\"#Generating-the-Submission-File\" data-toc-modified-id=\"Generating-the-Submission-File-5\"><span class=\"toc-item-num\">5&nbsp;&nbsp;</span>Generating the Submission File</a></span></li></ul></div>"
      ]
    },
    {
      "cell_type": "markdown",
      "metadata": {
        "colab_type": "text",
        "id": "9v5qu8ErQb5p"
      },
      "source": [
        "<b>\n",
        "\n",
        "<p>\n",
        "<center>\n",
        "<font size=\"5\">\n",
        "Machine Learning I (DATS 6202), Spring 2020\n",
        "</font>\n",
        "</center>\n",
        "</p>\n",
        "\n",
        "<p>\n",
        "<center>\n",
        "<font size=\"4\">\n",
        "Midterm\n",
        "</font>\n",
        "</center>\n",
        "</p>\n",
        "\n",
        "<p>\n",
        "<center>\n",
        "<font size=\"3\">\n",
        "Data Science, Columbian College of Arts & Sciences, George Washington University\n",
        "</font>\n",
        "</center>\n",
        "</p>\n",
        "\n",
        "<p>\n",
        "<center>\n",
        "<font size=\"3\">\n",
        "Author: Jialei Chen, Changhao Ying, Zhilin Wang\n",
        "</font>\n",
        "</center>\n",
        "</p>\n",
        "\n",
        "</b>"
      ]
    },
    {
      "cell_type": "markdown",
      "metadata": {
        "colab_type": "text",
        "id": "-E_ice24Qb5r"
      },
      "source": [
        "# Overview\n",
        "- Here we will work on kaggle competation [San Francisco Crime Classification](https://www.kaggle.com/c/sf-crime)\n",
        "- Complete the missing parts indicated by # Implement me\n",
        "- Note that:\n",
        "    - You are strongly recommended to use Google Colab for this exam.\n",
        "    - You should only use Sklearn MLPClassifier for this exam (as suggested in Section *Creating the dictionary of the models*).\n",
        "    - The best score in Section *Model Selection* (0.272724) is a baseline. You will not be penalized if your score is lower than the baseline. However, if your score is higher than the baseline, you will recieve 1 bonus point.\n",
        "    - Due to the size of the data, fine-tuning the hyperparameters of MLPClassifier can be time consuming (in hours). As a result, you should be careful about the hyperparameters you would like to fine-tune and their parameter grids (assuming you are using GridSearchCV).\n",
        "- As always, the code should\n",
        "    - be bug-free (note that the output produced by your solution may not necessarily be the same as the provided output, due to version issues)\n",
        "    - be commented\n",
        "- **Marks will be deducted if the above requirements (for the code) are not met**\n",
        "- Submit an ipynb file named midterm.ipynb to [blackboard](https://blackboard.gwu.edu) folder /Tests/midterm/"
      ]
    },
    {
      "cell_type": "markdown",
      "metadata": {
        "colab_type": "text",
        "id": "bsx_w6htQb50"
      },
      "source": [
        "# Data Preprocessing"
      ]
    },
    {
      "cell_type": "markdown",
      "metadata": {
        "colab_type": "text",
        "id": "cil-vrf8Qb51"
      },
      "source": [
        "## Loading data"
      ]
    },
    {
      "cell_type": "code",
      "metadata": {
        "colab_type": "code",
        "id": "eKlm6L2h4x-R",
        "colab": {
          "base_uri": "https://localhost:8080/",
          "height": 105
        },
        "outputId": "e7ae44de-bd85-4474-b2c1-a290d9a2e579"
      },
      "source": [
        "# Implement me\n",
        "import matplotlib.pyplot as plt\n",
        "import pandas as pd\n",
        "import seaborn as sns\n",
        "from sklearn.model_selection import train_test_split\n",
        "!ls\n",
        "# Load the raw all data\n",
        "df_raw_all = pd.read_csv('high_diamond_ranked_10min.csv', header=0)\n",
        "# Make a copy of df_raw_all\n",
        "df_all = df_raw_all.copy(deep=True)"
      ],
      "execution_count": 210,
      "outputs": [
        {
          "output_type": "stream",
          "text": [
            " CNN_model.hdf5        high_diamond_ranked_10min.csv   sample_data\n",
            "'CNN Model loss.png'   MLP.h5\t\t\t       submission.csv\n",
            " cv_results\t       MLP_model.hdf5\n",
            " figure\t\t      'Model loss.png'\n"
          ],
          "name": "stdout"
        }
      ]
    },
    {
      "cell_type": "code",
      "metadata": {
        "colab_type": "code",
        "id": "CvbeQ0t5xH1F",
        "outputId": "fcc7b3c1-4f62-46e2-b810-fc8bd6e644fd",
        "colab": {
          "base_uri": "https://localhost:8080/",
          "height": 117
        }
      },
      "source": [
        "# Print the dimension of df_train\n",
        "pd.DataFrame([[df_all.shape[0], df_all.shape[1]]], columns=['# rows', '# columns'])"
      ],
      "execution_count": 211,
      "outputs": [
        {
          "output_type": "execute_result",
          "data": {
            "text/html": [
              "<div>\n",
              "<style scoped>\n",
              "    .dataframe tbody tr th:only-of-type {\n",
              "        vertical-align: middle;\n",
              "    }\n",
              "\n",
              "    .dataframe tbody tr th {\n",
              "        vertical-align: top;\n",
              "    }\n",
              "\n",
              "    .dataframe thead th {\n",
              "        text-align: right;\n",
              "    }\n",
              "</style>\n",
              "<table border=\"1\" class=\"dataframe\">\n",
              "  <thead>\n",
              "    <tr style=\"text-align: right;\">\n",
              "      <th></th>\n",
              "      <th># rows</th>\n",
              "      <th># columns</th>\n",
              "    </tr>\n",
              "  </thead>\n",
              "  <tbody>\n",
              "    <tr>\n",
              "      <th>0</th>\n",
              "      <td>9879</td>\n",
              "      <td>40</td>\n",
              "    </tr>\n",
              "  </tbody>\n",
              "</table>\n",
              "</div>"
            ],
            "text/plain": [
              "   # rows  # columns\n",
              "0    9879         40"
            ]
          },
          "metadata": {
            "tags": []
          },
          "execution_count": 211
        }
      ]
    },
    {
      "cell_type": "code",
      "metadata": {
        "colab_type": "code",
        "id": "niUKfmLLxKl3",
        "outputId": "ffeeee0f-59a1-435b-df1e-751e0274dbe9",
        "colab": {
          "base_uri": "https://localhost:8080/",
          "height": 258
        }
      },
      "source": [
        "# Print the first 5 rows of df_train\n",
        "df_all.columns"
      ],
      "execution_count": 212,
      "outputs": [
        {
          "output_type": "execute_result",
          "data": {
            "text/plain": [
              "Index(['gameId', 'blueWins', 'blueWardsPlaced', 'blueWardsDestroyed',\n",
              "       'blueFirstBlood', 'blueKills', 'blueDeaths', 'blueAssists',\n",
              "       'blueEliteMonsters', 'blueDragons', 'blueHeralds',\n",
              "       'blueTowersDestroyed', 'blueTotalGold', 'blueAvgLevel',\n",
              "       'blueTotalExperience', 'blueTotalMinionsKilled',\n",
              "       'blueTotalJungleMinionsKilled', 'blueGoldDiff', 'blueExperienceDiff',\n",
              "       'blueCSPerMin', 'blueGoldPerMin', 'redWardsPlaced', 'redWardsDestroyed',\n",
              "       'redFirstBlood', 'redKills', 'redDeaths', 'redAssists',\n",
              "       'redEliteMonsters', 'redDragons', 'redHeralds', 'redTowersDestroyed',\n",
              "       'redTotalGold', 'redAvgLevel', 'redTotalExperience',\n",
              "       'redTotalMinionsKilled', 'redTotalJungleMinionsKilled', 'redGoldDiff',\n",
              "       'redExperienceDiff', 'redCSPerMin', 'redGoldPerMin'],\n",
              "      dtype='object')"
            ]
          },
          "metadata": {
            "tags": []
          },
          "execution_count": 212
        }
      ]
    },
    {
      "cell_type": "code",
      "metadata": {
        "colab_type": "code",
        "id": "DSagmLJkxPwx",
        "outputId": "2a7cf0cf-64fb-4030-a591-702533d82ac0",
        "colab": {
          "base_uri": "https://localhost:8080/",
          "height": 54
        }
      },
      "source": [
        "plt.figure(figsize=(40,40)) \n",
        "\n",
        "def find_relation(df, cor = 1):\n",
        "    li = set()\n",
        "    column_li = df.columns\n",
        "    corr = df.corr()\n",
        "    for i in column_li:\n",
        "        for j in column_li:\n",
        "            if i != j and abs(corr[i][j]) == cor:\n",
        "                #print('{i}-{j}-{cor}'.format(i=i, j=j, cor=corr[i][j]))\n",
        "                temp = frozenset([i,j,corr[i][j]])\n",
        "                li.add(temp)\n",
        "    return li"
      ],
      "execution_count": 213,
      "outputs": [
        {
          "output_type": "display_data",
          "data": {
            "text/plain": [
              "<Figure size 2880x2880 with 0 Axes>"
            ]
          },
          "metadata": {
            "tags": []
          }
        }
      ]
    },
    {
      "cell_type": "code",
      "metadata": {
        "id": "AsadVNAyXVo-",
        "colab_type": "code",
        "colab": {
          "base_uri": "https://localhost:8080/",
          "height": 122
        },
        "outputId": "51b21366-cd4a-47d2-ee10-5276421e8dd8"
      },
      "source": [
        "set(find_relation(df_all))"
      ],
      "execution_count": 214,
      "outputs": [
        {
          "output_type": "execute_result",
          "data": {
            "text/plain": [
              "{frozenset({-1.0, 'blueExperienceDiff', 'redExperienceDiff'}),\n",
              " frozenset({-1.0, 'blueGoldDiff', 'redGoldDiff'}),\n",
              " frozenset({1.0, 'blueDeaths', 'redKills'}),\n",
              " frozenset({-1.0, 'blueFirstBlood', 'redFirstBlood'}),\n",
              " frozenset({1.0, 'blueKills', 'redDeaths'})}"
            ]
          },
          "metadata": {
            "tags": []
          },
          "execution_count": 214
        }
      ]
    },
    {
      "cell_type": "code",
      "metadata": {
        "id": "VVTIWkllXVpA",
        "colab_type": "code",
        "colab": {}
      },
      "source": [
        "df_all = df_all.drop(columns=['redGoldDiff', 'redKills', 'redFirstBlood', 'redDeaths', 'redExperienceDiff'])"
      ],
      "execution_count": 0,
      "outputs": []
    },
    {
      "cell_type": "markdown",
      "metadata": {
        "colab_type": "text",
        "id": "JM8_plJeQb6D"
      },
      "source": [
        "## Dividing the training data into training and validation"
      ]
    },
    {
      "cell_type": "code",
      "metadata": {
        "id": "Wwn01DxdXVpC",
        "colab_type": "code",
        "colab": {}
      },
      "source": [
        "# Divide the all data into training (50%) and testing (50%)\n",
        "df_train, df_test = train_test_split(df_all, train_size=0.7, random_state=42)\n",
        "\n",
        "# Divide the training data into training (80%) and validation (20%)\n",
        "df_train, df_valid = train_test_split(df_train, train_size=0.8, random_state=42)\n",
        "\n",
        "# Reset the index\n",
        "df_train, df_test, df_valid = df_train.reset_index(drop=True), df_test.reset_index(drop=True), df_valid.reset_index(drop=True)\n"
      ],
      "execution_count": 0,
      "outputs": []
    },
    {
      "cell_type": "code",
      "metadata": {
        "id": "vNdxQgV1XVpE",
        "colab_type": "code",
        "colab": {
          "base_uri": "https://localhost:8080/",
          "height": 117
        },
        "outputId": "9b6ed358-2917-4cb9-a17e-20c1437d664a"
      },
      "source": [
        "# Print the dimension of df_train\n",
        "pd.DataFrame([[df_train.shape[0], df_train.shape[1]]], columns=['# rows', '# columns'])"
      ],
      "execution_count": 217,
      "outputs": [
        {
          "output_type": "execute_result",
          "data": {
            "text/html": [
              "<div>\n",
              "<style scoped>\n",
              "    .dataframe tbody tr th:only-of-type {\n",
              "        vertical-align: middle;\n",
              "    }\n",
              "\n",
              "    .dataframe tbody tr th {\n",
              "        vertical-align: top;\n",
              "    }\n",
              "\n",
              "    .dataframe thead th {\n",
              "        text-align: right;\n",
              "    }\n",
              "</style>\n",
              "<table border=\"1\" class=\"dataframe\">\n",
              "  <thead>\n",
              "    <tr style=\"text-align: right;\">\n",
              "      <th></th>\n",
              "      <th># rows</th>\n",
              "      <th># columns</th>\n",
              "    </tr>\n",
              "  </thead>\n",
              "  <tbody>\n",
              "    <tr>\n",
              "      <th>0</th>\n",
              "      <td>5532</td>\n",
              "      <td>35</td>\n",
              "    </tr>\n",
              "  </tbody>\n",
              "</table>\n",
              "</div>"
            ],
            "text/plain": [
              "   # rows  # columns\n",
              "0    5532         35"
            ]
          },
          "metadata": {
            "tags": []
          },
          "execution_count": 217
        }
      ]
    },
    {
      "cell_type": "code",
      "metadata": {
        "id": "ncv32XHOXVpF",
        "colab_type": "code",
        "colab": {
          "base_uri": "https://localhost:8080/",
          "height": 117
        },
        "outputId": "fbf056d1-019f-4aa5-a5d9-7b775a75b4ac"
      },
      "source": [
        "# Print the dimension of df_valid\n",
        "pd.DataFrame([[df_valid.shape[0], df_valid.shape[1]]], columns=['# rows', '# columns'])"
      ],
      "execution_count": 218,
      "outputs": [
        {
          "output_type": "execute_result",
          "data": {
            "text/html": [
              "<div>\n",
              "<style scoped>\n",
              "    .dataframe tbody tr th:only-of-type {\n",
              "        vertical-align: middle;\n",
              "    }\n",
              "\n",
              "    .dataframe tbody tr th {\n",
              "        vertical-align: top;\n",
              "    }\n",
              "\n",
              "    .dataframe thead th {\n",
              "        text-align: right;\n",
              "    }\n",
              "</style>\n",
              "<table border=\"1\" class=\"dataframe\">\n",
              "  <thead>\n",
              "    <tr style=\"text-align: right;\">\n",
              "      <th></th>\n",
              "      <th># rows</th>\n",
              "      <th># columns</th>\n",
              "    </tr>\n",
              "  </thead>\n",
              "  <tbody>\n",
              "    <tr>\n",
              "      <th>0</th>\n",
              "      <td>1383</td>\n",
              "      <td>35</td>\n",
              "    </tr>\n",
              "  </tbody>\n",
              "</table>\n",
              "</div>"
            ],
            "text/plain": [
              "   # rows  # columns\n",
              "0    1383         35"
            ]
          },
          "metadata": {
            "tags": []
          },
          "execution_count": 218
        }
      ]
    },
    {
      "cell_type": "code",
      "metadata": {
        "id": "JUn-mWKeXVpH",
        "colab_type": "code",
        "colab": {
          "base_uri": "https://localhost:8080/",
          "height": 117
        },
        "outputId": "569af3e8-8520-4b40-f3fb-b63c38ad27c2"
      },
      "source": [
        "# Print the dimension of df_test\n",
        "#df_test = df_test.drop(columns=['blueWins'])\n",
        "pd.DataFrame([[df_test.shape[0], df_test.shape[1]]], columns=['# rows', '# columns'])"
      ],
      "execution_count": 219,
      "outputs": [
        {
          "output_type": "execute_result",
          "data": {
            "text/html": [
              "<div>\n",
              "<style scoped>\n",
              "    .dataframe tbody tr th:only-of-type {\n",
              "        vertical-align: middle;\n",
              "    }\n",
              "\n",
              "    .dataframe tbody tr th {\n",
              "        vertical-align: top;\n",
              "    }\n",
              "\n",
              "    .dataframe thead th {\n",
              "        text-align: right;\n",
              "    }\n",
              "</style>\n",
              "<table border=\"1\" class=\"dataframe\">\n",
              "  <thead>\n",
              "    <tr style=\"text-align: right;\">\n",
              "      <th></th>\n",
              "      <th># rows</th>\n",
              "      <th># columns</th>\n",
              "    </tr>\n",
              "  </thead>\n",
              "  <tbody>\n",
              "    <tr>\n",
              "      <th>0</th>\n",
              "      <td>2964</td>\n",
              "      <td>35</td>\n",
              "    </tr>\n",
              "  </tbody>\n",
              "</table>\n",
              "</div>"
            ],
            "text/plain": [
              "   # rows  # columns\n",
              "0    2964         35"
            ]
          },
          "metadata": {
            "tags": []
          },
          "execution_count": 219
        }
      ]
    },
    {
      "cell_type": "markdown",
      "metadata": {
        "colab_type": "text",
        "id": "HRZB2nLmQb6B"
      },
      "source": [
        "## Getting the name of the target"
      ]
    },
    {
      "cell_type": "code",
      "metadata": {
        "colab_type": "code",
        "id": "mO7wcqbr41gG",
        "colab": {}
      },
      "source": [
        "# Implement me\n",
        "target = 'blueWins'"
      ],
      "execution_count": 0,
      "outputs": []
    },
    {
      "cell_type": "markdown",
      "metadata": {
        "colab_type": "text",
        "id": "OqsjRIojQb6H"
      },
      "source": [
        "## Handling the identifiers"
      ]
    },
    {
      "cell_type": "code",
      "metadata": {
        "colab_type": "code",
        "id": "MDsuzJVI47yU",
        "colab": {}
      },
      "source": [
        "# Implement me\n",
        "# Combine df_train, df_valid and df_test\n",
        "df = pd.concat([df_train, df_valid, df_test], sort=False)\n"
      ],
      "execution_count": 0,
      "outputs": []
    },
    {
      "cell_type": "code",
      "metadata": {
        "colab_type": "code",
        "id": "t0ASfUF_2ZUy",
        "colab": {}
      },
      "source": [
        "def id_checker(df):\n",
        "    \"\"\"\n",
        "    The identifier checker\n",
        "\n",
        "    Parameters\n",
        "    ----------\n",
        "    df : dataframe\n",
        "    \n",
        "    Returns\n",
        "    ----------\n",
        "    The dataframe of identifiers\n",
        "    \"\"\"\n",
        "    \n",
        "    # Get the identifiers\n",
        "    df_id = df[[var for var in df.columns \n",
        "                if df[var].nunique(dropna=True) == df[var].notnull().sum()]]\n",
        "    \n",
        "    return df_id"
      ],
      "execution_count": 0,
      "outputs": []
    },
    {
      "cell_type": "code",
      "metadata": {
        "colab_type": "code",
        "id": "aIcYwgF62cgU",
        "outputId": "889a0a8a-ad66-47ec-ac44-449a958450e3",
        "colab": {
          "base_uri": "https://localhost:8080/",
          "height": 224
        }
      },
      "source": [
        "# Call id_checker on df\n",
        "df_id = id_checker(df)\n",
        "\n",
        "# Print the first 5 rows of df_id\n",
        "df_id.head()"
      ],
      "execution_count": 223,
      "outputs": [
        {
          "output_type": "execute_result",
          "data": {
            "text/html": [
              "<div>\n",
              "<style scoped>\n",
              "    .dataframe tbody tr th:only-of-type {\n",
              "        vertical-align: middle;\n",
              "    }\n",
              "\n",
              "    .dataframe tbody tr th {\n",
              "        vertical-align: top;\n",
              "    }\n",
              "\n",
              "    .dataframe thead th {\n",
              "        text-align: right;\n",
              "    }\n",
              "</style>\n",
              "<table border=\"1\" class=\"dataframe\">\n",
              "  <thead>\n",
              "    <tr style=\"text-align: right;\">\n",
              "      <th></th>\n",
              "      <th>gameId</th>\n",
              "    </tr>\n",
              "  </thead>\n",
              "  <tbody>\n",
              "    <tr>\n",
              "      <th>0</th>\n",
              "      <td>4509390548</td>\n",
              "    </tr>\n",
              "    <tr>\n",
              "      <th>1</th>\n",
              "      <td>4482519172</td>\n",
              "    </tr>\n",
              "    <tr>\n",
              "      <th>2</th>\n",
              "      <td>4521060051</td>\n",
              "    </tr>\n",
              "    <tr>\n",
              "      <th>3</th>\n",
              "      <td>4522058891</td>\n",
              "    </tr>\n",
              "    <tr>\n",
              "      <th>4</th>\n",
              "      <td>4511383179</td>\n",
              "    </tr>\n",
              "  </tbody>\n",
              "</table>\n",
              "</div>"
            ],
            "text/plain": [
              "       gameId\n",
              "0  4509390548\n",
              "1  4482519172\n",
              "2  4521060051\n",
              "3  4522058891\n",
              "4  4511383179"
            ]
          },
          "metadata": {
            "tags": []
          },
          "execution_count": 223
        }
      ]
    },
    {
      "cell_type": "code",
      "metadata": {
        "id": "M5csRfpgXVpO",
        "colab_type": "code",
        "colab": {}
      },
      "source": [
        "identifier = df_id.columns[0]"
      ],
      "execution_count": 0,
      "outputs": []
    },
    {
      "cell_type": "code",
      "metadata": {
        "colab_type": "code",
        "id": "N23ei94A3Wjj",
        "colab": {}
      },
      "source": [
        "import numpy as np\n",
        "\n",
        "# Remove the identifiers from df_train\n",
        "df_train = df_train.drop(columns=np.intersect1d(identifier, df_train.columns))\n",
        "\n",
        "# Remove the identifiers from df_valid\n",
        "df_valid = df_valid.drop(columns=np.intersect1d(identifier, df_valid.columns))\n",
        "\n",
        "# Remove the identifiers from df_test\n",
        "df_test = df_test.drop(columns=np.intersect1d(identifier, df_test.columns))"
      ],
      "execution_count": 0,
      "outputs": []
    },
    {
      "cell_type": "code",
      "metadata": {
        "colab_type": "code",
        "id": "4YkkJC3O3gVs",
        "outputId": "9397f5b3-8319-455c-f038-815e8e44b86a",
        "colab": {
          "base_uri": "https://localhost:8080/",
          "height": 224
        }
      },
      "source": [
        "# Print the first 5 rows of df_train\n",
        "df_train.head()"
      ],
      "execution_count": 226,
      "outputs": [
        {
          "output_type": "execute_result",
          "data": {
            "text/html": [
              "<div>\n",
              "<style scoped>\n",
              "    .dataframe tbody tr th:only-of-type {\n",
              "        vertical-align: middle;\n",
              "    }\n",
              "\n",
              "    .dataframe tbody tr th {\n",
              "        vertical-align: top;\n",
              "    }\n",
              "\n",
              "    .dataframe thead th {\n",
              "        text-align: right;\n",
              "    }\n",
              "</style>\n",
              "<table border=\"1\" class=\"dataframe\">\n",
              "  <thead>\n",
              "    <tr style=\"text-align: right;\">\n",
              "      <th></th>\n",
              "      <th>blueWins</th>\n",
              "      <th>blueWardsPlaced</th>\n",
              "      <th>blueWardsDestroyed</th>\n",
              "      <th>blueFirstBlood</th>\n",
              "      <th>blueKills</th>\n",
              "      <th>blueDeaths</th>\n",
              "      <th>blueAssists</th>\n",
              "      <th>blueEliteMonsters</th>\n",
              "      <th>blueDragons</th>\n",
              "      <th>blueHeralds</th>\n",
              "      <th>blueTowersDestroyed</th>\n",
              "      <th>blueTotalGold</th>\n",
              "      <th>blueAvgLevel</th>\n",
              "      <th>blueTotalExperience</th>\n",
              "      <th>blueTotalMinionsKilled</th>\n",
              "      <th>blueTotalJungleMinionsKilled</th>\n",
              "      <th>blueGoldDiff</th>\n",
              "      <th>blueExperienceDiff</th>\n",
              "      <th>blueCSPerMin</th>\n",
              "      <th>blueGoldPerMin</th>\n",
              "      <th>redWardsPlaced</th>\n",
              "      <th>redWardsDestroyed</th>\n",
              "      <th>redAssists</th>\n",
              "      <th>redEliteMonsters</th>\n",
              "      <th>redDragons</th>\n",
              "      <th>redHeralds</th>\n",
              "      <th>redTowersDestroyed</th>\n",
              "      <th>redTotalGold</th>\n",
              "      <th>redAvgLevel</th>\n",
              "      <th>redTotalExperience</th>\n",
              "      <th>redTotalMinionsKilled</th>\n",
              "      <th>redTotalJungleMinionsKilled</th>\n",
              "      <th>redCSPerMin</th>\n",
              "      <th>redGoldPerMin</th>\n",
              "    </tr>\n",
              "  </thead>\n",
              "  <tbody>\n",
              "    <tr>\n",
              "      <th>0</th>\n",
              "      <td>0</td>\n",
              "      <td>16</td>\n",
              "      <td>0</td>\n",
              "      <td>1</td>\n",
              "      <td>6</td>\n",
              "      <td>9</td>\n",
              "      <td>9</td>\n",
              "      <td>0</td>\n",
              "      <td>0</td>\n",
              "      <td>0</td>\n",
              "      <td>0</td>\n",
              "      <td>15728</td>\n",
              "      <td>6.6</td>\n",
              "      <td>17183</td>\n",
              "      <td>208</td>\n",
              "      <td>44</td>\n",
              "      <td>-2701</td>\n",
              "      <td>-2275</td>\n",
              "      <td>20.8</td>\n",
              "      <td>1572.8</td>\n",
              "      <td>16</td>\n",
              "      <td>2</td>\n",
              "      <td>8</td>\n",
              "      <td>0</td>\n",
              "      <td>0</td>\n",
              "      <td>0</td>\n",
              "      <td>0</td>\n",
              "      <td>18429</td>\n",
              "      <td>7.2</td>\n",
              "      <td>19458</td>\n",
              "      <td>208</td>\n",
              "      <td>56</td>\n",
              "      <td>20.8</td>\n",
              "      <td>1842.9</td>\n",
              "    </tr>\n",
              "    <tr>\n",
              "      <th>1</th>\n",
              "      <td>1</td>\n",
              "      <td>52</td>\n",
              "      <td>4</td>\n",
              "      <td>0</td>\n",
              "      <td>10</td>\n",
              "      <td>4</td>\n",
              "      <td>15</td>\n",
              "      <td>1</td>\n",
              "      <td>1</td>\n",
              "      <td>0</td>\n",
              "      <td>0</td>\n",
              "      <td>18501</td>\n",
              "      <td>7.6</td>\n",
              "      <td>19714</td>\n",
              "      <td>230</td>\n",
              "      <td>64</td>\n",
              "      <td>2907</td>\n",
              "      <td>2700</td>\n",
              "      <td>23.0</td>\n",
              "      <td>1850.1</td>\n",
              "      <td>12</td>\n",
              "      <td>0</td>\n",
              "      <td>6</td>\n",
              "      <td>0</td>\n",
              "      <td>0</td>\n",
              "      <td>0</td>\n",
              "      <td>0</td>\n",
              "      <td>15594</td>\n",
              "      <td>7.0</td>\n",
              "      <td>17014</td>\n",
              "      <td>215</td>\n",
              "      <td>55</td>\n",
              "      <td>21.5</td>\n",
              "      <td>1559.4</td>\n",
              "    </tr>\n",
              "    <tr>\n",
              "      <th>2</th>\n",
              "      <td>0</td>\n",
              "      <td>38</td>\n",
              "      <td>1</td>\n",
              "      <td>0</td>\n",
              "      <td>7</td>\n",
              "      <td>8</td>\n",
              "      <td>9</td>\n",
              "      <td>1</td>\n",
              "      <td>0</td>\n",
              "      <td>1</td>\n",
              "      <td>0</td>\n",
              "      <td>16623</td>\n",
              "      <td>6.8</td>\n",
              "      <td>17503</td>\n",
              "      <td>206</td>\n",
              "      <td>59</td>\n",
              "      <td>-389</td>\n",
              "      <td>329</td>\n",
              "      <td>20.6</td>\n",
              "      <td>1662.3</td>\n",
              "      <td>16</td>\n",
              "      <td>1</td>\n",
              "      <td>10</td>\n",
              "      <td>1</td>\n",
              "      <td>1</td>\n",
              "      <td>0</td>\n",
              "      <td>0</td>\n",
              "      <td>17012</td>\n",
              "      <td>6.8</td>\n",
              "      <td>17174</td>\n",
              "      <td>225</td>\n",
              "      <td>43</td>\n",
              "      <td>22.5</td>\n",
              "      <td>1701.2</td>\n",
              "    </tr>\n",
              "    <tr>\n",
              "      <th>3</th>\n",
              "      <td>1</td>\n",
              "      <td>11</td>\n",
              "      <td>1</td>\n",
              "      <td>0</td>\n",
              "      <td>5</td>\n",
              "      <td>6</td>\n",
              "      <td>7</td>\n",
              "      <td>0</td>\n",
              "      <td>0</td>\n",
              "      <td>0</td>\n",
              "      <td>0</td>\n",
              "      <td>15334</td>\n",
              "      <td>6.8</td>\n",
              "      <td>17065</td>\n",
              "      <td>193</td>\n",
              "      <td>45</td>\n",
              "      <td>-2412</td>\n",
              "      <td>-2055</td>\n",
              "      <td>19.3</td>\n",
              "      <td>1533.4</td>\n",
              "      <td>16</td>\n",
              "      <td>2</td>\n",
              "      <td>5</td>\n",
              "      <td>0</td>\n",
              "      <td>0</td>\n",
              "      <td>0</td>\n",
              "      <td>0</td>\n",
              "      <td>17746</td>\n",
              "      <td>7.2</td>\n",
              "      <td>19120</td>\n",
              "      <td>243</td>\n",
              "      <td>54</td>\n",
              "      <td>24.3</td>\n",
              "      <td>1774.6</td>\n",
              "    </tr>\n",
              "    <tr>\n",
              "      <th>4</th>\n",
              "      <td>1</td>\n",
              "      <td>14</td>\n",
              "      <td>4</td>\n",
              "      <td>1</td>\n",
              "      <td>5</td>\n",
              "      <td>2</td>\n",
              "      <td>5</td>\n",
              "      <td>2</td>\n",
              "      <td>1</td>\n",
              "      <td>1</td>\n",
              "      <td>0</td>\n",
              "      <td>16627</td>\n",
              "      <td>6.8</td>\n",
              "      <td>18676</td>\n",
              "      <td>223</td>\n",
              "      <td>50</td>\n",
              "      <td>2359</td>\n",
              "      <td>1681</td>\n",
              "      <td>22.3</td>\n",
              "      <td>1662.7</td>\n",
              "      <td>14</td>\n",
              "      <td>3</td>\n",
              "      <td>3</td>\n",
              "      <td>0</td>\n",
              "      <td>0</td>\n",
              "      <td>0</td>\n",
              "      <td>0</td>\n",
              "      <td>14268</td>\n",
              "      <td>6.6</td>\n",
              "      <td>16995</td>\n",
              "      <td>221</td>\n",
              "      <td>45</td>\n",
              "      <td>22.1</td>\n",
              "      <td>1426.8</td>\n",
              "    </tr>\n",
              "  </tbody>\n",
              "</table>\n",
              "</div>"
            ],
            "text/plain": [
              "   blueWins  blueWardsPlaced  ...  redCSPerMin  redGoldPerMin\n",
              "0         0               16  ...         20.8         1842.9\n",
              "1         1               52  ...         21.5         1559.4\n",
              "2         0               38  ...         22.5         1701.2\n",
              "3         1               11  ...         24.3         1774.6\n",
              "4         1               14  ...         22.1         1426.8\n",
              "\n",
              "[5 rows x 34 columns]"
            ]
          },
          "metadata": {
            "tags": []
          },
          "execution_count": 226
        }
      ]
    },
    {
      "cell_type": "code",
      "metadata": {
        "colab_type": "code",
        "id": "47Czdh5Q3gbQ",
        "outputId": "fead324b-8663-45c7-824c-c8a4890fa49b",
        "colab": {
          "base_uri": "https://localhost:8080/",
          "height": 224
        }
      },
      "source": [
        "# Print the first 5 rows of df_valid\n",
        "df_valid.head()"
      ],
      "execution_count": 227,
      "outputs": [
        {
          "output_type": "execute_result",
          "data": {
            "text/html": [
              "<div>\n",
              "<style scoped>\n",
              "    .dataframe tbody tr th:only-of-type {\n",
              "        vertical-align: middle;\n",
              "    }\n",
              "\n",
              "    .dataframe tbody tr th {\n",
              "        vertical-align: top;\n",
              "    }\n",
              "\n",
              "    .dataframe thead th {\n",
              "        text-align: right;\n",
              "    }\n",
              "</style>\n",
              "<table border=\"1\" class=\"dataframe\">\n",
              "  <thead>\n",
              "    <tr style=\"text-align: right;\">\n",
              "      <th></th>\n",
              "      <th>blueWins</th>\n",
              "      <th>blueWardsPlaced</th>\n",
              "      <th>blueWardsDestroyed</th>\n",
              "      <th>blueFirstBlood</th>\n",
              "      <th>blueKills</th>\n",
              "      <th>blueDeaths</th>\n",
              "      <th>blueAssists</th>\n",
              "      <th>blueEliteMonsters</th>\n",
              "      <th>blueDragons</th>\n",
              "      <th>blueHeralds</th>\n",
              "      <th>blueTowersDestroyed</th>\n",
              "      <th>blueTotalGold</th>\n",
              "      <th>blueAvgLevel</th>\n",
              "      <th>blueTotalExperience</th>\n",
              "      <th>blueTotalMinionsKilled</th>\n",
              "      <th>blueTotalJungleMinionsKilled</th>\n",
              "      <th>blueGoldDiff</th>\n",
              "      <th>blueExperienceDiff</th>\n",
              "      <th>blueCSPerMin</th>\n",
              "      <th>blueGoldPerMin</th>\n",
              "      <th>redWardsPlaced</th>\n",
              "      <th>redWardsDestroyed</th>\n",
              "      <th>redAssists</th>\n",
              "      <th>redEliteMonsters</th>\n",
              "      <th>redDragons</th>\n",
              "      <th>redHeralds</th>\n",
              "      <th>redTowersDestroyed</th>\n",
              "      <th>redTotalGold</th>\n",
              "      <th>redAvgLevel</th>\n",
              "      <th>redTotalExperience</th>\n",
              "      <th>redTotalMinionsKilled</th>\n",
              "      <th>redTotalJungleMinionsKilled</th>\n",
              "      <th>redCSPerMin</th>\n",
              "      <th>redGoldPerMin</th>\n",
              "    </tr>\n",
              "  </thead>\n",
              "  <tbody>\n",
              "    <tr>\n",
              "      <th>0</th>\n",
              "      <td>0</td>\n",
              "      <td>19</td>\n",
              "      <td>0</td>\n",
              "      <td>0</td>\n",
              "      <td>8</td>\n",
              "      <td>8</td>\n",
              "      <td>4</td>\n",
              "      <td>1</td>\n",
              "      <td>1</td>\n",
              "      <td>0</td>\n",
              "      <td>0</td>\n",
              "      <td>16359</td>\n",
              "      <td>7.0</td>\n",
              "      <td>17830</td>\n",
              "      <td>204</td>\n",
              "      <td>56</td>\n",
              "      <td>-736</td>\n",
              "      <td>-226</td>\n",
              "      <td>20.4</td>\n",
              "      <td>1635.9</td>\n",
              "      <td>12</td>\n",
              "      <td>3</td>\n",
              "      <td>7</td>\n",
              "      <td>1</td>\n",
              "      <td>0</td>\n",
              "      <td>1</td>\n",
              "      <td>0</td>\n",
              "      <td>17095</td>\n",
              "      <td>7.2</td>\n",
              "      <td>18056</td>\n",
              "      <td>232</td>\n",
              "      <td>39</td>\n",
              "      <td>23.2</td>\n",
              "      <td>1709.5</td>\n",
              "    </tr>\n",
              "    <tr>\n",
              "      <th>1</th>\n",
              "      <td>1</td>\n",
              "      <td>39</td>\n",
              "      <td>1</td>\n",
              "      <td>0</td>\n",
              "      <td>7</td>\n",
              "      <td>6</td>\n",
              "      <td>6</td>\n",
              "      <td>0</td>\n",
              "      <td>0</td>\n",
              "      <td>0</td>\n",
              "      <td>0</td>\n",
              "      <td>17605</td>\n",
              "      <td>7.4</td>\n",
              "      <td>19964</td>\n",
              "      <td>254</td>\n",
              "      <td>64</td>\n",
              "      <td>1564</td>\n",
              "      <td>668</td>\n",
              "      <td>25.4</td>\n",
              "      <td>1760.5</td>\n",
              "      <td>17</td>\n",
              "      <td>2</td>\n",
              "      <td>3</td>\n",
              "      <td>1</td>\n",
              "      <td>1</td>\n",
              "      <td>0</td>\n",
              "      <td>0</td>\n",
              "      <td>16041</td>\n",
              "      <td>7.2</td>\n",
              "      <td>19296</td>\n",
              "      <td>214</td>\n",
              "      <td>44</td>\n",
              "      <td>21.4</td>\n",
              "      <td>1604.1</td>\n",
              "    </tr>\n",
              "    <tr>\n",
              "      <th>2</th>\n",
              "      <td>0</td>\n",
              "      <td>18</td>\n",
              "      <td>3</td>\n",
              "      <td>0</td>\n",
              "      <td>3</td>\n",
              "      <td>7</td>\n",
              "      <td>3</td>\n",
              "      <td>0</td>\n",
              "      <td>0</td>\n",
              "      <td>0</td>\n",
              "      <td>0</td>\n",
              "      <td>15355</td>\n",
              "      <td>6.6</td>\n",
              "      <td>17119</td>\n",
              "      <td>204</td>\n",
              "      <td>43</td>\n",
              "      <td>-2215</td>\n",
              "      <td>-2114</td>\n",
              "      <td>20.4</td>\n",
              "      <td>1535.5</td>\n",
              "      <td>16</td>\n",
              "      <td>2</td>\n",
              "      <td>8</td>\n",
              "      <td>2</td>\n",
              "      <td>1</td>\n",
              "      <td>1</td>\n",
              "      <td>0</td>\n",
              "      <td>17570</td>\n",
              "      <td>7.2</td>\n",
              "      <td>19233</td>\n",
              "      <td>240</td>\n",
              "      <td>65</td>\n",
              "      <td>24.0</td>\n",
              "      <td>1757.0</td>\n",
              "    </tr>\n",
              "    <tr>\n",
              "      <th>3</th>\n",
              "      <td>1</td>\n",
              "      <td>14</td>\n",
              "      <td>0</td>\n",
              "      <td>1</td>\n",
              "      <td>5</td>\n",
              "      <td>7</td>\n",
              "      <td>5</td>\n",
              "      <td>1</td>\n",
              "      <td>0</td>\n",
              "      <td>1</td>\n",
              "      <td>0</td>\n",
              "      <td>15135</td>\n",
              "      <td>6.6</td>\n",
              "      <td>17507</td>\n",
              "      <td>176</td>\n",
              "      <td>68</td>\n",
              "      <td>-2497</td>\n",
              "      <td>-1376</td>\n",
              "      <td>17.6</td>\n",
              "      <td>1513.5</td>\n",
              "      <td>12</td>\n",
              "      <td>3</td>\n",
              "      <td>9</td>\n",
              "      <td>1</td>\n",
              "      <td>1</td>\n",
              "      <td>0</td>\n",
              "      <td>0</td>\n",
              "      <td>17632</td>\n",
              "      <td>7.2</td>\n",
              "      <td>18883</td>\n",
              "      <td>231</td>\n",
              "      <td>68</td>\n",
              "      <td>23.1</td>\n",
              "      <td>1763.2</td>\n",
              "    </tr>\n",
              "    <tr>\n",
              "      <th>4</th>\n",
              "      <td>0</td>\n",
              "      <td>9</td>\n",
              "      <td>1</td>\n",
              "      <td>0</td>\n",
              "      <td>0</td>\n",
              "      <td>9</td>\n",
              "      <td>0</td>\n",
              "      <td>0</td>\n",
              "      <td>0</td>\n",
              "      <td>0</td>\n",
              "      <td>0</td>\n",
              "      <td>12756</td>\n",
              "      <td>6.4</td>\n",
              "      <td>16250</td>\n",
              "      <td>190</td>\n",
              "      <td>54</td>\n",
              "      <td>-4949</td>\n",
              "      <td>-4010</td>\n",
              "      <td>19.0</td>\n",
              "      <td>1275.6</td>\n",
              "      <td>15</td>\n",
              "      <td>2</td>\n",
              "      <td>7</td>\n",
              "      <td>2</td>\n",
              "      <td>1</td>\n",
              "      <td>1</td>\n",
              "      <td>0</td>\n",
              "      <td>17705</td>\n",
              "      <td>7.4</td>\n",
              "      <td>20260</td>\n",
              "      <td>253</td>\n",
              "      <td>52</td>\n",
              "      <td>25.3</td>\n",
              "      <td>1770.5</td>\n",
              "    </tr>\n",
              "  </tbody>\n",
              "</table>\n",
              "</div>"
            ],
            "text/plain": [
              "   blueWins  blueWardsPlaced  ...  redCSPerMin  redGoldPerMin\n",
              "0         0               19  ...         23.2         1709.5\n",
              "1         1               39  ...         21.4         1604.1\n",
              "2         0               18  ...         24.0         1757.0\n",
              "3         1               14  ...         23.1         1763.2\n",
              "4         0                9  ...         25.3         1770.5\n",
              "\n",
              "[5 rows x 34 columns]"
            ]
          },
          "metadata": {
            "tags": []
          },
          "execution_count": 227
        }
      ]
    },
    {
      "cell_type": "code",
      "metadata": {
        "colab_type": "code",
        "id": "6AcMGgoo3ghM",
        "outputId": "b66bbb85-870b-4560-e15a-8e1379f9129c",
        "colab": {
          "base_uri": "https://localhost:8080/",
          "height": 224
        }
      },
      "source": [
        "# Print the first 5 rows of df_test\n",
        "df_test.head()"
      ],
      "execution_count": 228,
      "outputs": [
        {
          "output_type": "execute_result",
          "data": {
            "text/html": [
              "<div>\n",
              "<style scoped>\n",
              "    .dataframe tbody tr th:only-of-type {\n",
              "        vertical-align: middle;\n",
              "    }\n",
              "\n",
              "    .dataframe tbody tr th {\n",
              "        vertical-align: top;\n",
              "    }\n",
              "\n",
              "    .dataframe thead th {\n",
              "        text-align: right;\n",
              "    }\n",
              "</style>\n",
              "<table border=\"1\" class=\"dataframe\">\n",
              "  <thead>\n",
              "    <tr style=\"text-align: right;\">\n",
              "      <th></th>\n",
              "      <th>blueWins</th>\n",
              "      <th>blueWardsPlaced</th>\n",
              "      <th>blueWardsDestroyed</th>\n",
              "      <th>blueFirstBlood</th>\n",
              "      <th>blueKills</th>\n",
              "      <th>blueDeaths</th>\n",
              "      <th>blueAssists</th>\n",
              "      <th>blueEliteMonsters</th>\n",
              "      <th>blueDragons</th>\n",
              "      <th>blueHeralds</th>\n",
              "      <th>blueTowersDestroyed</th>\n",
              "      <th>blueTotalGold</th>\n",
              "      <th>blueAvgLevel</th>\n",
              "      <th>blueTotalExperience</th>\n",
              "      <th>blueTotalMinionsKilled</th>\n",
              "      <th>blueTotalJungleMinionsKilled</th>\n",
              "      <th>blueGoldDiff</th>\n",
              "      <th>blueExperienceDiff</th>\n",
              "      <th>blueCSPerMin</th>\n",
              "      <th>blueGoldPerMin</th>\n",
              "      <th>redWardsPlaced</th>\n",
              "      <th>redWardsDestroyed</th>\n",
              "      <th>redAssists</th>\n",
              "      <th>redEliteMonsters</th>\n",
              "      <th>redDragons</th>\n",
              "      <th>redHeralds</th>\n",
              "      <th>redTowersDestroyed</th>\n",
              "      <th>redTotalGold</th>\n",
              "      <th>redAvgLevel</th>\n",
              "      <th>redTotalExperience</th>\n",
              "      <th>redTotalMinionsKilled</th>\n",
              "      <th>redTotalJungleMinionsKilled</th>\n",
              "      <th>redCSPerMin</th>\n",
              "      <th>redGoldPerMin</th>\n",
              "    </tr>\n",
              "  </thead>\n",
              "  <tbody>\n",
              "    <tr>\n",
              "      <th>0</th>\n",
              "      <td>0</td>\n",
              "      <td>14</td>\n",
              "      <td>2</td>\n",
              "      <td>0</td>\n",
              "      <td>4</td>\n",
              "      <td>8</td>\n",
              "      <td>3</td>\n",
              "      <td>2</td>\n",
              "      <td>1</td>\n",
              "      <td>1</td>\n",
              "      <td>0</td>\n",
              "      <td>14885</td>\n",
              "      <td>6.8</td>\n",
              "      <td>17810</td>\n",
              "      <td>192</td>\n",
              "      <td>59</td>\n",
              "      <td>-4790</td>\n",
              "      <td>-2126</td>\n",
              "      <td>19.2</td>\n",
              "      <td>1488.5</td>\n",
              "      <td>89</td>\n",
              "      <td>2</td>\n",
              "      <td>5</td>\n",
              "      <td>0</td>\n",
              "      <td>0</td>\n",
              "      <td>0</td>\n",
              "      <td>1</td>\n",
              "      <td>19675</td>\n",
              "      <td>7.4</td>\n",
              "      <td>19936</td>\n",
              "      <td>232</td>\n",
              "      <td>67</td>\n",
              "      <td>23.2</td>\n",
              "      <td>1967.5</td>\n",
              "    </tr>\n",
              "    <tr>\n",
              "      <th>1</th>\n",
              "      <td>1</td>\n",
              "      <td>15</td>\n",
              "      <td>1</td>\n",
              "      <td>1</td>\n",
              "      <td>10</td>\n",
              "      <td>5</td>\n",
              "      <td>10</td>\n",
              "      <td>0</td>\n",
              "      <td>0</td>\n",
              "      <td>0</td>\n",
              "      <td>0</td>\n",
              "      <td>17878</td>\n",
              "      <td>7.0</td>\n",
              "      <td>18248</td>\n",
              "      <td>214</td>\n",
              "      <td>52</td>\n",
              "      <td>2301</td>\n",
              "      <td>603</td>\n",
              "      <td>21.4</td>\n",
              "      <td>1787.8</td>\n",
              "      <td>37</td>\n",
              "      <td>1</td>\n",
              "      <td>5</td>\n",
              "      <td>0</td>\n",
              "      <td>0</td>\n",
              "      <td>0</td>\n",
              "      <td>0</td>\n",
              "      <td>15577</td>\n",
              "      <td>6.8</td>\n",
              "      <td>17645</td>\n",
              "      <td>203</td>\n",
              "      <td>44</td>\n",
              "      <td>20.3</td>\n",
              "      <td>1557.7</td>\n",
              "    </tr>\n",
              "    <tr>\n",
              "      <th>2</th>\n",
              "      <td>1</td>\n",
              "      <td>10</td>\n",
              "      <td>5</td>\n",
              "      <td>0</td>\n",
              "      <td>16</td>\n",
              "      <td>13</td>\n",
              "      <td>16</td>\n",
              "      <td>2</td>\n",
              "      <td>1</td>\n",
              "      <td>1</td>\n",
              "      <td>0</td>\n",
              "      <td>19437</td>\n",
              "      <td>7.0</td>\n",
              "      <td>18500</td>\n",
              "      <td>188</td>\n",
              "      <td>32</td>\n",
              "      <td>546</td>\n",
              "      <td>680</td>\n",
              "      <td>18.8</td>\n",
              "      <td>1943.7</td>\n",
              "      <td>15</td>\n",
              "      <td>1</td>\n",
              "      <td>10</td>\n",
              "      <td>0</td>\n",
              "      <td>0</td>\n",
              "      <td>0</td>\n",
              "      <td>0</td>\n",
              "      <td>18891</td>\n",
              "      <td>7.0</td>\n",
              "      <td>17820</td>\n",
              "      <td>191</td>\n",
              "      <td>52</td>\n",
              "      <td>19.1</td>\n",
              "      <td>1889.1</td>\n",
              "    </tr>\n",
              "    <tr>\n",
              "      <th>3</th>\n",
              "      <td>1</td>\n",
              "      <td>81</td>\n",
              "      <td>5</td>\n",
              "      <td>0</td>\n",
              "      <td>11</td>\n",
              "      <td>11</td>\n",
              "      <td>14</td>\n",
              "      <td>0</td>\n",
              "      <td>0</td>\n",
              "      <td>0</td>\n",
              "      <td>0</td>\n",
              "      <td>18913</td>\n",
              "      <td>7.0</td>\n",
              "      <td>18431</td>\n",
              "      <td>215</td>\n",
              "      <td>31</td>\n",
              "      <td>1441</td>\n",
              "      <td>922</td>\n",
              "      <td>21.5</td>\n",
              "      <td>1891.3</td>\n",
              "      <td>16</td>\n",
              "      <td>2</td>\n",
              "      <td>11</td>\n",
              "      <td>1</td>\n",
              "      <td>1</td>\n",
              "      <td>0</td>\n",
              "      <td>0</td>\n",
              "      <td>17472</td>\n",
              "      <td>7.0</td>\n",
              "      <td>17509</td>\n",
              "      <td>200</td>\n",
              "      <td>24</td>\n",
              "      <td>20.0</td>\n",
              "      <td>1747.2</td>\n",
              "    </tr>\n",
              "    <tr>\n",
              "      <th>4</th>\n",
              "      <td>0</td>\n",
              "      <td>18</td>\n",
              "      <td>2</td>\n",
              "      <td>0</td>\n",
              "      <td>8</td>\n",
              "      <td>13</td>\n",
              "      <td>5</td>\n",
              "      <td>0</td>\n",
              "      <td>0</td>\n",
              "      <td>0</td>\n",
              "      <td>0</td>\n",
              "      <td>16077</td>\n",
              "      <td>6.8</td>\n",
              "      <td>16712</td>\n",
              "      <td>180</td>\n",
              "      <td>48</td>\n",
              "      <td>-3056</td>\n",
              "      <td>-2462</td>\n",
              "      <td>18.0</td>\n",
              "      <td>1607.7</td>\n",
              "      <td>17</td>\n",
              "      <td>4</td>\n",
              "      <td>12</td>\n",
              "      <td>0</td>\n",
              "      <td>0</td>\n",
              "      <td>0</td>\n",
              "      <td>0</td>\n",
              "      <td>19133</td>\n",
              "      <td>7.2</td>\n",
              "      <td>19174</td>\n",
              "      <td>223</td>\n",
              "      <td>38</td>\n",
              "      <td>22.3</td>\n",
              "      <td>1913.3</td>\n",
              "    </tr>\n",
              "  </tbody>\n",
              "</table>\n",
              "</div>"
            ],
            "text/plain": [
              "   blueWins  blueWardsPlaced  ...  redCSPerMin  redGoldPerMin\n",
              "0         0               14  ...         23.2         1967.5\n",
              "1         1               15  ...         20.3         1557.7\n",
              "2         1               10  ...         19.1         1889.1\n",
              "3         1               81  ...         20.0         1747.2\n",
              "4         0               18  ...         22.3         1913.3\n",
              "\n",
              "[5 rows x 34 columns]"
            ]
          },
          "metadata": {
            "tags": []
          },
          "execution_count": 228
        }
      ]
    },
    {
      "cell_type": "markdown",
      "metadata": {
        "colab_type": "text",
        "id": "oUFM0-OLmzRX"
      },
      "source": [
        "## Handling uncommon variables"
      ]
    },
    {
      "cell_type": "code",
      "metadata": {
        "colab_type": "code",
        "id": "RMh6JppCm1DS",
        "colab": {}
      },
      "source": [
        "# Implement me\n",
        "import numpy as np\n",
        "\n",
        "def common_var_checker(df_train, df_test, target):\n",
        "    \"\"\"\n",
        "    The common variables checker\n",
        "\n",
        "    Parameters\n",
        "    ----------\n",
        "    df_train : dataframe of training data\n",
        "    df_test : dataframe of testing data\n",
        "    target : the name of the target\n",
        "\n",
        "    Returns\n",
        "    ----------\n",
        "    The dataframe of common variables between the training and testing data\n",
        "    \"\"\"\n",
        "    \n",
        "    # Get the dataframe of common variables between the training and testing data\n",
        "    df_common_var = pd.DataFrame(np.intersect1d(df_train.columns, np.union1d(df_test.columns, [target])),\n",
        "                                 columns=['common var'])\n",
        "                \n",
        "    return df_common_var"
      ],
      "execution_count": 0,
      "outputs": []
    },
    {
      "cell_type": "code",
      "metadata": {
        "colab_type": "code",
        "id": "X18jKqN99HNd",
        "colab": {}
      },
      "source": [
        "# Call common_var_checker\n",
        "df_common_var = common_var_checker(df_train, df_test, target)\n",
        "\n",
        "# Print df_common_var\n",
        "#df_common_var"
      ],
      "execution_count": 0,
      "outputs": []
    },
    {
      "cell_type": "code",
      "metadata": {
        "colab_type": "code",
        "id": "8RWAvgnONA0U",
        "outputId": "c4b9e2cb-3b36-4186-d712-9d3a7a517443",
        "colab": {
          "base_uri": "https://localhost:8080/",
          "height": 86
        }
      },
      "source": [
        "# Get the variables in the training data but not in the testing data\n",
        "uncommon_var_train_not_test = np.setdiff1d(df_train.columns, df_common_var['common var'])\n",
        "\n",
        "# Print the uncommon variables\n",
        "pd.DataFrame(uncommon_var_train_not_test, columns=['uncommon var'])"
      ],
      "execution_count": 231,
      "outputs": [
        {
          "output_type": "execute_result",
          "data": {
            "text/html": [
              "<div>\n",
              "<style scoped>\n",
              "    .dataframe tbody tr th:only-of-type {\n",
              "        vertical-align: middle;\n",
              "    }\n",
              "\n",
              "    .dataframe tbody tr th {\n",
              "        vertical-align: top;\n",
              "    }\n",
              "\n",
              "    .dataframe thead th {\n",
              "        text-align: right;\n",
              "    }\n",
              "</style>\n",
              "<table border=\"1\" class=\"dataframe\">\n",
              "  <thead>\n",
              "    <tr style=\"text-align: right;\">\n",
              "      <th></th>\n",
              "      <th>uncommon var</th>\n",
              "    </tr>\n",
              "  </thead>\n",
              "  <tbody>\n",
              "  </tbody>\n",
              "</table>\n",
              "</div>"
            ],
            "text/plain": [
              "Empty DataFrame\n",
              "Columns: [uncommon var]\n",
              "Index: []"
            ]
          },
          "metadata": {
            "tags": []
          },
          "execution_count": 231
        }
      ]
    },
    {
      "cell_type": "code",
      "metadata": {
        "colab_type": "code",
        "id": "6XKb5VISNZnE",
        "outputId": "f68748d4-65d0-4a4a-c29d-d3001df40d2d",
        "colab": {
          "base_uri": "https://localhost:8080/",
          "height": 86
        }
      },
      "source": [
        "# Get the variables in the testing data but not in the training data\n",
        "uncommon_var_test_not_train = np.setdiff1d(df_test.columns, df_common_var['common var'])\n",
        "\n",
        "# Print the uncommon variables\n",
        "pd.DataFrame(uncommon_var_test_not_train, columns=['uncommon var'])"
      ],
      "execution_count": 232,
      "outputs": [
        {
          "output_type": "execute_result",
          "data": {
            "text/html": [
              "<div>\n",
              "<style scoped>\n",
              "    .dataframe tbody tr th:only-of-type {\n",
              "        vertical-align: middle;\n",
              "    }\n",
              "\n",
              "    .dataframe tbody tr th {\n",
              "        vertical-align: top;\n",
              "    }\n",
              "\n",
              "    .dataframe thead th {\n",
              "        text-align: right;\n",
              "    }\n",
              "</style>\n",
              "<table border=\"1\" class=\"dataframe\">\n",
              "  <thead>\n",
              "    <tr style=\"text-align: right;\">\n",
              "      <th></th>\n",
              "      <th>uncommon var</th>\n",
              "    </tr>\n",
              "  </thead>\n",
              "  <tbody>\n",
              "  </tbody>\n",
              "</table>\n",
              "</div>"
            ],
            "text/plain": [
              "Empty DataFrame\n",
              "Columns: [uncommon var]\n",
              "Index: []"
            ]
          },
          "metadata": {
            "tags": []
          },
          "execution_count": 232
        }
      ]
    },
    {
      "cell_type": "code",
      "metadata": {
        "colab_type": "code",
        "id": "2VFCmDkONeNa",
        "outputId": "74e8e0ce-3ef7-42e7-dfe6-0c6fb9b5dee5",
        "colab": {
          "base_uri": "https://localhost:8080/",
          "height": 224
        }
      },
      "source": [
        "# Remove the uncommon variables from the training data\n",
        "df_train = df_train.drop(columns=uncommon_var_train_not_test)\n",
        "\n",
        "# Print the first 5 rows of df_train\n",
        "df_train.head()"
      ],
      "execution_count": 233,
      "outputs": [
        {
          "output_type": "execute_result",
          "data": {
            "text/html": [
              "<div>\n",
              "<style scoped>\n",
              "    .dataframe tbody tr th:only-of-type {\n",
              "        vertical-align: middle;\n",
              "    }\n",
              "\n",
              "    .dataframe tbody tr th {\n",
              "        vertical-align: top;\n",
              "    }\n",
              "\n",
              "    .dataframe thead th {\n",
              "        text-align: right;\n",
              "    }\n",
              "</style>\n",
              "<table border=\"1\" class=\"dataframe\">\n",
              "  <thead>\n",
              "    <tr style=\"text-align: right;\">\n",
              "      <th></th>\n",
              "      <th>blueWins</th>\n",
              "      <th>blueWardsPlaced</th>\n",
              "      <th>blueWardsDestroyed</th>\n",
              "      <th>blueFirstBlood</th>\n",
              "      <th>blueKills</th>\n",
              "      <th>blueDeaths</th>\n",
              "      <th>blueAssists</th>\n",
              "      <th>blueEliteMonsters</th>\n",
              "      <th>blueDragons</th>\n",
              "      <th>blueHeralds</th>\n",
              "      <th>blueTowersDestroyed</th>\n",
              "      <th>blueTotalGold</th>\n",
              "      <th>blueAvgLevel</th>\n",
              "      <th>blueTotalExperience</th>\n",
              "      <th>blueTotalMinionsKilled</th>\n",
              "      <th>blueTotalJungleMinionsKilled</th>\n",
              "      <th>blueGoldDiff</th>\n",
              "      <th>blueExperienceDiff</th>\n",
              "      <th>blueCSPerMin</th>\n",
              "      <th>blueGoldPerMin</th>\n",
              "      <th>redWardsPlaced</th>\n",
              "      <th>redWardsDestroyed</th>\n",
              "      <th>redAssists</th>\n",
              "      <th>redEliteMonsters</th>\n",
              "      <th>redDragons</th>\n",
              "      <th>redHeralds</th>\n",
              "      <th>redTowersDestroyed</th>\n",
              "      <th>redTotalGold</th>\n",
              "      <th>redAvgLevel</th>\n",
              "      <th>redTotalExperience</th>\n",
              "      <th>redTotalMinionsKilled</th>\n",
              "      <th>redTotalJungleMinionsKilled</th>\n",
              "      <th>redCSPerMin</th>\n",
              "      <th>redGoldPerMin</th>\n",
              "    </tr>\n",
              "  </thead>\n",
              "  <tbody>\n",
              "    <tr>\n",
              "      <th>0</th>\n",
              "      <td>0</td>\n",
              "      <td>16</td>\n",
              "      <td>0</td>\n",
              "      <td>1</td>\n",
              "      <td>6</td>\n",
              "      <td>9</td>\n",
              "      <td>9</td>\n",
              "      <td>0</td>\n",
              "      <td>0</td>\n",
              "      <td>0</td>\n",
              "      <td>0</td>\n",
              "      <td>15728</td>\n",
              "      <td>6.6</td>\n",
              "      <td>17183</td>\n",
              "      <td>208</td>\n",
              "      <td>44</td>\n",
              "      <td>-2701</td>\n",
              "      <td>-2275</td>\n",
              "      <td>20.8</td>\n",
              "      <td>1572.8</td>\n",
              "      <td>16</td>\n",
              "      <td>2</td>\n",
              "      <td>8</td>\n",
              "      <td>0</td>\n",
              "      <td>0</td>\n",
              "      <td>0</td>\n",
              "      <td>0</td>\n",
              "      <td>18429</td>\n",
              "      <td>7.2</td>\n",
              "      <td>19458</td>\n",
              "      <td>208</td>\n",
              "      <td>56</td>\n",
              "      <td>20.8</td>\n",
              "      <td>1842.9</td>\n",
              "    </tr>\n",
              "    <tr>\n",
              "      <th>1</th>\n",
              "      <td>1</td>\n",
              "      <td>52</td>\n",
              "      <td>4</td>\n",
              "      <td>0</td>\n",
              "      <td>10</td>\n",
              "      <td>4</td>\n",
              "      <td>15</td>\n",
              "      <td>1</td>\n",
              "      <td>1</td>\n",
              "      <td>0</td>\n",
              "      <td>0</td>\n",
              "      <td>18501</td>\n",
              "      <td>7.6</td>\n",
              "      <td>19714</td>\n",
              "      <td>230</td>\n",
              "      <td>64</td>\n",
              "      <td>2907</td>\n",
              "      <td>2700</td>\n",
              "      <td>23.0</td>\n",
              "      <td>1850.1</td>\n",
              "      <td>12</td>\n",
              "      <td>0</td>\n",
              "      <td>6</td>\n",
              "      <td>0</td>\n",
              "      <td>0</td>\n",
              "      <td>0</td>\n",
              "      <td>0</td>\n",
              "      <td>15594</td>\n",
              "      <td>7.0</td>\n",
              "      <td>17014</td>\n",
              "      <td>215</td>\n",
              "      <td>55</td>\n",
              "      <td>21.5</td>\n",
              "      <td>1559.4</td>\n",
              "    </tr>\n",
              "    <tr>\n",
              "      <th>2</th>\n",
              "      <td>0</td>\n",
              "      <td>38</td>\n",
              "      <td>1</td>\n",
              "      <td>0</td>\n",
              "      <td>7</td>\n",
              "      <td>8</td>\n",
              "      <td>9</td>\n",
              "      <td>1</td>\n",
              "      <td>0</td>\n",
              "      <td>1</td>\n",
              "      <td>0</td>\n",
              "      <td>16623</td>\n",
              "      <td>6.8</td>\n",
              "      <td>17503</td>\n",
              "      <td>206</td>\n",
              "      <td>59</td>\n",
              "      <td>-389</td>\n",
              "      <td>329</td>\n",
              "      <td>20.6</td>\n",
              "      <td>1662.3</td>\n",
              "      <td>16</td>\n",
              "      <td>1</td>\n",
              "      <td>10</td>\n",
              "      <td>1</td>\n",
              "      <td>1</td>\n",
              "      <td>0</td>\n",
              "      <td>0</td>\n",
              "      <td>17012</td>\n",
              "      <td>6.8</td>\n",
              "      <td>17174</td>\n",
              "      <td>225</td>\n",
              "      <td>43</td>\n",
              "      <td>22.5</td>\n",
              "      <td>1701.2</td>\n",
              "    </tr>\n",
              "    <tr>\n",
              "      <th>3</th>\n",
              "      <td>1</td>\n",
              "      <td>11</td>\n",
              "      <td>1</td>\n",
              "      <td>0</td>\n",
              "      <td>5</td>\n",
              "      <td>6</td>\n",
              "      <td>7</td>\n",
              "      <td>0</td>\n",
              "      <td>0</td>\n",
              "      <td>0</td>\n",
              "      <td>0</td>\n",
              "      <td>15334</td>\n",
              "      <td>6.8</td>\n",
              "      <td>17065</td>\n",
              "      <td>193</td>\n",
              "      <td>45</td>\n",
              "      <td>-2412</td>\n",
              "      <td>-2055</td>\n",
              "      <td>19.3</td>\n",
              "      <td>1533.4</td>\n",
              "      <td>16</td>\n",
              "      <td>2</td>\n",
              "      <td>5</td>\n",
              "      <td>0</td>\n",
              "      <td>0</td>\n",
              "      <td>0</td>\n",
              "      <td>0</td>\n",
              "      <td>17746</td>\n",
              "      <td>7.2</td>\n",
              "      <td>19120</td>\n",
              "      <td>243</td>\n",
              "      <td>54</td>\n",
              "      <td>24.3</td>\n",
              "      <td>1774.6</td>\n",
              "    </tr>\n",
              "    <tr>\n",
              "      <th>4</th>\n",
              "      <td>1</td>\n",
              "      <td>14</td>\n",
              "      <td>4</td>\n",
              "      <td>1</td>\n",
              "      <td>5</td>\n",
              "      <td>2</td>\n",
              "      <td>5</td>\n",
              "      <td>2</td>\n",
              "      <td>1</td>\n",
              "      <td>1</td>\n",
              "      <td>0</td>\n",
              "      <td>16627</td>\n",
              "      <td>6.8</td>\n",
              "      <td>18676</td>\n",
              "      <td>223</td>\n",
              "      <td>50</td>\n",
              "      <td>2359</td>\n",
              "      <td>1681</td>\n",
              "      <td>22.3</td>\n",
              "      <td>1662.7</td>\n",
              "      <td>14</td>\n",
              "      <td>3</td>\n",
              "      <td>3</td>\n",
              "      <td>0</td>\n",
              "      <td>0</td>\n",
              "      <td>0</td>\n",
              "      <td>0</td>\n",
              "      <td>14268</td>\n",
              "      <td>6.6</td>\n",
              "      <td>16995</td>\n",
              "      <td>221</td>\n",
              "      <td>45</td>\n",
              "      <td>22.1</td>\n",
              "      <td>1426.8</td>\n",
              "    </tr>\n",
              "  </tbody>\n",
              "</table>\n",
              "</div>"
            ],
            "text/plain": [
              "   blueWins  blueWardsPlaced  ...  redCSPerMin  redGoldPerMin\n",
              "0         0               16  ...         20.8         1842.9\n",
              "1         1               52  ...         21.5         1559.4\n",
              "2         0               38  ...         22.5         1701.2\n",
              "3         1               11  ...         24.3         1774.6\n",
              "4         1               14  ...         22.1         1426.8\n",
              "\n",
              "[5 rows x 34 columns]"
            ]
          },
          "metadata": {
            "tags": []
          },
          "execution_count": 233
        }
      ]
    },
    {
      "cell_type": "code",
      "metadata": {
        "colab_type": "code",
        "id": "8F4cMnUjNiuz",
        "outputId": "be7ce7f5-c68f-4d7a-d4d9-f301082148a8",
        "colab": {
          "base_uri": "https://localhost:8080/",
          "height": 224
        }
      },
      "source": [
        "# Remove the uncommon variables from the validation data\n",
        "df_valid = df_valid.drop(columns=uncommon_var_train_not_test)\n",
        "\n",
        "# Print the first 5 rows of df_train\n",
        "df_valid.head()"
      ],
      "execution_count": 234,
      "outputs": [
        {
          "output_type": "execute_result",
          "data": {
            "text/html": [
              "<div>\n",
              "<style scoped>\n",
              "    .dataframe tbody tr th:only-of-type {\n",
              "        vertical-align: middle;\n",
              "    }\n",
              "\n",
              "    .dataframe tbody tr th {\n",
              "        vertical-align: top;\n",
              "    }\n",
              "\n",
              "    .dataframe thead th {\n",
              "        text-align: right;\n",
              "    }\n",
              "</style>\n",
              "<table border=\"1\" class=\"dataframe\">\n",
              "  <thead>\n",
              "    <tr style=\"text-align: right;\">\n",
              "      <th></th>\n",
              "      <th>blueWins</th>\n",
              "      <th>blueWardsPlaced</th>\n",
              "      <th>blueWardsDestroyed</th>\n",
              "      <th>blueFirstBlood</th>\n",
              "      <th>blueKills</th>\n",
              "      <th>blueDeaths</th>\n",
              "      <th>blueAssists</th>\n",
              "      <th>blueEliteMonsters</th>\n",
              "      <th>blueDragons</th>\n",
              "      <th>blueHeralds</th>\n",
              "      <th>blueTowersDestroyed</th>\n",
              "      <th>blueTotalGold</th>\n",
              "      <th>blueAvgLevel</th>\n",
              "      <th>blueTotalExperience</th>\n",
              "      <th>blueTotalMinionsKilled</th>\n",
              "      <th>blueTotalJungleMinionsKilled</th>\n",
              "      <th>blueGoldDiff</th>\n",
              "      <th>blueExperienceDiff</th>\n",
              "      <th>blueCSPerMin</th>\n",
              "      <th>blueGoldPerMin</th>\n",
              "      <th>redWardsPlaced</th>\n",
              "      <th>redWardsDestroyed</th>\n",
              "      <th>redAssists</th>\n",
              "      <th>redEliteMonsters</th>\n",
              "      <th>redDragons</th>\n",
              "      <th>redHeralds</th>\n",
              "      <th>redTowersDestroyed</th>\n",
              "      <th>redTotalGold</th>\n",
              "      <th>redAvgLevel</th>\n",
              "      <th>redTotalExperience</th>\n",
              "      <th>redTotalMinionsKilled</th>\n",
              "      <th>redTotalJungleMinionsKilled</th>\n",
              "      <th>redCSPerMin</th>\n",
              "      <th>redGoldPerMin</th>\n",
              "    </tr>\n",
              "  </thead>\n",
              "  <tbody>\n",
              "    <tr>\n",
              "      <th>0</th>\n",
              "      <td>0</td>\n",
              "      <td>19</td>\n",
              "      <td>0</td>\n",
              "      <td>0</td>\n",
              "      <td>8</td>\n",
              "      <td>8</td>\n",
              "      <td>4</td>\n",
              "      <td>1</td>\n",
              "      <td>1</td>\n",
              "      <td>0</td>\n",
              "      <td>0</td>\n",
              "      <td>16359</td>\n",
              "      <td>7.0</td>\n",
              "      <td>17830</td>\n",
              "      <td>204</td>\n",
              "      <td>56</td>\n",
              "      <td>-736</td>\n",
              "      <td>-226</td>\n",
              "      <td>20.4</td>\n",
              "      <td>1635.9</td>\n",
              "      <td>12</td>\n",
              "      <td>3</td>\n",
              "      <td>7</td>\n",
              "      <td>1</td>\n",
              "      <td>0</td>\n",
              "      <td>1</td>\n",
              "      <td>0</td>\n",
              "      <td>17095</td>\n",
              "      <td>7.2</td>\n",
              "      <td>18056</td>\n",
              "      <td>232</td>\n",
              "      <td>39</td>\n",
              "      <td>23.2</td>\n",
              "      <td>1709.5</td>\n",
              "    </tr>\n",
              "    <tr>\n",
              "      <th>1</th>\n",
              "      <td>1</td>\n",
              "      <td>39</td>\n",
              "      <td>1</td>\n",
              "      <td>0</td>\n",
              "      <td>7</td>\n",
              "      <td>6</td>\n",
              "      <td>6</td>\n",
              "      <td>0</td>\n",
              "      <td>0</td>\n",
              "      <td>0</td>\n",
              "      <td>0</td>\n",
              "      <td>17605</td>\n",
              "      <td>7.4</td>\n",
              "      <td>19964</td>\n",
              "      <td>254</td>\n",
              "      <td>64</td>\n",
              "      <td>1564</td>\n",
              "      <td>668</td>\n",
              "      <td>25.4</td>\n",
              "      <td>1760.5</td>\n",
              "      <td>17</td>\n",
              "      <td>2</td>\n",
              "      <td>3</td>\n",
              "      <td>1</td>\n",
              "      <td>1</td>\n",
              "      <td>0</td>\n",
              "      <td>0</td>\n",
              "      <td>16041</td>\n",
              "      <td>7.2</td>\n",
              "      <td>19296</td>\n",
              "      <td>214</td>\n",
              "      <td>44</td>\n",
              "      <td>21.4</td>\n",
              "      <td>1604.1</td>\n",
              "    </tr>\n",
              "    <tr>\n",
              "      <th>2</th>\n",
              "      <td>0</td>\n",
              "      <td>18</td>\n",
              "      <td>3</td>\n",
              "      <td>0</td>\n",
              "      <td>3</td>\n",
              "      <td>7</td>\n",
              "      <td>3</td>\n",
              "      <td>0</td>\n",
              "      <td>0</td>\n",
              "      <td>0</td>\n",
              "      <td>0</td>\n",
              "      <td>15355</td>\n",
              "      <td>6.6</td>\n",
              "      <td>17119</td>\n",
              "      <td>204</td>\n",
              "      <td>43</td>\n",
              "      <td>-2215</td>\n",
              "      <td>-2114</td>\n",
              "      <td>20.4</td>\n",
              "      <td>1535.5</td>\n",
              "      <td>16</td>\n",
              "      <td>2</td>\n",
              "      <td>8</td>\n",
              "      <td>2</td>\n",
              "      <td>1</td>\n",
              "      <td>1</td>\n",
              "      <td>0</td>\n",
              "      <td>17570</td>\n",
              "      <td>7.2</td>\n",
              "      <td>19233</td>\n",
              "      <td>240</td>\n",
              "      <td>65</td>\n",
              "      <td>24.0</td>\n",
              "      <td>1757.0</td>\n",
              "    </tr>\n",
              "    <tr>\n",
              "      <th>3</th>\n",
              "      <td>1</td>\n",
              "      <td>14</td>\n",
              "      <td>0</td>\n",
              "      <td>1</td>\n",
              "      <td>5</td>\n",
              "      <td>7</td>\n",
              "      <td>5</td>\n",
              "      <td>1</td>\n",
              "      <td>0</td>\n",
              "      <td>1</td>\n",
              "      <td>0</td>\n",
              "      <td>15135</td>\n",
              "      <td>6.6</td>\n",
              "      <td>17507</td>\n",
              "      <td>176</td>\n",
              "      <td>68</td>\n",
              "      <td>-2497</td>\n",
              "      <td>-1376</td>\n",
              "      <td>17.6</td>\n",
              "      <td>1513.5</td>\n",
              "      <td>12</td>\n",
              "      <td>3</td>\n",
              "      <td>9</td>\n",
              "      <td>1</td>\n",
              "      <td>1</td>\n",
              "      <td>0</td>\n",
              "      <td>0</td>\n",
              "      <td>17632</td>\n",
              "      <td>7.2</td>\n",
              "      <td>18883</td>\n",
              "      <td>231</td>\n",
              "      <td>68</td>\n",
              "      <td>23.1</td>\n",
              "      <td>1763.2</td>\n",
              "    </tr>\n",
              "    <tr>\n",
              "      <th>4</th>\n",
              "      <td>0</td>\n",
              "      <td>9</td>\n",
              "      <td>1</td>\n",
              "      <td>0</td>\n",
              "      <td>0</td>\n",
              "      <td>9</td>\n",
              "      <td>0</td>\n",
              "      <td>0</td>\n",
              "      <td>0</td>\n",
              "      <td>0</td>\n",
              "      <td>0</td>\n",
              "      <td>12756</td>\n",
              "      <td>6.4</td>\n",
              "      <td>16250</td>\n",
              "      <td>190</td>\n",
              "      <td>54</td>\n",
              "      <td>-4949</td>\n",
              "      <td>-4010</td>\n",
              "      <td>19.0</td>\n",
              "      <td>1275.6</td>\n",
              "      <td>15</td>\n",
              "      <td>2</td>\n",
              "      <td>7</td>\n",
              "      <td>2</td>\n",
              "      <td>1</td>\n",
              "      <td>1</td>\n",
              "      <td>0</td>\n",
              "      <td>17705</td>\n",
              "      <td>7.4</td>\n",
              "      <td>20260</td>\n",
              "      <td>253</td>\n",
              "      <td>52</td>\n",
              "      <td>25.3</td>\n",
              "      <td>1770.5</td>\n",
              "    </tr>\n",
              "  </tbody>\n",
              "</table>\n",
              "</div>"
            ],
            "text/plain": [
              "   blueWins  blueWardsPlaced  ...  redCSPerMin  redGoldPerMin\n",
              "0         0               19  ...         23.2         1709.5\n",
              "1         1               39  ...         21.4         1604.1\n",
              "2         0               18  ...         24.0         1757.0\n",
              "3         1               14  ...         23.1         1763.2\n",
              "4         0                9  ...         25.3         1770.5\n",
              "\n",
              "[5 rows x 34 columns]"
            ]
          },
          "metadata": {
            "tags": []
          },
          "execution_count": 234
        }
      ]
    },
    {
      "cell_type": "code",
      "metadata": {
        "colab_type": "code",
        "id": "q-ZQSUxqNmH1",
        "outputId": "ea35faa6-7cc1-4e17-fdf8-c013bee8a039",
        "colab": {
          "base_uri": "https://localhost:8080/",
          "height": 224
        }
      },
      "source": [
        "# Remove the uncommon variables from the testing data\n",
        "df_test = df_test.drop(columns=uncommon_var_test_not_train)\n",
        "\n",
        "# Print the first 5 rows of df_test\n",
        "df_test.head()\n"
      ],
      "execution_count": 235,
      "outputs": [
        {
          "output_type": "execute_result",
          "data": {
            "text/html": [
              "<div>\n",
              "<style scoped>\n",
              "    .dataframe tbody tr th:only-of-type {\n",
              "        vertical-align: middle;\n",
              "    }\n",
              "\n",
              "    .dataframe tbody tr th {\n",
              "        vertical-align: top;\n",
              "    }\n",
              "\n",
              "    .dataframe thead th {\n",
              "        text-align: right;\n",
              "    }\n",
              "</style>\n",
              "<table border=\"1\" class=\"dataframe\">\n",
              "  <thead>\n",
              "    <tr style=\"text-align: right;\">\n",
              "      <th></th>\n",
              "      <th>blueWins</th>\n",
              "      <th>blueWardsPlaced</th>\n",
              "      <th>blueWardsDestroyed</th>\n",
              "      <th>blueFirstBlood</th>\n",
              "      <th>blueKills</th>\n",
              "      <th>blueDeaths</th>\n",
              "      <th>blueAssists</th>\n",
              "      <th>blueEliteMonsters</th>\n",
              "      <th>blueDragons</th>\n",
              "      <th>blueHeralds</th>\n",
              "      <th>blueTowersDestroyed</th>\n",
              "      <th>blueTotalGold</th>\n",
              "      <th>blueAvgLevel</th>\n",
              "      <th>blueTotalExperience</th>\n",
              "      <th>blueTotalMinionsKilled</th>\n",
              "      <th>blueTotalJungleMinionsKilled</th>\n",
              "      <th>blueGoldDiff</th>\n",
              "      <th>blueExperienceDiff</th>\n",
              "      <th>blueCSPerMin</th>\n",
              "      <th>blueGoldPerMin</th>\n",
              "      <th>redWardsPlaced</th>\n",
              "      <th>redWardsDestroyed</th>\n",
              "      <th>redAssists</th>\n",
              "      <th>redEliteMonsters</th>\n",
              "      <th>redDragons</th>\n",
              "      <th>redHeralds</th>\n",
              "      <th>redTowersDestroyed</th>\n",
              "      <th>redTotalGold</th>\n",
              "      <th>redAvgLevel</th>\n",
              "      <th>redTotalExperience</th>\n",
              "      <th>redTotalMinionsKilled</th>\n",
              "      <th>redTotalJungleMinionsKilled</th>\n",
              "      <th>redCSPerMin</th>\n",
              "      <th>redGoldPerMin</th>\n",
              "    </tr>\n",
              "  </thead>\n",
              "  <tbody>\n",
              "    <tr>\n",
              "      <th>0</th>\n",
              "      <td>0</td>\n",
              "      <td>14</td>\n",
              "      <td>2</td>\n",
              "      <td>0</td>\n",
              "      <td>4</td>\n",
              "      <td>8</td>\n",
              "      <td>3</td>\n",
              "      <td>2</td>\n",
              "      <td>1</td>\n",
              "      <td>1</td>\n",
              "      <td>0</td>\n",
              "      <td>14885</td>\n",
              "      <td>6.8</td>\n",
              "      <td>17810</td>\n",
              "      <td>192</td>\n",
              "      <td>59</td>\n",
              "      <td>-4790</td>\n",
              "      <td>-2126</td>\n",
              "      <td>19.2</td>\n",
              "      <td>1488.5</td>\n",
              "      <td>89</td>\n",
              "      <td>2</td>\n",
              "      <td>5</td>\n",
              "      <td>0</td>\n",
              "      <td>0</td>\n",
              "      <td>0</td>\n",
              "      <td>1</td>\n",
              "      <td>19675</td>\n",
              "      <td>7.4</td>\n",
              "      <td>19936</td>\n",
              "      <td>232</td>\n",
              "      <td>67</td>\n",
              "      <td>23.2</td>\n",
              "      <td>1967.5</td>\n",
              "    </tr>\n",
              "    <tr>\n",
              "      <th>1</th>\n",
              "      <td>1</td>\n",
              "      <td>15</td>\n",
              "      <td>1</td>\n",
              "      <td>1</td>\n",
              "      <td>10</td>\n",
              "      <td>5</td>\n",
              "      <td>10</td>\n",
              "      <td>0</td>\n",
              "      <td>0</td>\n",
              "      <td>0</td>\n",
              "      <td>0</td>\n",
              "      <td>17878</td>\n",
              "      <td>7.0</td>\n",
              "      <td>18248</td>\n",
              "      <td>214</td>\n",
              "      <td>52</td>\n",
              "      <td>2301</td>\n",
              "      <td>603</td>\n",
              "      <td>21.4</td>\n",
              "      <td>1787.8</td>\n",
              "      <td>37</td>\n",
              "      <td>1</td>\n",
              "      <td>5</td>\n",
              "      <td>0</td>\n",
              "      <td>0</td>\n",
              "      <td>0</td>\n",
              "      <td>0</td>\n",
              "      <td>15577</td>\n",
              "      <td>6.8</td>\n",
              "      <td>17645</td>\n",
              "      <td>203</td>\n",
              "      <td>44</td>\n",
              "      <td>20.3</td>\n",
              "      <td>1557.7</td>\n",
              "    </tr>\n",
              "    <tr>\n",
              "      <th>2</th>\n",
              "      <td>1</td>\n",
              "      <td>10</td>\n",
              "      <td>5</td>\n",
              "      <td>0</td>\n",
              "      <td>16</td>\n",
              "      <td>13</td>\n",
              "      <td>16</td>\n",
              "      <td>2</td>\n",
              "      <td>1</td>\n",
              "      <td>1</td>\n",
              "      <td>0</td>\n",
              "      <td>19437</td>\n",
              "      <td>7.0</td>\n",
              "      <td>18500</td>\n",
              "      <td>188</td>\n",
              "      <td>32</td>\n",
              "      <td>546</td>\n",
              "      <td>680</td>\n",
              "      <td>18.8</td>\n",
              "      <td>1943.7</td>\n",
              "      <td>15</td>\n",
              "      <td>1</td>\n",
              "      <td>10</td>\n",
              "      <td>0</td>\n",
              "      <td>0</td>\n",
              "      <td>0</td>\n",
              "      <td>0</td>\n",
              "      <td>18891</td>\n",
              "      <td>7.0</td>\n",
              "      <td>17820</td>\n",
              "      <td>191</td>\n",
              "      <td>52</td>\n",
              "      <td>19.1</td>\n",
              "      <td>1889.1</td>\n",
              "    </tr>\n",
              "    <tr>\n",
              "      <th>3</th>\n",
              "      <td>1</td>\n",
              "      <td>81</td>\n",
              "      <td>5</td>\n",
              "      <td>0</td>\n",
              "      <td>11</td>\n",
              "      <td>11</td>\n",
              "      <td>14</td>\n",
              "      <td>0</td>\n",
              "      <td>0</td>\n",
              "      <td>0</td>\n",
              "      <td>0</td>\n",
              "      <td>18913</td>\n",
              "      <td>7.0</td>\n",
              "      <td>18431</td>\n",
              "      <td>215</td>\n",
              "      <td>31</td>\n",
              "      <td>1441</td>\n",
              "      <td>922</td>\n",
              "      <td>21.5</td>\n",
              "      <td>1891.3</td>\n",
              "      <td>16</td>\n",
              "      <td>2</td>\n",
              "      <td>11</td>\n",
              "      <td>1</td>\n",
              "      <td>1</td>\n",
              "      <td>0</td>\n",
              "      <td>0</td>\n",
              "      <td>17472</td>\n",
              "      <td>7.0</td>\n",
              "      <td>17509</td>\n",
              "      <td>200</td>\n",
              "      <td>24</td>\n",
              "      <td>20.0</td>\n",
              "      <td>1747.2</td>\n",
              "    </tr>\n",
              "    <tr>\n",
              "      <th>4</th>\n",
              "      <td>0</td>\n",
              "      <td>18</td>\n",
              "      <td>2</td>\n",
              "      <td>0</td>\n",
              "      <td>8</td>\n",
              "      <td>13</td>\n",
              "      <td>5</td>\n",
              "      <td>0</td>\n",
              "      <td>0</td>\n",
              "      <td>0</td>\n",
              "      <td>0</td>\n",
              "      <td>16077</td>\n",
              "      <td>6.8</td>\n",
              "      <td>16712</td>\n",
              "      <td>180</td>\n",
              "      <td>48</td>\n",
              "      <td>-3056</td>\n",
              "      <td>-2462</td>\n",
              "      <td>18.0</td>\n",
              "      <td>1607.7</td>\n",
              "      <td>17</td>\n",
              "      <td>4</td>\n",
              "      <td>12</td>\n",
              "      <td>0</td>\n",
              "      <td>0</td>\n",
              "      <td>0</td>\n",
              "      <td>0</td>\n",
              "      <td>19133</td>\n",
              "      <td>7.2</td>\n",
              "      <td>19174</td>\n",
              "      <td>223</td>\n",
              "      <td>38</td>\n",
              "      <td>22.3</td>\n",
              "      <td>1913.3</td>\n",
              "    </tr>\n",
              "  </tbody>\n",
              "</table>\n",
              "</div>"
            ],
            "text/plain": [
              "   blueWins  blueWardsPlaced  ...  redCSPerMin  redGoldPerMin\n",
              "0         0               14  ...         23.2         1967.5\n",
              "1         1               15  ...         20.3         1557.7\n",
              "2         1               10  ...         19.1         1889.1\n",
              "3         1               81  ...         20.0         1747.2\n",
              "4         0               18  ...         22.3         1913.3\n",
              "\n",
              "[5 rows x 34 columns]"
            ]
          },
          "metadata": {
            "tags": []
          },
          "execution_count": 235
        }
      ]
    },
    {
      "cell_type": "markdown",
      "metadata": {
        "colab_type": "text",
        "id": "B4NyS2Y0Qb6S"
      },
      "source": [
        "## Handling missing data"
      ]
    },
    {
      "cell_type": "code",
      "metadata": {
        "colab_type": "code",
        "id": "q3BvFZlB5JaZ",
        "colab": {}
      },
      "source": [
        "# Implement me\n",
        "# Combine df_train, df_valid and df_test\n",
        "df = pd.concat([df_train, df_valid, df_test], sort=False)"
      ],
      "execution_count": 0,
      "outputs": []
    },
    {
      "cell_type": "code",
      "metadata": {
        "colab_type": "code",
        "id": "Y0hFq3khPfb9",
        "colab": {}
      },
      "source": [
        "def nan_checker(df):\n",
        "    \"\"\"\n",
        "    The NaN checker\n",
        "\n",
        "    Parameters\n",
        "    ----------\n",
        "    df : dataframe\n",
        "    \n",
        "    Returns\n",
        "    ----------\n",
        "    The dataframe of variables with NaN, their proportion of NaN and dtype\n",
        "    \"\"\"\n",
        "    \n",
        "    # Get the variables with NaN, their proportion of NaN and dtype\n",
        "    df_nan = pd.DataFrame([[var, df[var].isna().sum() / df.shape[0], df[var].dtype]\n",
        "                           for var in df.columns if df[var].isna().sum() > 0],\n",
        "                          columns=['var', 'proportion', 'dtype'])\n",
        "    \n",
        "    # Sort df_nan in accending order of the proportion of NaN\n",
        "    df_nan = df_nan.sort_values(by='proportion', ascending=False).reset_index(drop=True)\n",
        "    \n",
        "    return df_nan"
      ],
      "execution_count": 0,
      "outputs": []
    },
    {
      "cell_type": "code",
      "metadata": {
        "colab_type": "code",
        "id": "6eeBAUPcPfek",
        "outputId": "f53a4783-feee-475b-ca29-41fb8d8e8d2b",
        "colab": {
          "base_uri": "https://localhost:8080/",
          "height": 69
        }
      },
      "source": [
        "# Call nan_checker on df\n",
        "df_nan = nan_checker(df)\n",
        "\n",
        "# Print df_nan\n",
        "df_nan"
      ],
      "execution_count": 238,
      "outputs": [
        {
          "output_type": "execute_result",
          "data": {
            "text/html": [
              "<div>\n",
              "<style scoped>\n",
              "    .dataframe tbody tr th:only-of-type {\n",
              "        vertical-align: middle;\n",
              "    }\n",
              "\n",
              "    .dataframe tbody tr th {\n",
              "        vertical-align: top;\n",
              "    }\n",
              "\n",
              "    .dataframe thead th {\n",
              "        text-align: right;\n",
              "    }\n",
              "</style>\n",
              "<table border=\"1\" class=\"dataframe\">\n",
              "  <thead>\n",
              "    <tr style=\"text-align: right;\">\n",
              "      <th></th>\n",
              "      <th>var</th>\n",
              "      <th>proportion</th>\n",
              "      <th>dtype</th>\n",
              "    </tr>\n",
              "  </thead>\n",
              "  <tbody>\n",
              "  </tbody>\n",
              "</table>\n",
              "</div>"
            ],
            "text/plain": [
              "Empty DataFrame\n",
              "Columns: [var, proportion, dtype]\n",
              "Index: []"
            ]
          },
          "metadata": {
            "tags": []
          },
          "execution_count": 238
        }
      ]
    },
    {
      "cell_type": "code",
      "metadata": {
        "colab_type": "code",
        "id": "dYipA8cGPfi0",
        "outputId": "1861f882-a9d8-407c-c267-d40b472b36cc",
        "colab": {
          "base_uri": "https://localhost:8080/",
          "height": 69
        }
      },
      "source": [
        "# Print the unique dtype of the variables with NaN\n",
        "pd.DataFrame(df_nan['dtype'].unique(), columns=['dtype'])"
      ],
      "execution_count": 239,
      "outputs": [
        {
          "output_type": "execute_result",
          "data": {
            "text/html": [
              "<div>\n",
              "<style scoped>\n",
              "    .dataframe tbody tr th:only-of-type {\n",
              "        vertical-align: middle;\n",
              "    }\n",
              "\n",
              "    .dataframe tbody tr th {\n",
              "        vertical-align: top;\n",
              "    }\n",
              "\n",
              "    .dataframe thead th {\n",
              "        text-align: right;\n",
              "    }\n",
              "</style>\n",
              "<table border=\"1\" class=\"dataframe\">\n",
              "  <thead>\n",
              "    <tr style=\"text-align: right;\">\n",
              "      <th></th>\n",
              "      <th>dtype</th>\n",
              "    </tr>\n",
              "  </thead>\n",
              "  <tbody>\n",
              "  </tbody>\n",
              "</table>\n",
              "</div>"
            ],
            "text/plain": [
              "Empty DataFrame\n",
              "Columns: [dtype]\n",
              "Index: []"
            ]
          },
          "metadata": {
            "tags": []
          },
          "execution_count": 239
        }
      ]
    },
    {
      "cell_type": "code",
      "metadata": {
        "colab_type": "code",
        "id": "vh7dMT9JPflS",
        "outputId": "99d15dfc-387f-4656-9e67-ab7ffb00ecaa",
        "colab": {
          "base_uri": "https://localhost:8080/",
          "height": 69
        }
      },
      "source": [
        "# Get the variables with missing values, their proportion of missing values and dtype\n",
        "df_miss = df_nan[df_nan['dtype'] == 'float64'].reset_index(drop=True)\n",
        "\n",
        "# Print df_miss\n",
        "df_miss"
      ],
      "execution_count": 240,
      "outputs": [
        {
          "output_type": "execute_result",
          "data": {
            "text/html": [
              "<div>\n",
              "<style scoped>\n",
              "    .dataframe tbody tr th:only-of-type {\n",
              "        vertical-align: middle;\n",
              "    }\n",
              "\n",
              "    .dataframe tbody tr th {\n",
              "        vertical-align: top;\n",
              "    }\n",
              "\n",
              "    .dataframe thead th {\n",
              "        text-align: right;\n",
              "    }\n",
              "</style>\n",
              "<table border=\"1\" class=\"dataframe\">\n",
              "  <thead>\n",
              "    <tr style=\"text-align: right;\">\n",
              "      <th></th>\n",
              "      <th>var</th>\n",
              "      <th>proportion</th>\n",
              "      <th>dtype</th>\n",
              "    </tr>\n",
              "  </thead>\n",
              "  <tbody>\n",
              "  </tbody>\n",
              "</table>\n",
              "</div>"
            ],
            "text/plain": [
              "Empty DataFrame\n",
              "Columns: [var, proportion, dtype]\n",
              "Index: []"
            ]
          },
          "metadata": {
            "tags": []
          },
          "execution_count": 240
        }
      ]
    },
    {
      "cell_type": "code",
      "metadata": {
        "colab_type": "code",
        "id": "EXZjUUGBPfhm",
        "colab": {}
      },
      "source": [
        "import numpy as np\n",
        "\n",
        "# Remove rows with missing values from df_train\n",
        "df_train = df_train.dropna(subset=np.intersect1d(df_miss['var'], df_train.columns), inplace=False)\n",
        "\n",
        "# Remove rows with missing values from df_valid\n",
        "df_valid = df_valid.dropna(subset=np.intersect1d(df_miss['var'], df_valid.columns), inplace=False)\n",
        "\n",
        "# Remove rows with missing values from df_test\n",
        "df_test = df_test.dropna(subset=np.intersect1d(df_miss['var'], df_test.columns), inplace=False)"
      ],
      "execution_count": 0,
      "outputs": []
    },
    {
      "cell_type": "code",
      "metadata": {
        "colab_type": "code",
        "id": "fVq_cq_wQHC0",
        "outputId": "a37e8b74-2e92-485a-d146-1cc5da6d5aed",
        "colab": {
          "base_uri": "https://localhost:8080/",
          "height": 117
        }
      },
      "source": [
        "# Print the dimension of df_train\n",
        "pd.DataFrame([[df_train.shape[0], df_train.shape[1]]], columns=['# rows', '# columns'])"
      ],
      "execution_count": 242,
      "outputs": [
        {
          "output_type": "execute_result",
          "data": {
            "text/html": [
              "<div>\n",
              "<style scoped>\n",
              "    .dataframe tbody tr th:only-of-type {\n",
              "        vertical-align: middle;\n",
              "    }\n",
              "\n",
              "    .dataframe tbody tr th {\n",
              "        vertical-align: top;\n",
              "    }\n",
              "\n",
              "    .dataframe thead th {\n",
              "        text-align: right;\n",
              "    }\n",
              "</style>\n",
              "<table border=\"1\" class=\"dataframe\">\n",
              "  <thead>\n",
              "    <tr style=\"text-align: right;\">\n",
              "      <th></th>\n",
              "      <th># rows</th>\n",
              "      <th># columns</th>\n",
              "    </tr>\n",
              "  </thead>\n",
              "  <tbody>\n",
              "    <tr>\n",
              "      <th>0</th>\n",
              "      <td>5532</td>\n",
              "      <td>34</td>\n",
              "    </tr>\n",
              "  </tbody>\n",
              "</table>\n",
              "</div>"
            ],
            "text/plain": [
              "   # rows  # columns\n",
              "0    5532         34"
            ]
          },
          "metadata": {
            "tags": []
          },
          "execution_count": 242
        }
      ]
    },
    {
      "cell_type": "code",
      "metadata": {
        "colab_type": "code",
        "id": "j-dcbg8OQHIk",
        "outputId": "49093703-7186-4c7c-e2c7-7541039dbaec",
        "colab": {
          "base_uri": "https://localhost:8080/",
          "height": 117
        }
      },
      "source": [
        "# Print the dimension of df_valid\n",
        "pd.DataFrame([[df_valid.shape[0], df_valid.shape[1]]], columns=['# rows', '# columns'])"
      ],
      "execution_count": 243,
      "outputs": [
        {
          "output_type": "execute_result",
          "data": {
            "text/html": [
              "<div>\n",
              "<style scoped>\n",
              "    .dataframe tbody tr th:only-of-type {\n",
              "        vertical-align: middle;\n",
              "    }\n",
              "\n",
              "    .dataframe tbody tr th {\n",
              "        vertical-align: top;\n",
              "    }\n",
              "\n",
              "    .dataframe thead th {\n",
              "        text-align: right;\n",
              "    }\n",
              "</style>\n",
              "<table border=\"1\" class=\"dataframe\">\n",
              "  <thead>\n",
              "    <tr style=\"text-align: right;\">\n",
              "      <th></th>\n",
              "      <th># rows</th>\n",
              "      <th># columns</th>\n",
              "    </tr>\n",
              "  </thead>\n",
              "  <tbody>\n",
              "    <tr>\n",
              "      <th>0</th>\n",
              "      <td>1383</td>\n",
              "      <td>34</td>\n",
              "    </tr>\n",
              "  </tbody>\n",
              "</table>\n",
              "</div>"
            ],
            "text/plain": [
              "   # rows  # columns\n",
              "0    1383         34"
            ]
          },
          "metadata": {
            "tags": []
          },
          "execution_count": 243
        }
      ]
    },
    {
      "cell_type": "code",
      "metadata": {
        "colab_type": "code",
        "id": "xN0b2DZnQHcJ",
        "outputId": "5276af60-6b14-4c93-96aa-f97968ebd709",
        "colab": {
          "base_uri": "https://localhost:8080/",
          "height": 117
        }
      },
      "source": [
        "# Print the dimension of df_test\n",
        "pd.DataFrame([[df_test.shape[0], df_test.shape[1]]], columns=['# rows', '# columns'])"
      ],
      "execution_count": 244,
      "outputs": [
        {
          "output_type": "execute_result",
          "data": {
            "text/html": [
              "<div>\n",
              "<style scoped>\n",
              "    .dataframe tbody tr th:only-of-type {\n",
              "        vertical-align: middle;\n",
              "    }\n",
              "\n",
              "    .dataframe tbody tr th {\n",
              "        vertical-align: top;\n",
              "    }\n",
              "\n",
              "    .dataframe thead th {\n",
              "        text-align: right;\n",
              "    }\n",
              "</style>\n",
              "<table border=\"1\" class=\"dataframe\">\n",
              "  <thead>\n",
              "    <tr style=\"text-align: right;\">\n",
              "      <th></th>\n",
              "      <th># rows</th>\n",
              "      <th># columns</th>\n",
              "    </tr>\n",
              "  </thead>\n",
              "  <tbody>\n",
              "    <tr>\n",
              "      <th>0</th>\n",
              "      <td>2964</td>\n",
              "      <td>34</td>\n",
              "    </tr>\n",
              "  </tbody>\n",
              "</table>\n",
              "</div>"
            ],
            "text/plain": [
              "   # rows  # columns\n",
              "0    2964         34"
            ]
          },
          "metadata": {
            "tags": []
          },
          "execution_count": 244
        }
      ]
    },
    {
      "cell_type": "markdown",
      "metadata": {
        "colab_type": "text",
        "id": "9cIdnJYmQb6e"
      },
      "source": [
        "## Encoding the data"
      ]
    },
    {
      "cell_type": "code",
      "metadata": {
        "colab_type": "code",
        "id": "m1WB3WMl5PSf",
        "outputId": "5f8b5797-df04-44cb-8a6d-a36c0c2a4fe9",
        "colab": {
          "base_uri": "https://localhost:8080/",
          "height": 131
        }
      },
      "source": [
        "# Implement me\n",
        "# Combine df_train, df_valid and df_test\n",
        "df = pd.concat([df_train, df_valid, df_test], sort=False)\n",
        "\n",
        "# Print the unique dtype of variables in df\n",
        "pd.DataFrame(df.dtypes.unique(), columns=['dtype'])"
      ],
      "execution_count": 245,
      "outputs": [
        {
          "output_type": "execute_result",
          "data": {
            "text/html": [
              "<div>\n",
              "<style scoped>\n",
              "    .dataframe tbody tr th:only-of-type {\n",
              "        vertical-align: middle;\n",
              "    }\n",
              "\n",
              "    .dataframe tbody tr th {\n",
              "        vertical-align: top;\n",
              "    }\n",
              "\n",
              "    .dataframe thead th {\n",
              "        text-align: right;\n",
              "    }\n",
              "</style>\n",
              "<table border=\"1\" class=\"dataframe\">\n",
              "  <thead>\n",
              "    <tr style=\"text-align: right;\">\n",
              "      <th></th>\n",
              "      <th>dtype</th>\n",
              "    </tr>\n",
              "  </thead>\n",
              "  <tbody>\n",
              "    <tr>\n",
              "      <th>0</th>\n",
              "      <td>int64</td>\n",
              "    </tr>\n",
              "    <tr>\n",
              "      <th>1</th>\n",
              "      <td>float64</td>\n",
              "    </tr>\n",
              "  </tbody>\n",
              "</table>\n",
              "</div>"
            ],
            "text/plain": [
              "     dtype\n",
              "0    int64\n",
              "1  float64"
            ]
          },
          "metadata": {
            "tags": []
          },
          "execution_count": 245
        }
      ]
    },
    {
      "cell_type": "code",
      "metadata": {
        "colab_type": "code",
        "id": "UWz65B6WQ98a",
        "colab": {}
      },
      "source": [
        "def cat_var_checker(df):\n",
        "    \"\"\"\n",
        "    The categorical variable checker\n",
        "\n",
        "    Parameters\n",
        "    ----------\n",
        "    df: the dataframe\n",
        "    \n",
        "    Returns\n",
        "    ----------\n",
        "    The dataframe of categorical variables and their number of unique value\n",
        "    \"\"\"\n",
        "    \n",
        "    # Get the dataframe of categorical variables and their number of unique value\n",
        "    df_cat = pd.DataFrame([[var, df[var].nunique(dropna=False)]\n",
        "                           for var in df.columns if df[var].dtype == 'object'],\n",
        "                          columns=['var', 'nunique'])\n",
        "    \n",
        "    # Sort df_cat in accending order of the number of unique value\n",
        "    df_cat = df_cat.sort_values(by='nunique', ascending=False).reset_index(drop=True)\n",
        "    \n",
        "    return df_cat"
      ],
      "execution_count": 0,
      "outputs": []
    },
    {
      "cell_type": "code",
      "metadata": {
        "colab_type": "code",
        "id": "R316Qz50Q-Bm",
        "outputId": "a12c3662-72e9-4b97-bb32-f234fb11d480",
        "colab": {
          "base_uri": "https://localhost:8080/",
          "height": 69
        }
      },
      "source": [
        "# Call cat_var_checker on df\n",
        "df_cat = cat_var_checker(df)\n",
        "\n",
        "# Print the dataframe\n",
        "df_cat"
      ],
      "execution_count": 247,
      "outputs": [
        {
          "output_type": "execute_result",
          "data": {
            "text/html": [
              "<div>\n",
              "<style scoped>\n",
              "    .dataframe tbody tr th:only-of-type {\n",
              "        vertical-align: middle;\n",
              "    }\n",
              "\n",
              "    .dataframe tbody tr th {\n",
              "        vertical-align: top;\n",
              "    }\n",
              "\n",
              "    .dataframe thead th {\n",
              "        text-align: right;\n",
              "    }\n",
              "</style>\n",
              "<table border=\"1\" class=\"dataframe\">\n",
              "  <thead>\n",
              "    <tr style=\"text-align: right;\">\n",
              "      <th></th>\n",
              "      <th>var</th>\n",
              "      <th>nunique</th>\n",
              "    </tr>\n",
              "  </thead>\n",
              "  <tbody>\n",
              "  </tbody>\n",
              "</table>\n",
              "</div>"
            ],
            "text/plain": [
              "Empty DataFrame\n",
              "Columns: [var, nunique]\n",
              "Index: []"
            ]
          },
          "metadata": {
            "tags": []
          },
          "execution_count": 247
        }
      ]
    },
    {
      "cell_type": "code",
      "metadata": {
        "colab_type": "code",
        "id": "-b8e30faacN1",
        "outputId": "a5ec1622-3a8c-4aa6-d523-a3ac2181b8b6",
        "colab": {
          "base_uri": "https://localhost:8080/",
          "height": 224
        }
      },
      "source": [
        "# One-hot-encode the categorical features in the combined data\n",
        "df = pd.get_dummies(df, columns=np.setdiff1d(np.intersect1d(df.columns, df_cat['var']), [target]))\n",
        "\n",
        "# Print the first 5 rows of df\n",
        "df.head()"
      ],
      "execution_count": 248,
      "outputs": [
        {
          "output_type": "execute_result",
          "data": {
            "text/html": [
              "<div>\n",
              "<style scoped>\n",
              "    .dataframe tbody tr th:only-of-type {\n",
              "        vertical-align: middle;\n",
              "    }\n",
              "\n",
              "    .dataframe tbody tr th {\n",
              "        vertical-align: top;\n",
              "    }\n",
              "\n",
              "    .dataframe thead th {\n",
              "        text-align: right;\n",
              "    }\n",
              "</style>\n",
              "<table border=\"1\" class=\"dataframe\">\n",
              "  <thead>\n",
              "    <tr style=\"text-align: right;\">\n",
              "      <th></th>\n",
              "      <th>blueWins</th>\n",
              "      <th>blueWardsPlaced</th>\n",
              "      <th>blueWardsDestroyed</th>\n",
              "      <th>blueFirstBlood</th>\n",
              "      <th>blueKills</th>\n",
              "      <th>blueDeaths</th>\n",
              "      <th>blueAssists</th>\n",
              "      <th>blueEliteMonsters</th>\n",
              "      <th>blueDragons</th>\n",
              "      <th>blueHeralds</th>\n",
              "      <th>blueTowersDestroyed</th>\n",
              "      <th>blueTotalGold</th>\n",
              "      <th>blueAvgLevel</th>\n",
              "      <th>blueTotalExperience</th>\n",
              "      <th>blueTotalMinionsKilled</th>\n",
              "      <th>blueTotalJungleMinionsKilled</th>\n",
              "      <th>blueGoldDiff</th>\n",
              "      <th>blueExperienceDiff</th>\n",
              "      <th>blueCSPerMin</th>\n",
              "      <th>blueGoldPerMin</th>\n",
              "      <th>redWardsPlaced</th>\n",
              "      <th>redWardsDestroyed</th>\n",
              "      <th>redAssists</th>\n",
              "      <th>redEliteMonsters</th>\n",
              "      <th>redDragons</th>\n",
              "      <th>redHeralds</th>\n",
              "      <th>redTowersDestroyed</th>\n",
              "      <th>redTotalGold</th>\n",
              "      <th>redAvgLevel</th>\n",
              "      <th>redTotalExperience</th>\n",
              "      <th>redTotalMinionsKilled</th>\n",
              "      <th>redTotalJungleMinionsKilled</th>\n",
              "      <th>redCSPerMin</th>\n",
              "      <th>redGoldPerMin</th>\n",
              "    </tr>\n",
              "  </thead>\n",
              "  <tbody>\n",
              "    <tr>\n",
              "      <th>0</th>\n",
              "      <td>0</td>\n",
              "      <td>16</td>\n",
              "      <td>0</td>\n",
              "      <td>1</td>\n",
              "      <td>6</td>\n",
              "      <td>9</td>\n",
              "      <td>9</td>\n",
              "      <td>0</td>\n",
              "      <td>0</td>\n",
              "      <td>0</td>\n",
              "      <td>0</td>\n",
              "      <td>15728</td>\n",
              "      <td>6.6</td>\n",
              "      <td>17183</td>\n",
              "      <td>208</td>\n",
              "      <td>44</td>\n",
              "      <td>-2701</td>\n",
              "      <td>-2275</td>\n",
              "      <td>20.8</td>\n",
              "      <td>1572.8</td>\n",
              "      <td>16</td>\n",
              "      <td>2</td>\n",
              "      <td>8</td>\n",
              "      <td>0</td>\n",
              "      <td>0</td>\n",
              "      <td>0</td>\n",
              "      <td>0</td>\n",
              "      <td>18429</td>\n",
              "      <td>7.2</td>\n",
              "      <td>19458</td>\n",
              "      <td>208</td>\n",
              "      <td>56</td>\n",
              "      <td>20.8</td>\n",
              "      <td>1842.9</td>\n",
              "    </tr>\n",
              "    <tr>\n",
              "      <th>1</th>\n",
              "      <td>1</td>\n",
              "      <td>52</td>\n",
              "      <td>4</td>\n",
              "      <td>0</td>\n",
              "      <td>10</td>\n",
              "      <td>4</td>\n",
              "      <td>15</td>\n",
              "      <td>1</td>\n",
              "      <td>1</td>\n",
              "      <td>0</td>\n",
              "      <td>0</td>\n",
              "      <td>18501</td>\n",
              "      <td>7.6</td>\n",
              "      <td>19714</td>\n",
              "      <td>230</td>\n",
              "      <td>64</td>\n",
              "      <td>2907</td>\n",
              "      <td>2700</td>\n",
              "      <td>23.0</td>\n",
              "      <td>1850.1</td>\n",
              "      <td>12</td>\n",
              "      <td>0</td>\n",
              "      <td>6</td>\n",
              "      <td>0</td>\n",
              "      <td>0</td>\n",
              "      <td>0</td>\n",
              "      <td>0</td>\n",
              "      <td>15594</td>\n",
              "      <td>7.0</td>\n",
              "      <td>17014</td>\n",
              "      <td>215</td>\n",
              "      <td>55</td>\n",
              "      <td>21.5</td>\n",
              "      <td>1559.4</td>\n",
              "    </tr>\n",
              "    <tr>\n",
              "      <th>2</th>\n",
              "      <td>0</td>\n",
              "      <td>38</td>\n",
              "      <td>1</td>\n",
              "      <td>0</td>\n",
              "      <td>7</td>\n",
              "      <td>8</td>\n",
              "      <td>9</td>\n",
              "      <td>1</td>\n",
              "      <td>0</td>\n",
              "      <td>1</td>\n",
              "      <td>0</td>\n",
              "      <td>16623</td>\n",
              "      <td>6.8</td>\n",
              "      <td>17503</td>\n",
              "      <td>206</td>\n",
              "      <td>59</td>\n",
              "      <td>-389</td>\n",
              "      <td>329</td>\n",
              "      <td>20.6</td>\n",
              "      <td>1662.3</td>\n",
              "      <td>16</td>\n",
              "      <td>1</td>\n",
              "      <td>10</td>\n",
              "      <td>1</td>\n",
              "      <td>1</td>\n",
              "      <td>0</td>\n",
              "      <td>0</td>\n",
              "      <td>17012</td>\n",
              "      <td>6.8</td>\n",
              "      <td>17174</td>\n",
              "      <td>225</td>\n",
              "      <td>43</td>\n",
              "      <td>22.5</td>\n",
              "      <td>1701.2</td>\n",
              "    </tr>\n",
              "    <tr>\n",
              "      <th>3</th>\n",
              "      <td>1</td>\n",
              "      <td>11</td>\n",
              "      <td>1</td>\n",
              "      <td>0</td>\n",
              "      <td>5</td>\n",
              "      <td>6</td>\n",
              "      <td>7</td>\n",
              "      <td>0</td>\n",
              "      <td>0</td>\n",
              "      <td>0</td>\n",
              "      <td>0</td>\n",
              "      <td>15334</td>\n",
              "      <td>6.8</td>\n",
              "      <td>17065</td>\n",
              "      <td>193</td>\n",
              "      <td>45</td>\n",
              "      <td>-2412</td>\n",
              "      <td>-2055</td>\n",
              "      <td>19.3</td>\n",
              "      <td>1533.4</td>\n",
              "      <td>16</td>\n",
              "      <td>2</td>\n",
              "      <td>5</td>\n",
              "      <td>0</td>\n",
              "      <td>0</td>\n",
              "      <td>0</td>\n",
              "      <td>0</td>\n",
              "      <td>17746</td>\n",
              "      <td>7.2</td>\n",
              "      <td>19120</td>\n",
              "      <td>243</td>\n",
              "      <td>54</td>\n",
              "      <td>24.3</td>\n",
              "      <td>1774.6</td>\n",
              "    </tr>\n",
              "    <tr>\n",
              "      <th>4</th>\n",
              "      <td>1</td>\n",
              "      <td>14</td>\n",
              "      <td>4</td>\n",
              "      <td>1</td>\n",
              "      <td>5</td>\n",
              "      <td>2</td>\n",
              "      <td>5</td>\n",
              "      <td>2</td>\n",
              "      <td>1</td>\n",
              "      <td>1</td>\n",
              "      <td>0</td>\n",
              "      <td>16627</td>\n",
              "      <td>6.8</td>\n",
              "      <td>18676</td>\n",
              "      <td>223</td>\n",
              "      <td>50</td>\n",
              "      <td>2359</td>\n",
              "      <td>1681</td>\n",
              "      <td>22.3</td>\n",
              "      <td>1662.7</td>\n",
              "      <td>14</td>\n",
              "      <td>3</td>\n",
              "      <td>3</td>\n",
              "      <td>0</td>\n",
              "      <td>0</td>\n",
              "      <td>0</td>\n",
              "      <td>0</td>\n",
              "      <td>14268</td>\n",
              "      <td>6.6</td>\n",
              "      <td>16995</td>\n",
              "      <td>221</td>\n",
              "      <td>45</td>\n",
              "      <td>22.1</td>\n",
              "      <td>1426.8</td>\n",
              "    </tr>\n",
              "  </tbody>\n",
              "</table>\n",
              "</div>"
            ],
            "text/plain": [
              "   blueWins  blueWardsPlaced  ...  redCSPerMin  redGoldPerMin\n",
              "0         0               16  ...         20.8         1842.9\n",
              "1         1               52  ...         21.5         1559.4\n",
              "2         0               38  ...         22.5         1701.2\n",
              "3         1               11  ...         24.3         1774.6\n",
              "4         1               14  ...         22.1         1426.8\n",
              "\n",
              "[5 rows x 34 columns]"
            ]
          },
          "metadata": {
            "tags": []
          },
          "execution_count": 248
        }
      ]
    },
    {
      "cell_type": "code",
      "metadata": {
        "colab_type": "code",
        "id": "0CmdO1UMYncu",
        "outputId": "2c6b26c9-b237-4b40-f39b-ba02580ee642",
        "colab": {
          "base_uri": "https://localhost:8080/",
          "height": 224
        }
      },
      "source": [
        "from sklearn.preprocessing import LabelEncoder\n",
        "\n",
        "# The LabelEncoder\n",
        "le = LabelEncoder()\n",
        "\n",
        "# Encode the categorical target in the combined data\n",
        "df[target] = le.fit_transform(df[target].astype(str))\n",
        "\n",
        "# Print the first 5 rows of df\n",
        "df.head()"
      ],
      "execution_count": 249,
      "outputs": [
        {
          "output_type": "execute_result",
          "data": {
            "text/html": [
              "<div>\n",
              "<style scoped>\n",
              "    .dataframe tbody tr th:only-of-type {\n",
              "        vertical-align: middle;\n",
              "    }\n",
              "\n",
              "    .dataframe tbody tr th {\n",
              "        vertical-align: top;\n",
              "    }\n",
              "\n",
              "    .dataframe thead th {\n",
              "        text-align: right;\n",
              "    }\n",
              "</style>\n",
              "<table border=\"1\" class=\"dataframe\">\n",
              "  <thead>\n",
              "    <tr style=\"text-align: right;\">\n",
              "      <th></th>\n",
              "      <th>blueWins</th>\n",
              "      <th>blueWardsPlaced</th>\n",
              "      <th>blueWardsDestroyed</th>\n",
              "      <th>blueFirstBlood</th>\n",
              "      <th>blueKills</th>\n",
              "      <th>blueDeaths</th>\n",
              "      <th>blueAssists</th>\n",
              "      <th>blueEliteMonsters</th>\n",
              "      <th>blueDragons</th>\n",
              "      <th>blueHeralds</th>\n",
              "      <th>blueTowersDestroyed</th>\n",
              "      <th>blueTotalGold</th>\n",
              "      <th>blueAvgLevel</th>\n",
              "      <th>blueTotalExperience</th>\n",
              "      <th>blueTotalMinionsKilled</th>\n",
              "      <th>blueTotalJungleMinionsKilled</th>\n",
              "      <th>blueGoldDiff</th>\n",
              "      <th>blueExperienceDiff</th>\n",
              "      <th>blueCSPerMin</th>\n",
              "      <th>blueGoldPerMin</th>\n",
              "      <th>redWardsPlaced</th>\n",
              "      <th>redWardsDestroyed</th>\n",
              "      <th>redAssists</th>\n",
              "      <th>redEliteMonsters</th>\n",
              "      <th>redDragons</th>\n",
              "      <th>redHeralds</th>\n",
              "      <th>redTowersDestroyed</th>\n",
              "      <th>redTotalGold</th>\n",
              "      <th>redAvgLevel</th>\n",
              "      <th>redTotalExperience</th>\n",
              "      <th>redTotalMinionsKilled</th>\n",
              "      <th>redTotalJungleMinionsKilled</th>\n",
              "      <th>redCSPerMin</th>\n",
              "      <th>redGoldPerMin</th>\n",
              "    </tr>\n",
              "  </thead>\n",
              "  <tbody>\n",
              "    <tr>\n",
              "      <th>0</th>\n",
              "      <td>0</td>\n",
              "      <td>16</td>\n",
              "      <td>0</td>\n",
              "      <td>1</td>\n",
              "      <td>6</td>\n",
              "      <td>9</td>\n",
              "      <td>9</td>\n",
              "      <td>0</td>\n",
              "      <td>0</td>\n",
              "      <td>0</td>\n",
              "      <td>0</td>\n",
              "      <td>15728</td>\n",
              "      <td>6.6</td>\n",
              "      <td>17183</td>\n",
              "      <td>208</td>\n",
              "      <td>44</td>\n",
              "      <td>-2701</td>\n",
              "      <td>-2275</td>\n",
              "      <td>20.8</td>\n",
              "      <td>1572.8</td>\n",
              "      <td>16</td>\n",
              "      <td>2</td>\n",
              "      <td>8</td>\n",
              "      <td>0</td>\n",
              "      <td>0</td>\n",
              "      <td>0</td>\n",
              "      <td>0</td>\n",
              "      <td>18429</td>\n",
              "      <td>7.2</td>\n",
              "      <td>19458</td>\n",
              "      <td>208</td>\n",
              "      <td>56</td>\n",
              "      <td>20.8</td>\n",
              "      <td>1842.9</td>\n",
              "    </tr>\n",
              "    <tr>\n",
              "      <th>1</th>\n",
              "      <td>1</td>\n",
              "      <td>52</td>\n",
              "      <td>4</td>\n",
              "      <td>0</td>\n",
              "      <td>10</td>\n",
              "      <td>4</td>\n",
              "      <td>15</td>\n",
              "      <td>1</td>\n",
              "      <td>1</td>\n",
              "      <td>0</td>\n",
              "      <td>0</td>\n",
              "      <td>18501</td>\n",
              "      <td>7.6</td>\n",
              "      <td>19714</td>\n",
              "      <td>230</td>\n",
              "      <td>64</td>\n",
              "      <td>2907</td>\n",
              "      <td>2700</td>\n",
              "      <td>23.0</td>\n",
              "      <td>1850.1</td>\n",
              "      <td>12</td>\n",
              "      <td>0</td>\n",
              "      <td>6</td>\n",
              "      <td>0</td>\n",
              "      <td>0</td>\n",
              "      <td>0</td>\n",
              "      <td>0</td>\n",
              "      <td>15594</td>\n",
              "      <td>7.0</td>\n",
              "      <td>17014</td>\n",
              "      <td>215</td>\n",
              "      <td>55</td>\n",
              "      <td>21.5</td>\n",
              "      <td>1559.4</td>\n",
              "    </tr>\n",
              "    <tr>\n",
              "      <th>2</th>\n",
              "      <td>0</td>\n",
              "      <td>38</td>\n",
              "      <td>1</td>\n",
              "      <td>0</td>\n",
              "      <td>7</td>\n",
              "      <td>8</td>\n",
              "      <td>9</td>\n",
              "      <td>1</td>\n",
              "      <td>0</td>\n",
              "      <td>1</td>\n",
              "      <td>0</td>\n",
              "      <td>16623</td>\n",
              "      <td>6.8</td>\n",
              "      <td>17503</td>\n",
              "      <td>206</td>\n",
              "      <td>59</td>\n",
              "      <td>-389</td>\n",
              "      <td>329</td>\n",
              "      <td>20.6</td>\n",
              "      <td>1662.3</td>\n",
              "      <td>16</td>\n",
              "      <td>1</td>\n",
              "      <td>10</td>\n",
              "      <td>1</td>\n",
              "      <td>1</td>\n",
              "      <td>0</td>\n",
              "      <td>0</td>\n",
              "      <td>17012</td>\n",
              "      <td>6.8</td>\n",
              "      <td>17174</td>\n",
              "      <td>225</td>\n",
              "      <td>43</td>\n",
              "      <td>22.5</td>\n",
              "      <td>1701.2</td>\n",
              "    </tr>\n",
              "    <tr>\n",
              "      <th>3</th>\n",
              "      <td>1</td>\n",
              "      <td>11</td>\n",
              "      <td>1</td>\n",
              "      <td>0</td>\n",
              "      <td>5</td>\n",
              "      <td>6</td>\n",
              "      <td>7</td>\n",
              "      <td>0</td>\n",
              "      <td>0</td>\n",
              "      <td>0</td>\n",
              "      <td>0</td>\n",
              "      <td>15334</td>\n",
              "      <td>6.8</td>\n",
              "      <td>17065</td>\n",
              "      <td>193</td>\n",
              "      <td>45</td>\n",
              "      <td>-2412</td>\n",
              "      <td>-2055</td>\n",
              "      <td>19.3</td>\n",
              "      <td>1533.4</td>\n",
              "      <td>16</td>\n",
              "      <td>2</td>\n",
              "      <td>5</td>\n",
              "      <td>0</td>\n",
              "      <td>0</td>\n",
              "      <td>0</td>\n",
              "      <td>0</td>\n",
              "      <td>17746</td>\n",
              "      <td>7.2</td>\n",
              "      <td>19120</td>\n",
              "      <td>243</td>\n",
              "      <td>54</td>\n",
              "      <td>24.3</td>\n",
              "      <td>1774.6</td>\n",
              "    </tr>\n",
              "    <tr>\n",
              "      <th>4</th>\n",
              "      <td>1</td>\n",
              "      <td>14</td>\n",
              "      <td>4</td>\n",
              "      <td>1</td>\n",
              "      <td>5</td>\n",
              "      <td>2</td>\n",
              "      <td>5</td>\n",
              "      <td>2</td>\n",
              "      <td>1</td>\n",
              "      <td>1</td>\n",
              "      <td>0</td>\n",
              "      <td>16627</td>\n",
              "      <td>6.8</td>\n",
              "      <td>18676</td>\n",
              "      <td>223</td>\n",
              "      <td>50</td>\n",
              "      <td>2359</td>\n",
              "      <td>1681</td>\n",
              "      <td>22.3</td>\n",
              "      <td>1662.7</td>\n",
              "      <td>14</td>\n",
              "      <td>3</td>\n",
              "      <td>3</td>\n",
              "      <td>0</td>\n",
              "      <td>0</td>\n",
              "      <td>0</td>\n",
              "      <td>0</td>\n",
              "      <td>14268</td>\n",
              "      <td>6.6</td>\n",
              "      <td>16995</td>\n",
              "      <td>221</td>\n",
              "      <td>45</td>\n",
              "      <td>22.1</td>\n",
              "      <td>1426.8</td>\n",
              "    </tr>\n",
              "  </tbody>\n",
              "</table>\n",
              "</div>"
            ],
            "text/plain": [
              "   blueWins  blueWardsPlaced  ...  redCSPerMin  redGoldPerMin\n",
              "0         0               16  ...         20.8         1842.9\n",
              "1         1               52  ...         21.5         1559.4\n",
              "2         0               38  ...         22.5         1701.2\n",
              "3         1               11  ...         24.3         1774.6\n",
              "4         1               14  ...         22.1         1426.8\n",
              "\n",
              "[5 rows x 34 columns]"
            ]
          },
          "metadata": {
            "tags": []
          },
          "execution_count": 249
        }
      ]
    },
    {
      "cell_type": "code",
      "metadata": {
        "id": "Vh8iLDK40HNo",
        "colab_type": "code",
        "colab": {
          "base_uri": "https://localhost:8080/",
          "height": 54
        },
        "outputId": "2a756b6f-3987-459d-8bab-0e418b650a77"
      },
      "source": [
        "print(np.unique(df['blueWins']))"
      ],
      "execution_count": 250,
      "outputs": [
        {
          "output_type": "stream",
          "text": [
            "[0 1]\n"
          ],
          "name": "stdout"
        }
      ]
    },
    {
      "cell_type": "code",
      "metadata": {
        "colab_type": "code",
        "id": "6AEo4Bdqa1I-",
        "colab": {}
      },
      "source": [
        "# Separating the training data\n",
        "df_train = df.iloc[:df_train.shape[0], :].copy(deep=True)\n",
        "\n",
        "# Separating the validation data\n",
        "df_valid = df.iloc[df_train.shape[0]:df_train.shape[0] + df_valid.shape[0], :].copy(deep=True)\n",
        "\n",
        "# Separating the testing data\n",
        "df_test = df.iloc[df_train.shape[0] + df_valid.shape[0]:, :].copy(deep=True)"
      ],
      "execution_count": 0,
      "outputs": []
    },
    {
      "cell_type": "code",
      "metadata": {
        "colab_type": "code",
        "id": "OSeOvMarQ-KR",
        "outputId": "c150e472-6f06-44ed-947f-8b6c35593fdc",
        "colab": {
          "base_uri": "https://localhost:8080/",
          "height": 117
        }
      },
      "source": [
        "# Print the dimension of df_remove_train\n",
        "pd.DataFrame([[df_train.shape[0], df_train.shape[1]]], columns=['# rows', '# columns'])"
      ],
      "execution_count": 252,
      "outputs": [
        {
          "output_type": "execute_result",
          "data": {
            "text/html": [
              "<div>\n",
              "<style scoped>\n",
              "    .dataframe tbody tr th:only-of-type {\n",
              "        vertical-align: middle;\n",
              "    }\n",
              "\n",
              "    .dataframe tbody tr th {\n",
              "        vertical-align: top;\n",
              "    }\n",
              "\n",
              "    .dataframe thead th {\n",
              "        text-align: right;\n",
              "    }\n",
              "</style>\n",
              "<table border=\"1\" class=\"dataframe\">\n",
              "  <thead>\n",
              "    <tr style=\"text-align: right;\">\n",
              "      <th></th>\n",
              "      <th># rows</th>\n",
              "      <th># columns</th>\n",
              "    </tr>\n",
              "  </thead>\n",
              "  <tbody>\n",
              "    <tr>\n",
              "      <th>0</th>\n",
              "      <td>5532</td>\n",
              "      <td>34</td>\n",
              "    </tr>\n",
              "  </tbody>\n",
              "</table>\n",
              "</div>"
            ],
            "text/plain": [
              "   # rows  # columns\n",
              "0    5532         34"
            ]
          },
          "metadata": {
            "tags": []
          },
          "execution_count": 252
        }
      ]
    },
    {
      "cell_type": "code",
      "metadata": {
        "colab_type": "code",
        "id": "sB-RqSl0cPb-",
        "outputId": "9ecc7662-8262-4ded-edf1-d613e97a6295",
        "colab": {
          "base_uri": "https://localhost:8080/",
          "height": 117
        }
      },
      "source": [
        "# Print the dimension of df_remove_valid\n",
        "pd.DataFrame([[df_valid.shape[0], df_valid.shape[1]]], columns=['# rows', '# columns'])"
      ],
      "execution_count": 253,
      "outputs": [
        {
          "output_type": "execute_result",
          "data": {
            "text/html": [
              "<div>\n",
              "<style scoped>\n",
              "    .dataframe tbody tr th:only-of-type {\n",
              "        vertical-align: middle;\n",
              "    }\n",
              "\n",
              "    .dataframe tbody tr th {\n",
              "        vertical-align: top;\n",
              "    }\n",
              "\n",
              "    .dataframe thead th {\n",
              "        text-align: right;\n",
              "    }\n",
              "</style>\n",
              "<table border=\"1\" class=\"dataframe\">\n",
              "  <thead>\n",
              "    <tr style=\"text-align: right;\">\n",
              "      <th></th>\n",
              "      <th># rows</th>\n",
              "      <th># columns</th>\n",
              "    </tr>\n",
              "  </thead>\n",
              "  <tbody>\n",
              "    <tr>\n",
              "      <th>0</th>\n",
              "      <td>1383</td>\n",
              "      <td>34</td>\n",
              "    </tr>\n",
              "  </tbody>\n",
              "</table>\n",
              "</div>"
            ],
            "text/plain": [
              "   # rows  # columns\n",
              "0    1383         34"
            ]
          },
          "metadata": {
            "tags": []
          },
          "execution_count": 253
        }
      ]
    },
    {
      "cell_type": "code",
      "metadata": {
        "colab_type": "code",
        "id": "p1alhWLHQ-OX",
        "outputId": "0b7163cb-b428-40de-9e4f-6058a186859a",
        "colab": {
          "base_uri": "https://localhost:8080/",
          "height": 117
        }
      },
      "source": [
        "# Print the dimension of df_remove_test\n",
        "pd.DataFrame([[df_test.shape[0], df_test.shape[1]]], columns=['# rows', '# columns'])"
      ],
      "execution_count": 254,
      "outputs": [
        {
          "output_type": "execute_result",
          "data": {
            "text/html": [
              "<div>\n",
              "<style scoped>\n",
              "    .dataframe tbody tr th:only-of-type {\n",
              "        vertical-align: middle;\n",
              "    }\n",
              "\n",
              "    .dataframe tbody tr th {\n",
              "        vertical-align: top;\n",
              "    }\n",
              "\n",
              "    .dataframe thead th {\n",
              "        text-align: right;\n",
              "    }\n",
              "</style>\n",
              "<table border=\"1\" class=\"dataframe\">\n",
              "  <thead>\n",
              "    <tr style=\"text-align: right;\">\n",
              "      <th></th>\n",
              "      <th># rows</th>\n",
              "      <th># columns</th>\n",
              "    </tr>\n",
              "  </thead>\n",
              "  <tbody>\n",
              "    <tr>\n",
              "      <th>0</th>\n",
              "      <td>2964</td>\n",
              "      <td>34</td>\n",
              "    </tr>\n",
              "  </tbody>\n",
              "</table>\n",
              "</div>"
            ],
            "text/plain": [
              "   # rows  # columns\n",
              "0    2964         34"
            ]
          },
          "metadata": {
            "tags": []
          },
          "execution_count": 254
        }
      ]
    },
    {
      "cell_type": "markdown",
      "metadata": {
        "colab_type": "text",
        "id": "7I_suZ4cQb6o"
      },
      "source": [
        "## Getting the name of the features"
      ]
    },
    {
      "cell_type": "code",
      "metadata": {
        "colab_type": "code",
        "id": "JyTBTbD95X_y",
        "colab": {}
      },
      "source": [
        "features = np.setdiff1d(df.columns, [target])"
      ],
      "execution_count": 0,
      "outputs": []
    },
    {
      "cell_type": "markdown",
      "metadata": {
        "colab_type": "text",
        "id": "JQU71K_FQb6p"
      },
      "source": [
        "## Getting the feature matrix and target vector"
      ]
    },
    {
      "cell_type": "code",
      "metadata": {
        "colab_type": "code",
        "id": "7jnwGV2W5ZMo",
        "colab": {}
      },
      "source": [
        "# Get the feature matrix\n",
        "X_train = df_train[features].to_numpy()\n",
        "X_valid = df_valid[features].to_numpy()\n",
        "X_test = df_test[features].to_numpy()\n",
        "\n",
        "# Get the target vector\n",
        "y_train = df_train[target].astype(int).to_numpy()\n",
        "y_valid = df_valid[target].astype(int).to_numpy()"
      ],
      "execution_count": 0,
      "outputs": []
    },
    {
      "cell_type": "markdown",
      "metadata": {
        "colab_type": "text",
        "id": "9KqYUNW8Qb6q"
      },
      "source": [
        "## Scaling the data"
      ]
    },
    {
      "cell_type": "code",
      "metadata": {
        "colab_type": "code",
        "id": "hwPwBpLR5bso",
        "colab": {}
      },
      "source": [
        "# Implement me\n",
        "from sklearn.preprocessing import StandardScaler\n",
        "\n",
        "# The StandardScaler\n",
        "ss = StandardScaler()\n",
        "\n",
        "# Standardize the training data\n",
        "X_train = ss.fit_transform(X_train)\n",
        "\n",
        "# Standardize the validation data\n",
        "X_valid = ss.transform(X_valid)\n",
        "\n",
        "# Standardize the testing data\n",
        "X_test = ss.transform(X_test)"
      ],
      "execution_count": 0,
      "outputs": []
    },
    {
      "cell_type": "markdown",
      "metadata": {
        "id": "5BgeibpNXVpy",
        "colab_type": "text"
      },
      "source": [
        "# Decision Tree"
      ]
    },
    {
      "cell_type": "markdown",
      "metadata": {
        "id": "i88C3g7WXVpy",
        "colab_type": "text"
      },
      "source": [
        "## The Sklearn model"
      ]
    },
    {
      "cell_type": "markdown",
      "metadata": {
        "id": "ctPFdLjHXVpy",
        "colab_type": "text"
      },
      "source": [
        "The code below shows how to train the sklearn decision tree model (on the training data) and use it for prediction (on the validation data)."
      ]
    },
    {
      "cell_type": "code",
      "metadata": {
        "id": "GkZ2rP2QXVpz",
        "colab_type": "code",
        "colab": {}
      },
      "source": [
        "from sklearn.tree import DecisionTreeClassifier\n",
        "\n",
        "# The DecisionTreeClassifier\n",
        "dtc = DecisionTreeClassifier(class_weight='balanced', random_state=42)\n",
        "\n",
        "# Train the decision tree classifier on the training data\n",
        "dtc.fit(X_train, y_train)\n",
        "\n",
        "# Get the prediction on the validation data\n",
        "y_valid_pred = dtc.predict(X_valid)"
      ],
      "execution_count": 0,
      "outputs": []
    },
    {
      "cell_type": "markdown",
      "metadata": {
        "id": "HTFkxKUMXVpz",
        "colab_type": "text"
      },
      "source": [
        "The code below shows how to get the precision, recall and f-score."
      ]
    },
    {
      "cell_type": "code",
      "metadata": {
        "id": "hNHU2adwXVp0",
        "colab_type": "code",
        "colab": {
          "base_uri": "https://localhost:8080/",
          "height": 117
        },
        "outputId": "c58b2931-70c9-4b54-cc1e-d8f55adaa5e8"
      },
      "source": [
        "from sklearn.metrics import precision_recall_fscore_support\n",
        "\n",
        "# Get the precision, recall, f-score and support\n",
        "precision, recall, fscore, support = precision_recall_fscore_support(y_valid, y_valid_pred, average='micro')\n",
        "\n",
        "# Print the precision, recall and f-score\n",
        "pd.DataFrame([[precision, recall, fscore]], columns=['precision', 'recall', 'f-score'])"
      ],
      "execution_count": 259,
      "outputs": [
        {
          "output_type": "execute_result",
          "data": {
            "text/html": [
              "<div>\n",
              "<style scoped>\n",
              "    .dataframe tbody tr th:only-of-type {\n",
              "        vertical-align: middle;\n",
              "    }\n",
              "\n",
              "    .dataframe tbody tr th {\n",
              "        vertical-align: top;\n",
              "    }\n",
              "\n",
              "    .dataframe thead th {\n",
              "        text-align: right;\n",
              "    }\n",
              "</style>\n",
              "<table border=\"1\" class=\"dataframe\">\n",
              "  <thead>\n",
              "    <tr style=\"text-align: right;\">\n",
              "      <th></th>\n",
              "      <th>precision</th>\n",
              "      <th>recall</th>\n",
              "      <th>f-score</th>\n",
              "    </tr>\n",
              "  </thead>\n",
              "  <tbody>\n",
              "    <tr>\n",
              "      <th>0</th>\n",
              "      <td>0.638467</td>\n",
              "      <td>0.638467</td>\n",
              "      <td>0.638467</td>\n",
              "    </tr>\n",
              "  </tbody>\n",
              "</table>\n",
              "</div>"
            ],
            "text/plain": [
              "   precision    recall   f-score\n",
              "0   0.638467  0.638467  0.638467"
            ]
          },
          "metadata": {
            "tags": []
          },
          "execution_count": 259
        }
      ]
    },
    {
      "cell_type": "markdown",
      "metadata": {
        "id": "VLbZwK_OXVp0",
        "colab_type": "text"
      },
      "source": [
        "## Plot the decision tree\n",
        "You may have to install pydotplus by running the following command:\n",
        "- If you are using anaconda, run\n",
        "    - conda install -c conda-forge pydotplus\n",
        "- Otherwise, run\n",
        "    - pip3 install pydotplus"
      ]
    },
    {
      "cell_type": "markdown",
      "metadata": {
        "id": "H-jhadejXVp1",
        "colab_type": "text"
      },
      "source": [
        "The code below shows how to create the directory for the figures."
      ]
    },
    {
      "cell_type": "code",
      "metadata": {
        "id": "TeyA9SeUXVp1",
        "colab_type": "code",
        "colab": {}
      },
      "source": [
        "import os\n",
        "\n",
        "# Make directory\n",
        "directory = os.path.dirname('./figure/')\n",
        "if not os.path.exists(directory):\n",
        "    os.makedirs(directory)"
      ],
      "execution_count": 0,
      "outputs": []
    },
    {
      "cell_type": "markdown",
      "metadata": {
        "id": "74IaBAItXVp1",
        "colab_type": "text"
      },
      "source": [
        "The code below shows how to create the dot file of the decision tree."
      ]
    },
    {
      "cell_type": "code",
      "metadata": {
        "scrolled": true,
        "id": "t62sCbr8XVp1",
        "colab_type": "code",
        "colab": {}
      },
      "source": [
        "from pydotplus import graph_from_dot_data\n",
        "from sklearn.tree import export_graphviz\n",
        "\n",
        "dot_data = export_graphviz(dtc,\n",
        "                           out_file='./figure/tree.dot',\n",
        "                           feature_names=features,\n",
        "                           class_names=np.unique(df_train[target].astype(str)),\n",
        "                           filled=True, \n",
        "                           rounded=True) "
      ],
      "execution_count": 0,
      "outputs": []
    },
    {
      "cell_type": "markdown",
      "metadata": {
        "id": "PaP3DvPZXVp2",
        "colab_type": "text"
      },
      "source": [
        "- After generating the tree.dot file, you can generate the tree.pdf file by using the following command:\n",
        "    - dot -Tpdf tree.dot -o tree.pdf\n",
        "\n",
        "- You may have to install graphviz by running the following command:\n",
        "    - If you are using anaconda, run\n",
        "        - conda install -c anaconda graphviz\n",
        "    - Otherwise, run\n",
        "        - pip3 install graphviz"
      ]
    },
    {
      "cell_type": "markdown",
      "metadata": {
        "id": "mWP5ZDp3XVp2",
        "colab_type": "text"
      },
      "source": [
        "## Plot the feature importance"
      ]
    },
    {
      "cell_type": "markdown",
      "metadata": {
        "id": "5gtjySsHXVp3",
        "colab_type": "text"
      },
      "source": [
        "The code below shows how to get the feature importance detected by decision tree."
      ]
    },
    {
      "cell_type": "code",
      "metadata": {
        "id": "t2ZsLMf9XVp3",
        "colab_type": "code",
        "colab": {
          "base_uri": "https://localhost:8080/",
          "height": 224
        },
        "outputId": "70a059c9-9374-4692-8a5f-603eeab51e36"
      },
      "source": [
        "# Get the dataframe of feature and importance\n",
        "df_fi_dtc = pd.DataFrame(np.hstack((features.reshape(-1, 1), dtc.feature_importances_.reshape(-1, 1))),\n",
        "                         columns=['Features', 'Importance'])\n",
        "\n",
        "# Sort df_fi_dtc in descending order of the importance\n",
        "df_fi_dtc = df_fi_dtc.sort_values(ascending=False, by='Importance').reset_index(drop=True)[0:5]\n",
        "\n",
        "# Print df_fi_dtc\n",
        "df_fi_dtc"
      ],
      "execution_count": 262,
      "outputs": [
        {
          "output_type": "execute_result",
          "data": {
            "text/html": [
              "<div>\n",
              "<style scoped>\n",
              "    .dataframe tbody tr th:only-of-type {\n",
              "        vertical-align: middle;\n",
              "    }\n",
              "\n",
              "    .dataframe tbody tr th {\n",
              "        vertical-align: top;\n",
              "    }\n",
              "\n",
              "    .dataframe thead th {\n",
              "        text-align: right;\n",
              "    }\n",
              "</style>\n",
              "<table border=\"1\" class=\"dataframe\">\n",
              "  <thead>\n",
              "    <tr style=\"text-align: right;\">\n",
              "      <th></th>\n",
              "      <th>Features</th>\n",
              "      <th>Importance</th>\n",
              "    </tr>\n",
              "  </thead>\n",
              "  <tbody>\n",
              "    <tr>\n",
              "      <th>0</th>\n",
              "      <td>blueGoldDiff</td>\n",
              "      <td>0.322098</td>\n",
              "    </tr>\n",
              "    <tr>\n",
              "      <th>1</th>\n",
              "      <td>blueExperienceDiff</td>\n",
              "      <td>0.0572869</td>\n",
              "    </tr>\n",
              "    <tr>\n",
              "      <th>2</th>\n",
              "      <td>blueTotalExperience</td>\n",
              "      <td>0.0496148</td>\n",
              "    </tr>\n",
              "    <tr>\n",
              "      <th>3</th>\n",
              "      <td>redWardsPlaced</td>\n",
              "      <td>0.0453834</td>\n",
              "    </tr>\n",
              "    <tr>\n",
              "      <th>4</th>\n",
              "      <td>redTotalExperience</td>\n",
              "      <td>0.0436984</td>\n",
              "    </tr>\n",
              "  </tbody>\n",
              "</table>\n",
              "</div>"
            ],
            "text/plain": [
              "              Features Importance\n",
              "0         blueGoldDiff   0.322098\n",
              "1   blueExperienceDiff  0.0572869\n",
              "2  blueTotalExperience  0.0496148\n",
              "3       redWardsPlaced  0.0453834\n",
              "4   redTotalExperience  0.0436984"
            ]
          },
          "metadata": {
            "tags": []
          },
          "execution_count": 262
        }
      ]
    },
    {
      "cell_type": "markdown",
      "metadata": {
        "id": "sVKDuKuMXVp4",
        "colab_type": "text"
      },
      "source": [
        "The code below shows how to create the bar plot of feature importance."
      ]
    },
    {
      "cell_type": "code",
      "metadata": {
        "scrolled": true,
        "id": "CBkE6mTsXVp4",
        "colab_type": "code",
        "colab": {
          "base_uri": "https://localhost:8080/",
          "height": 54
        },
        "outputId": "d73b5aca-72ba-47c3-9044-cfeb9811b8ab"
      },
      "source": [
        "# Create a figure\n",
        "fig = plt.figure(figsize=(10, 5))\n",
        "\n",
        "# The bar plot of feature importance\n",
        "plt.bar(df_fi_dtc['Features'], df_fi_dtc['Importance'], color='green')\n",
        "\n",
        "# Set x-axis\n",
        "plt.xlabel('Features')\n",
        "\n",
        "# Set y-axis\n",
        "plt.ylabel('Importance')\n",
        "\n",
        "# Save and show the figure\n",
        "plt.tight_layout()\n",
        "plt.savefig('./figure/feature_importance_dtc.pdf')\n",
        "plt.show()"
      ],
      "execution_count": 263,
      "outputs": [
        {
          "output_type": "display_data",
          "data": {
            "image/png": "[encoded data removed]",
            "text/plain": [
              "<Figure size 720x360 with 1 Axes>"
            ]
          },
          "metadata": {
            "tags": []
          }
        }
      ]
    },
    {
      "cell_type": "markdown",
      "metadata": {
        "id": "o8UDcrOyXVp5",
        "colab_type": "text"
      },
      "source": [
        "# Bagging"
      ]
    },
    {
      "cell_type": "markdown",
      "metadata": {
        "id": "4BGXNG63XVp5",
        "colab_type": "text"
      },
      "source": [
        "## Random Forest"
      ]
    },
    {
      "cell_type": "markdown",
      "metadata": {
        "id": "qKMiu-QbXVp5",
        "colab_type": "text"
      },
      "source": [
        "### The Sklearn model"
      ]
    },
    {
      "cell_type": "markdown",
      "metadata": {
        "id": "597s5fbJXVp5",
        "colab_type": "text"
      },
      "source": [
        "The code below shows how to train the sklearn random forest model (on the training data) and use it for prediction (on the validation data)."
      ]
    },
    {
      "cell_type": "code",
      "metadata": {
        "scrolled": false,
        "id": "IAtrlsqWXVp5",
        "colab_type": "code",
        "colab": {}
      },
      "source": [
        "from sklearn.ensemble import RandomForestClassifier\n",
        "\n",
        "# The RandomForestClassifier\n",
        "rfc = RandomForestClassifier(class_weight='balanced', random_state=42)\n",
        "\n",
        "# Train the random forest classifier on the training data\n",
        "rfc.fit(X_train, y_train)\n",
        "\n",
        "# Get the prediction on the validation data\n",
        "y_valid_pred = rfc.predict(X_valid)"
      ],
      "execution_count": 0,
      "outputs": []
    },
    {
      "cell_type": "markdown",
      "metadata": {
        "id": "voqnuTlHXVp6",
        "colab_type": "text"
      },
      "source": [
        "The code below shows how to get the precision, recall and f-score."
      ]
    },
    {
      "cell_type": "code",
      "metadata": {
        "id": "JAO3_pu3XVp6",
        "colab_type": "code",
        "colab": {
          "base_uri": "https://localhost:8080/",
          "height": 117
        },
        "outputId": "126f0b6b-22ed-4632-c6b3-e0803cc87ed0"
      },
      "source": [
        "# Get the precision, recall, f-score and support\n",
        "precision, recall, fscore, support = precision_recall_fscore_support(y_valid, y_valid_pred, average='micro')\n",
        "\n",
        "# Print the precision, recall and f-score\n",
        "pd.DataFrame([[precision, recall, fscore]], columns=['precision', 'recall', 'f-score'])"
      ],
      "execution_count": 265,
      "outputs": [
        {
          "output_type": "execute_result",
          "data": {
            "text/html": [
              "<div>\n",
              "<style scoped>\n",
              "    .dataframe tbody tr th:only-of-type {\n",
              "        vertical-align: middle;\n",
              "    }\n",
              "\n",
              "    .dataframe tbody tr th {\n",
              "        vertical-align: top;\n",
              "    }\n",
              "\n",
              "    .dataframe thead th {\n",
              "        text-align: right;\n",
              "    }\n",
              "</style>\n",
              "<table border=\"1\" class=\"dataframe\">\n",
              "  <thead>\n",
              "    <tr style=\"text-align: right;\">\n",
              "      <th></th>\n",
              "      <th>precision</th>\n",
              "      <th>recall</th>\n",
              "      <th>f-score</th>\n",
              "    </tr>\n",
              "  </thead>\n",
              "  <tbody>\n",
              "    <tr>\n",
              "      <th>0</th>\n",
              "      <td>0.725958</td>\n",
              "      <td>0.725958</td>\n",
              "      <td>0.725958</td>\n",
              "    </tr>\n",
              "  </tbody>\n",
              "</table>\n",
              "</div>"
            ],
            "text/plain": [
              "   precision    recall   f-score\n",
              "0   0.725958  0.725958  0.725958"
            ]
          },
          "metadata": {
            "tags": []
          },
          "execution_count": 265
        }
      ]
    },
    {
      "cell_type": "markdown",
      "metadata": {
        "id": "aM72HILYXVp7",
        "colab_type": "text"
      },
      "source": [
        "### Plot the feature importance"
      ]
    },
    {
      "cell_type": "markdown",
      "metadata": {
        "id": "T2-tTqfCXVp7",
        "colab_type": "text"
      },
      "source": [
        "The code below shows how to get the feature importance detected by decision tree."
      ]
    },
    {
      "cell_type": "code",
      "metadata": {
        "id": "EfQ4VjF1XVp7",
        "colab_type": "code",
        "colab": {
          "base_uri": "https://localhost:8080/",
          "height": 224
        },
        "outputId": "50e114c2-1ba0-4b62-f62c-ce45d7b9c459"
      },
      "source": [
        "# Get the dataframe of feature and importance\n",
        "df_fi_rfc = pd.DataFrame(np.hstack((features.reshape(-1, 1), rfc.feature_importances_.reshape(-1, 1))),\n",
        "                         columns=['Features', 'Importance'])\n",
        "\n",
        "# Sort df_fi_rfc in descending order of the importance\n",
        "df_fi_rfc = df_fi_rfc.sort_values(ascending=False, by='Importance').reset_index(drop=True)[0:5]\n",
        "\n",
        "# Print df_fi_rfcs\n",
        "df_fi_rfc"
      ],
      "execution_count": 266,
      "outputs": [
        {
          "output_type": "execute_result",
          "data": {
            "text/html": [
              "<div>\n",
              "<style scoped>\n",
              "    .dataframe tbody tr th:only-of-type {\n",
              "        vertical-align: middle;\n",
              "    }\n",
              "\n",
              "    .dataframe tbody tr th {\n",
              "        vertical-align: top;\n",
              "    }\n",
              "\n",
              "    .dataframe thead th {\n",
              "        text-align: right;\n",
              "    }\n",
              "</style>\n",
              "<table border=\"1\" class=\"dataframe\">\n",
              "  <thead>\n",
              "    <tr style=\"text-align: right;\">\n",
              "      <th></th>\n",
              "      <th>Features</th>\n",
              "      <th>Importance</th>\n",
              "    </tr>\n",
              "  </thead>\n",
              "  <tbody>\n",
              "    <tr>\n",
              "      <th>0</th>\n",
              "      <td>blueGoldDiff</td>\n",
              "      <td>0.0950184</td>\n",
              "    </tr>\n",
              "    <tr>\n",
              "      <th>1</th>\n",
              "      <td>blueExperienceDiff</td>\n",
              "      <td>0.0897349</td>\n",
              "    </tr>\n",
              "    <tr>\n",
              "      <th>2</th>\n",
              "      <td>blueTotalGold</td>\n",
              "      <td>0.0677395</td>\n",
              "    </tr>\n",
              "    <tr>\n",
              "      <th>3</th>\n",
              "      <td>blueGoldPerMin</td>\n",
              "      <td>0.0593924</td>\n",
              "    </tr>\n",
              "    <tr>\n",
              "      <th>4</th>\n",
              "      <td>blueTotalExperience</td>\n",
              "      <td>0.0574939</td>\n",
              "    </tr>\n",
              "  </tbody>\n",
              "</table>\n",
              "</div>"
            ],
            "text/plain": [
              "              Features Importance\n",
              "0         blueGoldDiff  0.0950184\n",
              "1   blueExperienceDiff  0.0897349\n",
              "2        blueTotalGold  0.0677395\n",
              "3       blueGoldPerMin  0.0593924\n",
              "4  blueTotalExperience  0.0574939"
            ]
          },
          "metadata": {
            "tags": []
          },
          "execution_count": 266
        }
      ]
    },
    {
      "cell_type": "markdown",
      "metadata": {
        "id": "vk_BZ4AZXVp8",
        "colab_type": "text"
      },
      "source": [
        "The code below shows how to create the bar plot of feature importance."
      ]
    },
    {
      "cell_type": "code",
      "metadata": {
        "scrolled": true,
        "id": "GG-cR_dEXVp8",
        "colab_type": "code",
        "colab": {
          "base_uri": "https://localhost:8080/",
          "height": 54
        },
        "outputId": "cd847001-e048-4ca7-99df-7d3b559d1e61"
      },
      "source": [
        "# Create a figure\n",
        "fig = plt.figure(figsize=(10, 5))\n",
        "\n",
        "# The bar plot of feature importance\n",
        "plt.bar(df_fi_rfc['Features'], df_fi_rfc['Importance'], color='green')\n",
        "\n",
        "# Set x-axis\n",
        "plt.xlabel('Features')\n",
        "\n",
        "# Set y-axis\n",
        "plt.ylabel('Importance')\n",
        "\n",
        "# Save and show the figure\n",
        "plt.tight_layout()\n",
        "plt.savefig('./figure/feature_importance_rfc.pdf')\n",
        "plt.show()"
      ],
      "execution_count": 267,
      "outputs": [
        {
          "output_type": "display_data",
          "data": {
            "image/png": "[encoded data removed]",
            "text/plain": [
              "<Figure size 720x360 with 1 Axes>"
            ]
          },
          "metadata": {
            "tags": []
          }
        }
      ]
    },
    {
      "cell_type": "markdown",
      "metadata": {
        "id": "iRueSeSvXVp9",
        "colab_type": "text"
      },
      "source": [
        "# Boosting"
      ]
    },
    {
      "cell_type": "markdown",
      "metadata": {
        "id": "udWPOaQcXVp9",
        "colab_type": "text"
      },
      "source": [
        "## Adaboost"
      ]
    },
    {
      "cell_type": "markdown",
      "metadata": {
        "id": "4yWBc-QMXVp9",
        "colab_type": "text"
      },
      "source": [
        "### The Sklearn model"
      ]
    },
    {
      "cell_type": "markdown",
      "metadata": {
        "id": "CPoi_lWQXVp9",
        "colab_type": "text"
      },
      "source": [
        "The code below shows how to train the sklearn Adaboost model (on the training data) and use it for prediction (on the validation data)."
      ]
    },
    {
      "cell_type": "code",
      "metadata": {
        "scrolled": true,
        "id": "7EQp_BaoXVp-",
        "colab_type": "code",
        "colab": {}
      },
      "source": [
        "from sklearn.ensemble import AdaBoostClassifier\n",
        "\n",
        "# The AdaBoostClassifier\n",
        "abc = AdaBoostClassifier(random_state=42)\n",
        "\n",
        "# Train the Adaboost classifier on the training data\n",
        "abc.fit(X_train, y_train)\n",
        "\n",
        "# Get the prediction on the validation data\n",
        "y_valid_pred = abc.predict(X_valid)"
      ],
      "execution_count": 0,
      "outputs": []
    },
    {
      "cell_type": "markdown",
      "metadata": {
        "id": "6jQekyJFXVp-",
        "colab_type": "text"
      },
      "source": [
        "The code below shows how to get the precision, recall and f-score."
      ]
    },
    {
      "cell_type": "code",
      "metadata": {
        "id": "2ZI8Xyq-XVp-",
        "colab_type": "code",
        "colab": {
          "base_uri": "https://localhost:8080/",
          "height": 117
        },
        "outputId": "56e104d9-6a4e-4afc-ca6d-b60c43904931"
      },
      "source": [
        "# Get the precision, recall, f-score and support\n",
        "precision, recall, fscore, support = precision_recall_fscore_support(y_valid, y_valid_pred, average='micro')\n",
        "\n",
        "# Print the precision, recall and f-score\n",
        "pd.DataFrame([[precision, recall, fscore]], columns=['precision', 'recall', 'f-score'])"
      ],
      "execution_count": 269,
      "outputs": [
        {
          "output_type": "execute_result",
          "data": {
            "text/html": [
              "<div>\n",
              "<style scoped>\n",
              "    .dataframe tbody tr th:only-of-type {\n",
              "        vertical-align: middle;\n",
              "    }\n",
              "\n",
              "    .dataframe tbody tr th {\n",
              "        vertical-align: top;\n",
              "    }\n",
              "\n",
              "    .dataframe thead th {\n",
              "        text-align: right;\n",
              "    }\n",
              "</style>\n",
              "<table border=\"1\" class=\"dataframe\">\n",
              "  <thead>\n",
              "    <tr style=\"text-align: right;\">\n",
              "      <th></th>\n",
              "      <th>precision</th>\n",
              "      <th>recall</th>\n",
              "      <th>f-score</th>\n",
              "    </tr>\n",
              "  </thead>\n",
              "  <tbody>\n",
              "    <tr>\n",
              "      <th>0</th>\n",
              "      <td>0.71945</td>\n",
              "      <td>0.71945</td>\n",
              "      <td>0.71945</td>\n",
              "    </tr>\n",
              "  </tbody>\n",
              "</table>\n",
              "</div>"
            ],
            "text/plain": [
              "   precision   recall  f-score\n",
              "0    0.71945  0.71945  0.71945"
            ]
          },
          "metadata": {
            "tags": []
          },
          "execution_count": 269
        }
      ]
    },
    {
      "cell_type": "markdown",
      "metadata": {
        "id": "VHsoPR0jXVp_",
        "colab_type": "text"
      },
      "source": [
        "## Gradient Boosting"
      ]
    },
    {
      "cell_type": "markdown",
      "metadata": {
        "id": "MVGKcpF7XVp_",
        "colab_type": "text"
      },
      "source": [
        "### The Sklearn model"
      ]
    },
    {
      "cell_type": "markdown",
      "metadata": {
        "id": "7hdevfWwXVp_",
        "colab_type": "text"
      },
      "source": [
        "The code below shows how to train the sklearn histogram-based gradient boosting classifier (on the training data) and use it for prediction (on the validation data)."
      ]
    },
    {
      "cell_type": "code",
      "metadata": {
        "scrolled": true,
        "id": "GeIq167gXVqA",
        "colab_type": "code",
        "colab": {}
      },
      "source": [
        "from sklearn.experimental import enable_hist_gradient_boosting\n",
        "from sklearn.ensemble import HistGradientBoostingClassifier\n",
        "\n",
        "# The HistGradientBoostingClassifier\n",
        "hgbc = HistGradientBoostingClassifier(random_state=42)\n",
        "\n",
        "# Train the histogram-based gradient boosting classifier on the training data\n",
        "hgbc.fit(X_train, y_train)\n",
        "\n",
        "# Get the prediction on the validation data\n",
        "y_valid_pred = hgbc.predict(X_valid)"
      ],
      "execution_count": 0,
      "outputs": []
    },
    {
      "cell_type": "markdown",
      "metadata": {
        "id": "_cLSygFPXVqA",
        "colab_type": "text"
      },
      "source": [
        "The code below shows how to get the precision, recall and f-score."
      ]
    },
    {
      "cell_type": "code",
      "metadata": {
        "id": "j9dQcVr_XVqB",
        "colab_type": "code",
        "colab": {
          "base_uri": "https://localhost:8080/",
          "height": 117
        },
        "outputId": "cd90bb75-546b-458e-9945-d5d36a19ec15"
      },
      "source": [
        "# Get the precision, recall, f-score and support\n",
        "precision, recall, fscore, support = precision_recall_fscore_support(y_valid, y_valid_pred, average='micro')\n",
        "\n",
        "# Print the precision, recall and f-score\n",
        "pd.DataFrame([[precision, recall, fscore]], columns=['precision', 'recall', 'f-score'])"
      ],
      "execution_count": 271,
      "outputs": [
        {
          "output_type": "execute_result",
          "data": {
            "text/html": [
              "<div>\n",
              "<style scoped>\n",
              "    .dataframe tbody tr th:only-of-type {\n",
              "        vertical-align: middle;\n",
              "    }\n",
              "\n",
              "    .dataframe tbody tr th {\n",
              "        vertical-align: top;\n",
              "    }\n",
              "\n",
              "    .dataframe thead th {\n",
              "        text-align: right;\n",
              "    }\n",
              "</style>\n",
              "<table border=\"1\" class=\"dataframe\">\n",
              "  <thead>\n",
              "    <tr style=\"text-align: right;\">\n",
              "      <th></th>\n",
              "      <th>precision</th>\n",
              "      <th>recall</th>\n",
              "      <th>f-score</th>\n",
              "    </tr>\n",
              "  </thead>\n",
              "  <tbody>\n",
              "    <tr>\n",
              "      <th>0</th>\n",
              "      <td>0.704989</td>\n",
              "      <td>0.704989</td>\n",
              "      <td>0.704989</td>\n",
              "    </tr>\n",
              "  </tbody>\n",
              "</table>\n",
              "</div>"
            ],
            "text/plain": [
              "   precision    recall   f-score\n",
              "0   0.704989  0.704989  0.704989"
            ]
          },
          "metadata": {
            "tags": []
          },
          "execution_count": 271
        }
      ]
    },
    {
      "cell_type": "markdown",
      "metadata": {
        "id": "nHmWfygoXVqC",
        "colab_type": "text"
      },
      "source": [
        "### The XGBoost model\n",
        "You may have to install XGBoost by running the following command:\n",
        "- If you are using anaconda, run\n",
        "    - conda install -c conda-forge xgboost\n",
        "- Otherwise, run\n",
        "    - pip3 install xgboost"
      ]
    },
    {
      "cell_type": "markdown",
      "metadata": {
        "id": "VVIHQEOxXVqC",
        "colab_type": "text"
      },
      "source": [
        "The code below shows how to train the XGBoost model (on the training data) and use it for prediction (on the validation data)."
      ]
    },
    {
      "cell_type": "code",
      "metadata": {
        "scrolled": true,
        "id": "M36rtObAXVqC",
        "colab_type": "code",
        "colab": {}
      },
      "source": [
        "from xgboost.sklearn import XGBClassifier\n",
        "\n",
        "# The XGBClassifier\n",
        "xgbc = XGBClassifier(random_state=42)\n",
        "\n",
        "# Train the XGBClassifier on the training data\n",
        "xgbc.fit(X_train, y_train)\n",
        "\n",
        "# Get the prediction on the validation data\n",
        "y_valid_pred = xgbc.predict(X_valid)"
      ],
      "execution_count": 0,
      "outputs": []
    },
    {
      "cell_type": "markdown",
      "metadata": {
        "id": "7vNMgXGsXVqD",
        "colab_type": "text"
      },
      "source": [
        "The code below shows how to get the precision, recall and f-score."
      ]
    },
    {
      "cell_type": "code",
      "metadata": {
        "id": "F3PORhPvXVqD",
        "colab_type": "code",
        "colab": {
          "base_uri": "https://localhost:8080/",
          "height": 117
        },
        "outputId": "a3b6ea7a-05c1-49aa-b9e3-37d41bd20635"
      },
      "source": [
        "# Get the precision, recall, f-score and support\n",
        "precision, recall, fscore, support = precision_recall_fscore_support(y_valid, y_valid_pred, average='micro')\n",
        "\n",
        "# Print the precision, recall and f-score\n",
        "pd.DataFrame([[precision, recall, fscore]], columns=['precision', 'recall', 'f-score'])"
      ],
      "execution_count": 273,
      "outputs": [
        {
          "output_type": "execute_result",
          "data": {
            "text/html": [
              "<div>\n",
              "<style scoped>\n",
              "    .dataframe tbody tr th:only-of-type {\n",
              "        vertical-align: middle;\n",
              "    }\n",
              "\n",
              "    .dataframe tbody tr th {\n",
              "        vertical-align: top;\n",
              "    }\n",
              "\n",
              "    .dataframe thead th {\n",
              "        text-align: right;\n",
              "    }\n",
              "</style>\n",
              "<table border=\"1\" class=\"dataframe\">\n",
              "  <thead>\n",
              "    <tr style=\"text-align: right;\">\n",
              "      <th></th>\n",
              "      <th>precision</th>\n",
              "      <th>recall</th>\n",
              "      <th>f-score</th>\n",
              "    </tr>\n",
              "  </thead>\n",
              "  <tbody>\n",
              "    <tr>\n",
              "      <th>0</th>\n",
              "      <td>0.725235</td>\n",
              "      <td>0.725235</td>\n",
              "      <td>0.725235</td>\n",
              "    </tr>\n",
              "  </tbody>\n",
              "</table>\n",
              "</div>"
            ],
            "text/plain": [
              "   precision    recall   f-score\n",
              "0   0.725235  0.725235  0.725235"
            ]
          },
          "metadata": {
            "tags": []
          },
          "execution_count": 273
        }
      ]
    },
    {
      "cell_type": "markdown",
      "metadata": {
        "id": "yIFwtIjpXVqE",
        "colab_type": "text"
      },
      "source": [
        "# Stacking"
      ]
    },
    {
      "cell_type": "markdown",
      "metadata": {
        "id": "zKO_a9wLXVqE",
        "colab_type": "text"
      },
      "source": [
        "## The Sklearn model (0.22 or above)"
      ]
    },
    {
      "cell_type": "markdown",
      "metadata": {
        "id": "4mrBg1TsXVqE",
        "colab_type": "text"
      },
      "source": [
        "The code below shows how to train the sklearn stacking model (on the training data) and use it for prediction (on the validation data)."
      ]
    },
    {
      "cell_type": "code",
      "metadata": {
        "id": "a-MSIBGBXVqE",
        "colab_type": "code",
        "colab": {}
      },
      "source": [
        "from sklearn.ensemble import StackingClassifier\n",
        "\n",
        "# The base estimators \n",
        "estimators = [('dtc', DecisionTreeClassifier(class_weight='balanced', random_state=42)),\n",
        "              ('rfc', RandomForestClassifier(class_weight='balanced', random_state=42)),\n",
        "              ('abc', AdaBoostClassifier(random_state=42))]\n",
        "\n",
        "# The StackingClassifier\n",
        "sc = StackingClassifier(estimators=estimators, final_estimator=XGBClassifier(random_state=42))\n",
        "\n",
        "# Train the StackingClassifier on the training data\n",
        "sc.fit(X_train, y_train)\n",
        "\n",
        "# Get the prediction on the validation data\n",
        "y_valid_pred = sc.predict(X_valid)"
      ],
      "execution_count": 0,
      "outputs": []
    },
    {
      "cell_type": "markdown",
      "metadata": {
        "id": "lAni5PVUXVqF",
        "colab_type": "text"
      },
      "source": [
        "The code below shows how to get the precision, recall and f-score."
      ]
    },
    {
      "cell_type": "code",
      "metadata": {
        "id": "V9DQXlm7XVqF",
        "colab_type": "code",
        "colab": {
          "base_uri": "https://localhost:8080/",
          "height": 117
        },
        "outputId": "9dc3bb98-6deb-4136-c168-9ca44abc8cc3"
      },
      "source": [
        "# Get the precision, recall, f-score and support\n",
        "precision, recall, fscore, support = precision_recall_fscore_support(y_valid, y_valid_pred, average='micro')\n",
        "\n",
        "# Print the precision, recall and f-score\n",
        "pd.DataFrame([[precision, recall, fscore]], columns=['precision', 'recall', 'f-score'])"
      ],
      "execution_count": 275,
      "outputs": [
        {
          "output_type": "execute_result",
          "data": {
            "text/html": [
              "<div>\n",
              "<style scoped>\n",
              "    .dataframe tbody tr th:only-of-type {\n",
              "        vertical-align: middle;\n",
              "    }\n",
              "\n",
              "    .dataframe tbody tr th {\n",
              "        vertical-align: top;\n",
              "    }\n",
              "\n",
              "    .dataframe thead th {\n",
              "        text-align: right;\n",
              "    }\n",
              "</style>\n",
              "<table border=\"1\" class=\"dataframe\">\n",
              "  <thead>\n",
              "    <tr style=\"text-align: right;\">\n",
              "      <th></th>\n",
              "      <th>precision</th>\n",
              "      <th>recall</th>\n",
              "      <th>f-score</th>\n",
              "    </tr>\n",
              "  </thead>\n",
              "  <tbody>\n",
              "    <tr>\n",
              "      <th>0</th>\n",
              "      <td>0.723789</td>\n",
              "      <td>0.723789</td>\n",
              "      <td>0.723789</td>\n",
              "    </tr>\n",
              "  </tbody>\n",
              "</table>\n",
              "</div>"
            ],
            "text/plain": [
              "   precision    recall   f-score\n",
              "0   0.723789  0.723789  0.723789"
            ]
          },
          "metadata": {
            "tags": []
          },
          "execution_count": 275
        }
      ]
    },
    {
      "cell_type": "markdown",
      "metadata": {
        "id": "A7AtBmguXVqG",
        "colab_type": "text"
      },
      "source": [
        "# Hyperparameter Tuning and Model Selection"
      ]
    },
    {
      "cell_type": "markdown",
      "metadata": {
        "id": "8rwilWzWXVqG",
        "colab_type": "text"
      },
      "source": [
        "## Creating the dictionary of the models\n",
        "- In the dictionary:\n",
        "    - the key is the acronym of the model\n",
        "    - the value is the model"
      ]
    },
    {
      "cell_type": "code",
      "metadata": {
        "id": "E5r24LToXVqG",
        "colab_type": "code",
        "colab": {}
      },
      "source": [
        "from sklearn.linear_model import LogisticRegression\n",
        "\n",
        "models = {'lr': LogisticRegression(class_weight='balanced', random_state=42),\n",
        "          'dtc': DecisionTreeClassifier(class_weight='balanced', random_state=42),\n",
        "          'rfc': RandomForestClassifier(class_weight='balanced', random_state=42),\n",
        "          'hgbc': HistGradientBoostingClassifier(random_state=42),\n",
        "          'xgbc': XGBClassifier(seed=42)}"
      ],
      "execution_count": 0,
      "outputs": []
    },
    {
      "cell_type": "markdown",
      "metadata": {
        "id": "sTPSffbSXVqH",
        "colab_type": "text"
      },
      "source": [
        "## Creating the dictionary of the pipelines\n",
        "In the dictionary:\n",
        "- the key is the acronym of the model\n",
        "- the value is the pipeline, which, for now, only includes the model"
      ]
    },
    {
      "cell_type": "code",
      "metadata": {
        "id": "LVVzKBunXVqH",
        "colab_type": "code",
        "colab": {}
      },
      "source": [
        "from sklearn.pipeline import Pipeline\n",
        "\n",
        "pipes = {}\n",
        "\n",
        "for acronym, model in models.items():\n",
        "    pipes[acronym] = Pipeline([('model', model)])"
      ],
      "execution_count": 0,
      "outputs": []
    },
    {
      "cell_type": "markdown",
      "metadata": {
        "id": "JVr_o4CXXVqI",
        "colab_type": "text"
      },
      "source": [
        "## Hyperparameter tuning and model selection using Sklearn (0.22 or above)"
      ]
    },
    {
      "cell_type": "markdown",
      "metadata": {
        "id": "Hu4qZfYSXVqJ",
        "colab_type": "text"
      },
      "source": [
        "### Getting the predefined split cross-validator"
      ]
    },
    {
      "cell_type": "code",
      "metadata": {
        "scrolled": true,
        "id": "ETUKGoLiXVqJ",
        "colab_type": "code",
        "colab": {}
      },
      "source": [
        "from sklearn.model_selection import PredefinedSplit\n",
        "\n",
        "# Combine the feature matrix in the training and validation data\n",
        "X_train_valid = np.vstack((X_train, X_valid))\n",
        "\n",
        "# Combine the target vector in the training and validation data\n",
        "y_train_valid = np.append(y_train, y_valid)\n",
        "\n",
        "# Get the indices of training and validation data\n",
        "train_valid_idxs = np.append(np.full(X_train.shape[0], -1), np.full(X_valid.shape[0], 0))\n",
        "\n",
        "# The PredefinedSplit\n",
        "ps = PredefinedSplit(train_valid_idxs)"
      ],
      "execution_count": 0,
      "outputs": []
    },
    {
      "cell_type": "markdown",
      "metadata": {
        "id": "IivQOp4wXVqK",
        "colab_type": "text"
      },
      "source": [
        "### Creating the dictionary of the parameter grids\n",
        "- In the dictionary:\n",
        "    - the key is the acronym of the model\n",
        "    - the value is the parameter grid of the model"
      ]
    },
    {
      "cell_type": "code",
      "metadata": {
        "id": "0Z79F4sXXVqK",
        "colab_type": "code",
        "colab": {}
      },
      "source": [
        "param_grids = {}"
      ],
      "execution_count": 0,
      "outputs": []
    },
    {
      "cell_type": "markdown",
      "metadata": {
        "id": "QWyuaV3lXVqL",
        "colab_type": "text"
      },
      "source": [
        "#### The parameter grid for logistic regression\n",
        "The hyperparameters we want to fine-tune are:\n",
        "- C\n",
        "- tol\n",
        "\n",
        "See details of the meaning of the hyperparametes in [sklearn.linear_model.LogisticRegression](https://scikit-learn.org/stable/modules/generated/sklearn.linear_model.LogisticRegression.html)"
      ]
    },
    {
      "cell_type": "code",
      "metadata": {
        "id": "fymookJcXVqL",
        "colab_type": "code",
        "colab": {}
      },
      "source": [
        "# The grids for C\n",
        "C_grids = [10 ** i for i in range(-2, 3)]\n",
        "\n",
        "# The grids for tol\n",
        "tol_grids = [10 ** i for i in range(-6, -1)]\n",
        "\n",
        "# Update param_grids\n",
        "param_grids['lr'] = [{'model__C': C_grids,\n",
        "                      'model__tol': tol_grids}]"
      ],
      "execution_count": 0,
      "outputs": []
    },
    {
      "cell_type": "markdown",
      "metadata": {
        "id": "S03JO9z4XVqL",
        "colab_type": "text"
      },
      "source": [
        "#### The parameter grid for decision tree\n",
        "The hyperparameters we want to fine-tune are:\n",
        "- min_samples_split\n",
        "- min_samples_leaf\n",
        "\n",
        "See details of the meaning of the hyperparametes in [sklearn.tree.DecisionTreeClassifier](https://scikit-learn.org/stable/modules/generated/sklearn.tree.DecisionTreeClassifier.html#sklearn.tree.DecisionTreeClassifier)"
      ]
    },
    {
      "cell_type": "code",
      "metadata": {
        "id": "IA_mbf9YXVqL",
        "colab_type": "code",
        "colab": {}
      },
      "source": [
        "# The grids for min_samples_split\n",
        "min_samples_split_grids = [2, 20, 100]\n",
        "\n",
        "# The grids for min_samples_leaf\n",
        "min_samples_leaf_grids = [1, 20, 100]\n",
        "\n",
        "# Update param_grids\n",
        "param_grids['dtc'] = [{'model__min_samples_split': min_samples_split_grids,\n",
        "                       'model__min_samples_leaf': min_samples_leaf_grids}]"
      ],
      "execution_count": 0,
      "outputs": []
    },
    {
      "cell_type": "markdown",
      "metadata": {
        "id": "guuHI5wtXVqM",
        "colab_type": "text"
      },
      "source": [
        "#### The parameter grid for random forest\n",
        "The hyperparameters we want to fine-tune are:\n",
        "- min_samples_split\n",
        "- min_samples_leaf\n",
        "\n",
        "See details of the meaning of the hyperparametes in [sklearn.ensemble.RandomForestClassifier](https://scikit-learn.org/stable/modules/generated/sklearn.ensemble.RandomForestClassifier.html)"
      ]
    },
    {
      "cell_type": "code",
      "metadata": {
        "id": "bfXpC0oXXVqM",
        "colab_type": "code",
        "colab": {}
      },
      "source": [
        "# The grids for min_samples_split\n",
        "min_samples_split_grids = [2, 20, 100]\n",
        "\n",
        "# The grids for min_samples_leaf\n",
        "min_samples_leaf_grids = [1, 20, 100]\n",
        "\n",
        "# Update param_grids\n",
        "param_grids['rfc'] = [{'model__min_samples_split': min_samples_split_grids,\n",
        "                       'model__min_samples_leaf': min_samples_leaf_grids}]"
      ],
      "execution_count": 0,
      "outputs": []
    },
    {
      "cell_type": "markdown",
      "metadata": {
        "id": "A9T0zOnuXVqN",
        "colab_type": "text"
      },
      "source": [
        "#### The parameter grid for Adaboost\n",
        "The hyperparameters we want to fine-tune are:\n",
        "- learning_rate\n",
        "\n",
        "See details of the meaning of the hyperparametes in [sklearn.ensemble.AdaBoostClassifier](https://scikit-learn.org/stable/modules/generated/sklearn.ensemble.AdaBoostClassifier.html)"
      ]
    },
    {
      "cell_type": "code",
      "metadata": {
        "id": "94x3Fr_dXVqN",
        "colab_type": "code",
        "colab": {}
      },
      "source": [
        "# The grids for learning_rate\n",
        "learning_rate_grids = [10 ** i for i in range(-3, 2)]\n",
        "\n",
        "# Update param_grids\n",
        "param_grids['abc'] = [{'model__learning_rate': learning_rate_grids}]"
      ],
      "execution_count": 0,
      "outputs": []
    },
    {
      "cell_type": "markdown",
      "metadata": {
        "id": "44pojWGrXVqO",
        "colab_type": "text"
      },
      "source": [
        "#### The parameter grid for histogram-based gradient boosting\n",
        "The hyperparameters we want to fine-tune are:\n",
        "- learning_rate\n",
        "- min_samples_leaf\n",
        "\n",
        "See details of the meaning of the hyperparametes in [sklearn.ensemble.HistGradientBoostingClassifier](https://scikit-learn.org/stable/modules/generated/sklearn.ensemble.HistGradientBoostingClassifier.html)"
      ]
    },
    {
      "cell_type": "code",
      "metadata": {
        "id": "2t6FIlTWXVqO",
        "colab_type": "code",
        "colab": {}
      },
      "source": [
        "# The grids for learning_rate\n",
        "learning_rate_grids = [10 ** i for i in range(-3, 2)]\n",
        "\n",
        "# The grids for min_samples_leaf\n",
        "min_samples_leaf_grids = [1, 20, 100]\n",
        "\n",
        "# Update param_grids\n",
        "param_grids['hgbc'] = [{'model__learning_rate': learning_rate_grids,\n",
        "                        'model__min_samples_leaf': min_samples_leaf_grids}]"
      ],
      "execution_count": 0,
      "outputs": []
    },
    {
      "cell_type": "markdown",
      "metadata": {
        "id": "T-Py6JwlXVqO",
        "colab_type": "text"
      },
      "source": [
        "#### The parameter grid for xgboost\n",
        "The hyperparameters we want to fine-tune are:\n",
        "- eta\n",
        "- gamma\n",
        "- lambda\n",
        "\n",
        "See details of the meaning of the hyperparametes in [XGBoost Parameters](https://xgboost.readthedocs.io/en/latest/parameter.html)"
      ]
    },
    {
      "cell_type": "code",
      "metadata": {
        "id": "ClWZIScxXVqO",
        "colab_type": "code",
        "colab": {}
      },
      "source": [
        "# The grids for eta\n",
        "eta_grids = [10 ** i for i in range(-4, 1)]\n",
        "\n",
        "# The grids for gamma\n",
        "gamma_grids = [0, 10, 100]\n",
        "\n",
        "# The grids for lambda\n",
        "lambda_grids = [10 ** i for i in range(-4, 5)]\n",
        "\n",
        "# Update param_grids\n",
        "param_grids['xgbc'] = [{'model__eta': eta_grids,\n",
        "                        'model__gamma': gamma_grids,\n",
        "                        'model__lambda': lambda_grids}]"
      ],
      "execution_count": 0,
      "outputs": []
    },
    {
      "cell_type": "markdown",
      "metadata": {
        "id": "fVosQSSNXVqP",
        "colab_type": "text"
      },
      "source": [
        "### Creating the directory for the cv results."
      ]
    },
    {
      "cell_type": "code",
      "metadata": {
        "id": "eEnC2U4oXVqP",
        "colab_type": "code",
        "colab": {}
      },
      "source": [
        "import os\n",
        "\n",
        "# Make directory\n",
        "directory = os.path.dirname('./cv_results/')\n",
        "if not os.path.exists(directory):\n",
        "    os.makedirs(directory)"
      ],
      "execution_count": 0,
      "outputs": []
    },
    {
      "cell_type": "markdown",
      "metadata": {
        "id": "UvZNuMoLXVqQ",
        "colab_type": "text"
      },
      "source": [
        "### Hyperparameter tuning\n",
        "The code below shows how to fine-tune the hyperparameters of the models above (using sklearn GridSearchCV)."
      ]
    },
    {
      "cell_type": "code",
      "metadata": {
        "id": "gtSPSEmWXVqQ",
        "colab_type": "code",
        "colab": {
          "base_uri": "https://localhost:8080/",
          "height": 105
        },
        "outputId": "c7c595a2-5abd-42bd-ff75-bc566ff7dcca"
      },
      "source": [
        "from sklearn.model_selection import GridSearchCV\n",
        "\n",
        "# The list of [best_score_, best_params_, best_estimator_] obtained by GridSearchCV\n",
        "best_score_param_estimator_gs = []\n",
        "\n",
        "for acronym in pipes.keys():\n",
        "    # GridSearchCV\n",
        "    gs = GridSearchCV(estimator=pipes[acronym],\n",
        "                      param_grid=param_grids[acronym],\n",
        "                      scoring='f1_micro',\n",
        "                      n_jobs=2,\n",
        "                      cv=ps,\n",
        "                      return_train_score=True)\n",
        "        \n",
        "    # Fit the pipeline\n",
        "    gs = gs.fit(X_train_valid, y_train_valid)\n",
        "    \n",
        "    # Update best_score_param_estimator_gs\n",
        "    best_score_param_estimator_gs.append([gs.best_score_, gs.best_params_, gs.best_estimator_])\n",
        "    \n",
        "    # Sort cv_results in ascending order of 'rank_test_score' and 'std_test_score'\n",
        "    cv_results = pd.DataFrame.from_dict(gs.cv_results_).sort_values(by=['rank_test_score', 'std_test_score'])\n",
        "    \n",
        "    # Get the important columns in cv_results\n",
        "    important_columns = ['rank_test_score',\n",
        "                         'mean_test_score', \n",
        "                         'std_test_score', \n",
        "                         'mean_train_score', \n",
        "                         'std_train_score',\n",
        "                         'mean_fit_time', \n",
        "                         'std_fit_time',                        \n",
        "                         'mean_score_time', \n",
        "                         'std_score_time']\n",
        "    \n",
        "    # Move the important columns ahead\n",
        "    cv_results = cv_results[important_columns + sorted(list(set(cv_results.columns) - set(important_columns)))]\n",
        "\n",
        "    # Write cv_results file\n",
        "    cv_results.to_csv(path_or_buf='./cv_results/' + acronym + '.csv', index=False)"
      ],
      "execution_count": 287,
      "outputs": [
        {
          "output_type": "stream",
          "text": [
            "/usr/local/lib/python3.6/dist-packages/joblib/externals/loky/process_executor.py:706: UserWarning: A worker stopped while some jobs were given to the executor. This can be caused by a too short worker timeout or by a memory leak.\n",
            "  \"timeout or by a memory leak.\", UserWarning\n",
            "/usr/local/lib/python3.6/dist-packages/joblib/externals/loky/process_executor.py:706: UserWarning: A worker stopped while some jobs were given to the executor. This can be caused by a too short worker timeout or by a memory leak.\n",
            "  \"timeout or by a memory leak.\", UserWarning\n"
          ],
          "name": "stderr"
        }
      ]
    },
    {
      "cell_type": "markdown",
      "metadata": {
        "id": "2cg0ACeBXVqR",
        "colab_type": "text"
      },
      "source": [
        "### Model selection"
      ]
    },
    {
      "cell_type": "code",
      "metadata": {
        "scrolled": false,
        "id": "vjT5lcqaXVqR",
        "colab_type": "code",
        "colab": {
          "base_uri": "https://localhost:8080/",
          "height": 204
        },
        "outputId": "5d061adf-a1a4-48e7-c2e9-08dab3f28a74"
      },
      "source": [
        "# Sort best_score_param_estimator_gs in descending order of the best_score_\n",
        "best_score_param_estimator_gs = sorted(best_score_param_estimator_gs, key=lambda x : x[0], reverse=True)\n",
        "\n",
        "# Print best_score_param_estimator_gs\n",
        "pd.DataFrame(best_score_param_estimator_gs, columns=['best_score', 'best_param', 'best_estimator'])"
      ],
      "execution_count": 288,
      "outputs": [
        {
          "output_type": "execute_result",
          "data": {
            "text/html": [
              "<div>\n",
              "<style scoped>\n",
              "    .dataframe tbody tr th:only-of-type {\n",
              "        vertical-align: middle;\n",
              "    }\n",
              "\n",
              "    .dataframe tbody tr th {\n",
              "        vertical-align: top;\n",
              "    }\n",
              "\n",
              "    .dataframe thead th {\n",
              "        text-align: right;\n",
              "    }\n",
              "</style>\n",
              "<table border=\"1\" class=\"dataframe\">\n",
              "  <thead>\n",
              "    <tr style=\"text-align: right;\">\n",
              "      <th></th>\n",
              "      <th>best_score</th>\n",
              "      <th>best_param</th>\n",
              "      <th>best_estimator</th>\n",
              "    </tr>\n",
              "  </thead>\n",
              "  <tbody>\n",
              "    <tr>\n",
              "      <th>0</th>\n",
              "      <td>0.741866</td>\n",
              "      <td>{'model__min_samples_leaf': 1, 'model__min_sam...</td>\n",
              "      <td>((DecisionTreeClassifier(ccp_alpha=0.0, class_...</td>\n",
              "    </tr>\n",
              "    <tr>\n",
              "      <th>1</th>\n",
              "      <td>0.739696</td>\n",
              "      <td>{'model__eta': 0.0001, 'model__gamma': 10, 'mo...</td>\n",
              "      <td>(XGBClassifier(base_score=0.5, booster='gbtree...</td>\n",
              "    </tr>\n",
              "    <tr>\n",
              "      <th>2</th>\n",
              "      <td>0.737527</td>\n",
              "      <td>{'model__C': 1, 'model__tol': 1e-06}</td>\n",
              "      <td>(LogisticRegression(C=1, class_weight='balance...</td>\n",
              "    </tr>\n",
              "    <tr>\n",
              "      <th>3</th>\n",
              "      <td>0.733912</td>\n",
              "      <td>{'model__learning_rate': 0.01, 'model__min_sam...</td>\n",
              "      <td>(HistGradientBoostingClassifier(l2_regularizat...</td>\n",
              "    </tr>\n",
              "    <tr>\n",
              "      <th>4</th>\n",
              "      <td>0.725235</td>\n",
              "      <td>{'model__min_samples_leaf': 100, 'model__min_s...</td>\n",
              "      <td>(DecisionTreeClassifier(ccp_alpha=0.0, class_w...</td>\n",
              "    </tr>\n",
              "  </tbody>\n",
              "</table>\n",
              "</div>"
            ],
            "text/plain": [
              "   best_score  ...                                     best_estimator\n",
              "0    0.741866  ...  ((DecisionTreeClassifier(ccp_alpha=0.0, class_...\n",
              "1    0.739696  ...  (XGBClassifier(base_score=0.5, booster='gbtree...\n",
              "2    0.737527  ...  (LogisticRegression(C=1, class_weight='balance...\n",
              "3    0.733912  ...  (HistGradientBoostingClassifier(l2_regularizat...\n",
              "4    0.725235  ...  (DecisionTreeClassifier(ccp_alpha=0.0, class_w...\n",
              "\n",
              "[5 rows x 3 columns]"
            ]
          },
          "metadata": {
            "tags": []
          },
          "execution_count": 288
        }
      ]
    },
    {
      "cell_type": "code",
      "metadata": {
        "id": "lyfmsjlEXVqR",
        "colab_type": "code",
        "colab": {}
      },
      "source": [
        "# Get the best_score, best_param and best_estimator obtained by GridSearchCV\n",
        "best_score_gs, best_param_gs, best_estimator_gs = best_score_param_estimator_gs[0]"
      ],
      "execution_count": 0,
      "outputs": []
    },
    {
      "cell_type": "code",
      "metadata": {
        "id": "D_eui1FnR0-U",
        "colab_type": "code",
        "colab": {}
      },
      "source": [
        "import torch.nn as nn\n",
        "pred_list = []\n",
        "for bcpeg in best_score_param_estimator_gs:\n",
        "  s,p,estimator = bcpeg\n",
        "  pred_list.append(estimator.predict(X_test))"
      ],
      "execution_count": 0,
      "outputs": []
    },
    {
      "cell_type": "markdown",
      "metadata": {
        "id": "g3ENNdA6XVqS",
        "colab_type": "text"
      },
      "source": [
        "# Generating the Submission File"
      ]
    },
    {
      "cell_type": "markdown",
      "metadata": {
        "id": "_oqpcQvhPp7j",
        "colab_type": "text"
      },
      "source": [
        "# MLP"
      ]
    },
    {
      "cell_type": "code",
      "metadata": {
        "scrolled": true,
        "id": "I_3LN_OfXVqS",
        "colab_type": "code",
        "colab": {}
      },
      "source": [
        "# Get the prediction on the testing data using best_model\n",
        "y_test_pred = best_estimator_gs.predict(X_test)\n",
        "\n",
        "# Transform y_test_pred back to the original class\n",
        "y_test_pred = le.inverse_transform(y_test_pred)\n",
        "\n",
        "# Get the submission dataframe\n",
        "df_submit = pd.DataFrame(np.hstack((np.arange(1, y_test_pred.shape[0] + 1).reshape(-1, 1), y_test_pred.reshape(-1, 1))),\n",
        "                         columns=['id', target])                                                                                      \n",
        "\n",
        "# Generate the submission file\n",
        "df_submit.to_csv('submission.csv', index=False)"
      ],
      "execution_count": 0,
      "outputs": []
    },
    {
      "cell_type": "code",
      "metadata": {
        "colab_type": "code",
        "id": "qUrMiEw8_PMP",
        "colab": {
          "base_uri": "https://localhost:8080/",
          "height": 1000
        },
        "outputId": "c1ac2bfb-3d26-4d6e-c007-59ef8ca0761b"
      },
      "source": [
        "model = Sequential()\n",
        "model.add(Dense(128, input_dim=33, activation='relu'))\n",
        "model.add(Dropout(0.25))\n",
        "model.add(Dense(200, activation='relu'))\n",
        "model.add(Dropout(0.25))\n",
        "model.add(Dense(300, activation='relu'))\n",
        "model.add(Dropout(0.25))\n",
        "model.add(Dense(400, activation='relu'))\n",
        "model.add(Dropout(0.25))\n",
        "model.add(Dense(300, activation='relu'))\n",
        "model.add(Dropout(0.25))\n",
        "model.add(Dense(100, activation='relu'))\n",
        "model.add(Dropout(0.25))\n",
        "model.add(Dense(1, activation = 'sigmoid'))\n",
        "model.compile(loss='binary_crossentropy', optimizer='adam', metrics=['accuracy'])\n",
        "\n",
        "# simple early stopping\n",
        "es = EarlyStopping(monitor='val_loss', mode='min', verbose=1, patience=20)\n",
        "mc = ModelCheckpoint('MLP.h5', monitor='val_loss', mode='max', verbose=1, save_best_only=True)\n",
        "# fit model\n",
        "history = model.fit(X_train, y_train, validation_data=(X_valid, y_valid), batch_size=100, epochs=50, class_weight='auto',\n",
        "            callbacks=[es, mc])\n",
        "\n",
        "# plot loss\n",
        "model = lm('MLP.h5')\n",
        "plt.style.use('ggplot')\n",
        "plt.figure()\n",
        "plt.plot(history.history['loss'])\n",
        "plt.plot(history.history['val_loss'])\n",
        "plt.title('MLP Model loss')\n",
        "plt.ylabel('Loss')\n",
        "plt.xlabel('Epoch')\n",
        "plt.legend(['Train', 'Test'], loc='upper left')\n",
        "plt.show()\n",
        "\n",
        "\n",
        "y_pred = model.predict(X_test)\n",
        "threshold = 0.5\n",
        "print(classification_report(y_test,y_pred >= threshold))\n",
        "print(f1_score(y_test,y_pred >= threshold,average='micro'))\n",
        "MLP_pred = y_pred >= threshold"
      ],
      "execution_count": 292,
      "outputs": [
        {
          "output_type": "stream",
          "text": [
            "Train on 5532 samples, validate on 1383 samples\n",
            "Epoch 1/50\n",
            "5532/5532 [==============================] - 1s 106us/step - loss: 0.5750 - accuracy: 0.6994 - val_loss: 0.5378 - val_accuracy: 0.7354\n",
            "\n",
            "Epoch 00001: val_loss improved from -inf to 0.53779, saving model to MLP.h5\n",
            "Epoch 2/50\n",
            "5532/5532 [==============================] - 0s 47us/step - loss: 0.5468 - accuracy: 0.7289 - val_loss: 0.5399 - val_accuracy: 0.7317\n",
            "\n",
            "Epoch 00002: val_loss improved from 0.53779 to 0.53985, saving model to MLP.h5\n",
            "Epoch 3/50\n",
            "5532/5532 [==============================] - 0s 46us/step - loss: 0.5423 - accuracy: 0.7254 - val_loss: 0.5410 - val_accuracy: 0.7296\n",
            "\n",
            "Epoch 00003: val_loss improved from 0.53985 to 0.54101, saving model to MLP.h5\n",
            "Epoch 4/50\n",
            "5532/5532 [==============================] - 0s 46us/step - loss: 0.5419 - accuracy: 0.7336 - val_loss: 0.5402 - val_accuracy: 0.7310\n",
            "\n",
            "Epoch 00004: val_loss did not improve from 0.54101\n",
            "Epoch 5/50\n",
            "5532/5532 [==============================] - 0s 47us/step - loss: 0.5392 - accuracy: 0.7296 - val_loss: 0.5377 - val_accuracy: 0.7260\n",
            "\n",
            "Epoch 00005: val_loss did not improve from 0.54101\n",
            "Epoch 6/50\n",
            "5532/5532 [==============================] - 0s 46us/step - loss: 0.5327 - accuracy: 0.7359 - val_loss: 0.5434 - val_accuracy: 0.7346\n",
            "\n",
            "Epoch 00006: val_loss improved from 0.54101 to 0.54339, saving model to MLP.h5\n",
            "Epoch 7/50\n",
            "5532/5532 [==============================] - 0s 45us/step - loss: 0.5342 - accuracy: 0.7290 - val_loss: 0.5381 - val_accuracy: 0.7274\n",
            "\n",
            "Epoch 00007: val_loss did not improve from 0.54339\n",
            "Epoch 8/50\n",
            "5532/5532 [==============================] - 0s 48us/step - loss: 0.5300 - accuracy: 0.7301 - val_loss: 0.5421 - val_accuracy: 0.7325\n",
            "\n",
            "Epoch 00008: val_loss did not improve from 0.54339\n",
            "Epoch 9/50\n",
            "5532/5532 [==============================] - 0s 45us/step - loss: 0.5251 - accuracy: 0.7345 - val_loss: 0.5401 - val_accuracy: 0.7281\n",
            "\n",
            "Epoch 00009: val_loss did not improve from 0.54339\n",
            "Epoch 10/50\n",
            "5532/5532 [==============================] - 0s 47us/step - loss: 0.5272 - accuracy: 0.7384 - val_loss: 0.5449 - val_accuracy: 0.7267\n",
            "\n",
            "Epoch 00010: val_loss improved from 0.54339 to 0.54488, saving model to MLP.h5\n",
            "Epoch 11/50\n",
            "5532/5532 [==============================] - 0s 45us/step - loss: 0.5269 - accuracy: 0.7372 - val_loss: 0.5440 - val_accuracy: 0.7231\n",
            "\n",
            "Epoch 00011: val_loss did not improve from 0.54488\n",
            "Epoch 12/50\n",
            "5532/5532 [==============================] - 0s 45us/step - loss: 0.5242 - accuracy: 0.7392 - val_loss: 0.5426 - val_accuracy: 0.7289\n",
            "\n",
            "Epoch 00012: val_loss did not improve from 0.54488\n",
            "Epoch 13/50\n",
            "5532/5532 [==============================] - 0s 44us/step - loss: 0.5211 - accuracy: 0.7419 - val_loss: 0.5424 - val_accuracy: 0.7260\n",
            "\n",
            "Epoch 00013: val_loss did not improve from 0.54488\n",
            "Epoch 14/50\n",
            "5532/5532 [==============================] - 0s 49us/step - loss: 0.5189 - accuracy: 0.7437 - val_loss: 0.5441 - val_accuracy: 0.7173\n",
            "\n",
            "Epoch 00014: val_loss did not improve from 0.54488\n",
            "Epoch 15/50\n",
            "5532/5532 [==============================] - 0s 47us/step - loss: 0.5142 - accuracy: 0.7428 - val_loss: 0.5425 - val_accuracy: 0.7274\n",
            "\n",
            "Epoch 00015: val_loss did not improve from 0.54488\n",
            "Epoch 16/50\n",
            "5532/5532 [==============================] - 0s 51us/step - loss: 0.5146 - accuracy: 0.7514 - val_loss: 0.5487 - val_accuracy: 0.7187\n",
            "\n",
            "Epoch 00016: val_loss improved from 0.54488 to 0.54874, saving model to MLP.h5\n",
            "Epoch 17/50\n",
            "5532/5532 [==============================] - 0s 44us/step - loss: 0.5105 - accuracy: 0.7477 - val_loss: 0.5429 - val_accuracy: 0.7332\n",
            "\n",
            "Epoch 00017: val_loss did not improve from 0.54874\n",
            "Epoch 18/50\n",
            "5532/5532 [==============================] - 0s 45us/step - loss: 0.5047 - accuracy: 0.7511 - val_loss: 0.5465 - val_accuracy: 0.7231\n",
            "\n",
            "Epoch 00018: val_loss did not improve from 0.54874\n",
            "Epoch 19/50\n",
            "5532/5532 [==============================] - 0s 47us/step - loss: 0.5039 - accuracy: 0.7453 - val_loss: 0.5479 - val_accuracy: 0.7209\n",
            "\n",
            "Epoch 00019: val_loss did not improve from 0.54874\n",
            "Epoch 20/50\n",
            "5532/5532 [==============================] - 0s 47us/step - loss: 0.5038 - accuracy: 0.7495 - val_loss: 0.5491 - val_accuracy: 0.7252\n",
            "\n",
            "Epoch 00020: val_loss improved from 0.54874 to 0.54908, saving model to MLP.h5\n",
            "Epoch 21/50\n",
            "5532/5532 [==============================] - 0s 46us/step - loss: 0.5019 - accuracy: 0.7533 - val_loss: 0.5503 - val_accuracy: 0.7209\n",
            "\n",
            "Epoch 00021: val_loss improved from 0.54908 to 0.55032, saving model to MLP.h5\n",
            "Epoch 22/50\n",
            "5532/5532 [==============================] - 0s 44us/step - loss: 0.4964 - accuracy: 0.7563 - val_loss: 0.5500 - val_accuracy: 0.7260\n",
            "\n",
            "Epoch 00022: val_loss did not improve from 0.55032\n",
            "Epoch 23/50\n",
            "5532/5532 [==============================] - 0s 45us/step - loss: 0.4951 - accuracy: 0.7583 - val_loss: 0.5493 - val_accuracy: 0.7260\n",
            "\n",
            "Epoch 00023: val_loss did not improve from 0.55032\n",
            "Epoch 24/50\n",
            "5532/5532 [==============================] - 0s 47us/step - loss: 0.4930 - accuracy: 0.7565 - val_loss: 0.5543 - val_accuracy: 0.7166\n",
            "\n",
            "Epoch 00024: val_loss improved from 0.55032 to 0.55430, saving model to MLP.h5\n",
            "Epoch 25/50\n",
            "5532/5532 [==============================] - 0s 47us/step - loss: 0.4931 - accuracy: 0.7590 - val_loss: 0.5550 - val_accuracy: 0.7108\n",
            "\n",
            "Epoch 00025: val_loss improved from 0.55430 to 0.55502, saving model to MLP.h5\n",
            "Epoch 00025: early stopping\n"
          ],
          "name": "stdout"
        },
        {
          "output_type": "display_data",
          "data": {
            "image/png": "[encoded data removed]",
            "text/plain": [
              "<Figure size 432x288 with 1 Axes>"
            ]
          },
          "metadata": {
            "tags": []
          }
        },
        {
          "output_type": "stream",
          "text": [
            "              precision    recall  f1-score   support\n",
            "\n",
            "           0       0.73      0.70      0.71      1480\n",
            "           1       0.71      0.74      0.72      1484\n",
            "\n",
            "    accuracy                           0.72      2964\n",
            "   macro avg       0.72      0.72      0.72      2964\n",
            "weighted avg       0.72      0.72      0.72      2964\n",
            "\n",
            "0.7192982456140351\n"
          ],
          "name": "stdout"
        }
      ]
    },
    {
      "cell_type": "markdown",
      "metadata": {
        "id": "HEdEqjfugq4m",
        "colab_type": "text"
      },
      "source": [
        "# CNN"
      ]
    },
    {
      "cell_type": "code",
      "metadata": {
        "id": "EKfAo0kTbhoL",
        "colab_type": "code",
        "colab": {
          "base_uri": "https://localhost:8080/"
        },
        "outputId": "c0ac3e5d-7b01-4910-c25b-5c178ea263f9"
      },
      "source": [
        "df_test.head()"
      ],
      "execution_count": 293,
      "outputs": [
        {
          "output_type": "execute_result",
          "data": {
            "text/html": [
              "<div>\n",
              "<style scoped>\n",
              "    .dataframe tbody tr th:only-of-type {\n",
              "        vertical-align: middle;\n",
              "    }\n",
              "\n",
              "    .dataframe tbody tr th {\n",
              "        vertical-align: top;\n",
              "    }\n",
              "\n",
              "    .dataframe thead th {\n",
              "        text-align: right;\n",
              "    }\n",
              "</style>\n",
              "<table border=\"1\" class=\"dataframe\">\n",
              "  <thead>\n",
              "    <tr style=\"text-align: right;\">\n",
              "      <th></th>\n",
              "      <th>blueWins</th>\n",
              "      <th>blueWardsPlaced</th>\n",
              "      <th>blueWardsDestroyed</th>\n",
              "      <th>blueFirstBlood</th>\n",
              "      <th>blueKills</th>\n",
              "      <th>blueDeaths</th>\n",
              "      <th>blueAssists</th>\n",
              "      <th>blueEliteMonsters</th>\n",
              "      <th>blueDragons</th>\n",
              "      <th>blueHeralds</th>\n",
              "      <th>blueTowersDestroyed</th>\n",
              "      <th>blueTotalGold</th>\n",
              "      <th>blueAvgLevel</th>\n",
              "      <th>blueTotalExperience</th>\n",
              "      <th>blueTotalMinionsKilled</th>\n",
              "      <th>blueTotalJungleMinionsKilled</th>\n",
              "      <th>blueGoldDiff</th>\n",
              "      <th>blueExperienceDiff</th>\n",
              "      <th>blueCSPerMin</th>\n",
              "      <th>blueGoldPerMin</th>\n",
              "      <th>redWardsPlaced</th>\n",
              "      <th>redWardsDestroyed</th>\n",
              "      <th>redAssists</th>\n",
              "      <th>redEliteMonsters</th>\n",
              "      <th>redDragons</th>\n",
              "      <th>redHeralds</th>\n",
              "      <th>redTowersDestroyed</th>\n",
              "      <th>redTotalGold</th>\n",
              "      <th>redAvgLevel</th>\n",
              "      <th>redTotalExperience</th>\n",
              "      <th>redTotalMinionsKilled</th>\n",
              "      <th>redTotalJungleMinionsKilled</th>\n",
              "      <th>redCSPerMin</th>\n",
              "      <th>redGoldPerMin</th>\n",
              "    </tr>\n",
              "  </thead>\n",
              "  <tbody>\n",
              "    <tr>\n",
              "      <th>0</th>\n",
              "      <td>0</td>\n",
              "      <td>14</td>\n",
              "      <td>2</td>\n",
              "      <td>0</td>\n",
              "      <td>4</td>\n",
              "      <td>8</td>\n",
              "      <td>3</td>\n",
              "      <td>2</td>\n",
              "      <td>1</td>\n",
              "      <td>1</td>\n",
              "      <td>0</td>\n",
              "      <td>14885</td>\n",
              "      <td>6.8</td>\n",
              "      <td>17810</td>\n",
              "      <td>192</td>\n",
              "      <td>59</td>\n",
              "      <td>-4790</td>\n",
              "      <td>-2126</td>\n",
              "      <td>19.2</td>\n",
              "      <td>1488.5</td>\n",
              "      <td>89</td>\n",
              "      <td>2</td>\n",
              "      <td>5</td>\n",
              "      <td>0</td>\n",
              "      <td>0</td>\n",
              "      <td>0</td>\n",
              "      <td>1</td>\n",
              "      <td>19675</td>\n",
              "      <td>7.4</td>\n",
              "      <td>19936</td>\n",
              "      <td>232</td>\n",
              "      <td>67</td>\n",
              "      <td>23.2</td>\n",
              "      <td>1967.5</td>\n",
              "    </tr>\n",
              "    <tr>\n",
              "      <th>1</th>\n",
              "      <td>1</td>\n",
              "      <td>15</td>\n",
              "      <td>1</td>\n",
              "      <td>1</td>\n",
              "      <td>10</td>\n",
              "      <td>5</td>\n",
              "      <td>10</td>\n",
              "      <td>0</td>\n",
              "      <td>0</td>\n",
              "      <td>0</td>\n",
              "      <td>0</td>\n",
              "      <td>17878</td>\n",
              "      <td>7.0</td>\n",
              "      <td>18248</td>\n",
              "      <td>214</td>\n",
              "      <td>52</td>\n",
              "      <td>2301</td>\n",
              "      <td>603</td>\n",
              "      <td>21.4</td>\n",
              "      <td>1787.8</td>\n",
              "      <td>37</td>\n",
              "      <td>1</td>\n",
              "      <td>5</td>\n",
              "      <td>0</td>\n",
              "      <td>0</td>\n",
              "      <td>0</td>\n",
              "      <td>0</td>\n",
              "      <td>15577</td>\n",
              "      <td>6.8</td>\n",
              "      <td>17645</td>\n",
              "      <td>203</td>\n",
              "      <td>44</td>\n",
              "      <td>20.3</td>\n",
              "      <td>1557.7</td>\n",
              "    </tr>\n",
              "    <tr>\n",
              "      <th>2</th>\n",
              "      <td>1</td>\n",
              "      <td>10</td>\n",
              "      <td>5</td>\n",
              "      <td>0</td>\n",
              "      <td>16</td>\n",
              "      <td>13</td>\n",
              "      <td>16</td>\n",
              "      <td>2</td>\n",
              "      <td>1</td>\n",
              "      <td>1</td>\n",
              "      <td>0</td>\n",
              "      <td>19437</td>\n",
              "      <td>7.0</td>\n",
              "      <td>18500</td>\n",
              "      <td>188</td>\n",
              "      <td>32</td>\n",
              "      <td>546</td>\n",
              "      <td>680</td>\n",
              "      <td>18.8</td>\n",
              "      <td>1943.7</td>\n",
              "      <td>15</td>\n",
              "      <td>1</td>\n",
              "      <td>10</td>\n",
              "      <td>0</td>\n",
              "      <td>0</td>\n",
              "      <td>0</td>\n",
              "      <td>0</td>\n",
              "      <td>18891</td>\n",
              "      <td>7.0</td>\n",
              "      <td>17820</td>\n",
              "      <td>191</td>\n",
              "      <td>52</td>\n",
              "      <td>19.1</td>\n",
              "      <td>1889.1</td>\n",
              "    </tr>\n",
              "    <tr>\n",
              "      <th>3</th>\n",
              "      <td>1</td>\n",
              "      <td>81</td>\n",
              "      <td>5</td>\n",
              "      <td>0</td>\n",
              "      <td>11</td>\n",
              "      <td>11</td>\n",
              "      <td>14</td>\n",
              "      <td>0</td>\n",
              "      <td>0</td>\n",
              "      <td>0</td>\n",
              "      <td>0</td>\n",
              "      <td>18913</td>\n",
              "      <td>7.0</td>\n",
              "      <td>18431</td>\n",
              "      <td>215</td>\n",
              "      <td>31</td>\n",
              "      <td>1441</td>\n",
              "      <td>922</td>\n",
              "      <td>21.5</td>\n",
              "      <td>1891.3</td>\n",
              "      <td>16</td>\n",
              "      <td>2</td>\n",
              "      <td>11</td>\n",
              "      <td>1</td>\n",
              "      <td>1</td>\n",
              "      <td>0</td>\n",
              "      <td>0</td>\n",
              "      <td>17472</td>\n",
              "      <td>7.0</td>\n",
              "      <td>17509</td>\n",
              "      <td>200</td>\n",
              "      <td>24</td>\n",
              "      <td>20.0</td>\n",
              "      <td>1747.2</td>\n",
              "    </tr>\n",
              "    <tr>\n",
              "      <th>4</th>\n",
              "      <td>0</td>\n",
              "      <td>18</td>\n",
              "      <td>2</td>\n",
              "      <td>0</td>\n",
              "      <td>8</td>\n",
              "      <td>13</td>\n",
              "      <td>5</td>\n",
              "      <td>0</td>\n",
              "      <td>0</td>\n",
              "      <td>0</td>\n",
              "      <td>0</td>\n",
              "      <td>16077</td>\n",
              "      <td>6.8</td>\n",
              "      <td>16712</td>\n",
              "      <td>180</td>\n",
              "      <td>48</td>\n",
              "      <td>-3056</td>\n",
              "      <td>-2462</td>\n",
              "      <td>18.0</td>\n",
              "      <td>1607.7</td>\n",
              "      <td>17</td>\n",
              "      <td>4</td>\n",
              "      <td>12</td>\n",
              "      <td>0</td>\n",
              "      <td>0</td>\n",
              "      <td>0</td>\n",
              "      <td>0</td>\n",
              "      <td>19133</td>\n",
              "      <td>7.2</td>\n",
              "      <td>19174</td>\n",
              "      <td>223</td>\n",
              "      <td>38</td>\n",
              "      <td>22.3</td>\n",
              "      <td>1913.3</td>\n",
              "    </tr>\n",
              "  </tbody>\n",
              "</table>\n",
              "</div>"
            ],
            "text/plain": [
              "   blueWins  blueWardsPlaced  ...  redCSPerMin  redGoldPerMin\n",
              "0         0               14  ...         23.2         1967.5\n",
              "1         1               15  ...         20.3         1557.7\n",
              "2         1               10  ...         19.1         1889.1\n",
              "3         1               81  ...         20.0         1747.2\n",
              "4         0               18  ...         22.3         1913.3\n",
              "\n",
              "[5 rows x 34 columns]"
            ]
          },
          "metadata": {
            "tags": []
          },
          "execution_count": 293
        }
      ]
    },
    {
      "cell_type": "code",
      "metadata": {
        "id": "fmHAlDXMhm2g",
        "colab_type": "code",
        "colab": {
          "base_uri": "https://localhost:8080/"
        },
        "outputId": "9848758d-0bd4-46c1-c912-3149f6915444"
      },
      "source": [
        "# split X, y, X_test, y_test\n",
        "X_train = df_train.iloc[:, 1:].values\n",
        "y_train = df_train.iloc[:,:1].values\n",
        "\n",
        "X_valid = df_valid.iloc[:, 1:].values\n",
        "y_valid = df_valid.iloc[:,:1].values\n",
        "\n",
        "X_test = df_test.iloc[:, 1:].values\n",
        "y_test = df_test.iloc[:,:1].values\n",
        "print(y_test.reshape(len(y_test)))\n",
        "shape = X_train.shape"
      ],
      "execution_count": 294,
      "outputs": [
        {
          "output_type": "stream",
          "text": [
            "[0 1 1 ... 1 0 1]\n"
          ],
          "name": "stdout"
        }
      ]
    },
    {
      "cell_type": "code",
      "metadata": {
        "id": "xCQOMM8qxdAI",
        "colab_type": "code",
        "colab": {}
      },
      "source": [
        "X_train = ((X_train - np.mean(X_train, axis=1).reshape(-1,1)) / np.std(X_train, axis=1).reshape(-1,1))[:,:,np.newaxis]\n",
        "X_valid = ((X_valid - np.mean(X_valid, axis=1).reshape(-1,1)) / np.std(X_valid, axis=1).reshape(-1,1))[:,:,np.newaxis]\n",
        "X_test = ((X_test - np.mean(X_test, axis=1).reshape(-1,1)) / np.std(X_test, axis=1).reshape(-1,1))[:,:,np.newaxis]\n"
      ],
      "execution_count": 0,
      "outputs": []
    },
    {
      "cell_type": "code",
      "metadata": {
        "id": "vOyuY1Srxx4W",
        "colab_type": "code",
        "colab": {
          "base_uri": "https://localhost:8080/",
          "height": 119
        },
        "outputId": "e4d2a417-2ec5-42a5-fbfa-5567ab2efa1a"
      },
      "source": [
        "x_train_positives = X_train[np.squeeze(y_train) == 1]\n",
        "x_train_negatives = X_train[np.squeeze(y_train) == 0]\n",
        "print(len(x_train_positives))\n",
        "print(len(x_train_negatives))\n",
        "print(X_train[1:].shape)\n",
        "print(np.unique(y_test))\n",
        "print(np.unique(y_train))\n",
        "print(np.unique(y_valid))"
      ],
      "execution_count": 296,
      "outputs": [
        {
          "output_type": "stream",
          "text": [
            "2751\n",
            "2781\n",
            "(5531, 33, 1)\n",
            "[0 1]\n",
            "[0 1]\n",
            "[0 1]\n"
          ],
          "name": "stdout"
        }
      ]
    },
    {
      "cell_type": "code",
      "metadata": {
        "id": "RSl3N_Xea4bR",
        "colab_type": "code",
        "colab": {
          "base_uri": "https://localhost:8080/",
          "height": 1000
        },
        "outputId": "d8c4c7d1-e525-4453-f66e-a5205fede225"
      },
      "source": [
        "from keras.models import Sequential, Model\n",
        "from keras.layers import Conv1D, MaxPool1D, Dense, Dropout, Flatten,AvgPool1D, \\\n",
        "BatchNormalization, Input, concatenate, Activation\n",
        "from keras.optimizers import Adam\n",
        "from keras.callbacks import ModelCheckpoint\n",
        "from keras.callbacks import EarlyStopping\n",
        "from keras.models import load_model as lm\n",
        "from sklearn.metrics import cohen_kappa_score, f1_score\n",
        "from sklearn.metrics import classification_report\n",
        "\n",
        "model = Sequential()\n",
        "model.add(Conv1D(filters=8, kernel_size=3, activation='relu', input_shape=X_train.shape[1:]))\n",
        "#model.add(MaxPool1D(strides=2))\n",
        "model.add(BatchNormalization())\n",
        "model.add(Conv1D(filters=16, kernel_size=3, activation='relu'))\n",
        "#model.add(MaxPool1D(strides=2))\n",
        "model.add(BatchNormalization())\n",
        "model.add(Conv1D(filters=32, kernel_size=3, activation='relu'))\n",
        "#model.add(AvgPool1D(strides=2))\n",
        "model.add(BatchNormalization())\n",
        "model.add(Conv1D(filters=64, kernel_size=3, activation='relu'))\n",
        "model.add(MaxPool1D(strides=2))\n",
        "#model.add(BatchNormalization())\n",
        "#model.add(Conv1D(filters=128, kernel_size=3, activation='relu'))\n",
        "#model.add(MaxPool1D(strides=2))\n",
        "\n",
        "model.add(Flatten())\n",
        "model.add(Dropout(0.5))\n",
        "model.add(Dense(128, activation='relu'))\n",
        "model.add(Dropout(0.5))\n",
        "model.add(BatchNormalization())\n",
        "#model.add(Dense(64, activation='relu'))\n",
        "model.add(Dense(64, activation='relu'))\n",
        "model.add(Dense(1, activation='sigmoid'))\n",
        "model.summary()\n",
        "\n",
        "# if not doing oversampling, set class_weight to auto\n",
        "\n",
        "model.compile(optimizer='rmsprop', loss = 'binary_crossentropy', metrics=['accuracy'])\n",
        "history = model.fit(X_train, y_train, batch_size=128, epochs = 100, class_weight = 'auto', validation_data=(X_valid, y_valid),\n",
        "          callbacks=([EarlyStopping(monitor = 'val_loss',mode = 'min',verbose = 1, patience = 30),\n",
        "                      ModelCheckpoint(\"CNN_model.hdf5\", monitor=\"val_loss\", save_best_only =True)]))\n",
        "\n",
        "# plot loss\n",
        "model = lm('CNN_model.hdf5')\n",
        "plt.style.use('ggplot')\n",
        "plt.figure()\n",
        "plt.plot(history.history['loss'])\n",
        "plt.plot(history.history['val_loss'])\n",
        "plt.title('Model loss')\n",
        "plt.ylabel('Loss')\n",
        "plt.xlabel('Epoch')\n",
        "plt.legend(['Train', 'Test'], loc='upper left')\n",
        "plt.show()\n",
        "\n",
        "\n",
        "y_pred = model.predict(X_test)\n",
        "threshold = 0.5\n",
        "print(classification_report(y_test,y_pred >= threshold))\n",
        "print(f1_score(y_test,y_pred >= threshold,average='micro'))\n"
      ],
      "execution_count": 297,
      "outputs": [
        {
          "output_type": "stream",
          "text": [
            "Model: \"sequential_33\"\n",
            "_________________________________________________________________\n",
            "Layer (type)                 Output Shape              Param #   \n",
            "=================================================================\n",
            "conv1d_55 (Conv1D)           (None, 31, 8)             32        \n",
            "_________________________________________________________________\n",
            "batch_normalization_56 (Batc (None, 31, 8)             32        \n",
            "_________________________________________________________________\n",
            "conv1d_56 (Conv1D)           (None, 29, 16)            400       \n",
            "_________________________________________________________________\n",
            "batch_normalization_57 (Batc (None, 29, 16)            64        \n",
            "_________________________________________________________________\n",
            "conv1d_57 (Conv1D)           (None, 27, 32)            1568      \n",
            "_________________________________________________________________\n",
            "batch_normalization_58 (Batc (None, 27, 32)            128       \n",
            "_________________________________________________________________\n",
            "conv1d_58 (Conv1D)           (None, 25, 64)            6208      \n",
            "_________________________________________________________________\n",
            "max_pooling1d_14 (MaxPooling (None, 12, 64)            0         \n",
            "_________________________________________________________________\n",
            "flatten_12 (Flatten)         (None, 768)               0         \n",
            "_________________________________________________________________\n",
            "dropout_80 (Dropout)         (None, 768)               0         \n",
            "_________________________________________________________________\n",
            "dense_113 (Dense)            (None, 128)               98432     \n",
            "_________________________________________________________________\n",
            "dropout_81 (Dropout)         (None, 128)               0         \n",
            "_________________________________________________________________\n",
            "batch_normalization_59 (Batc (None, 128)               512       \n",
            "_________________________________________________________________\n",
            "dense_114 (Dense)            (None, 64)                8256      \n",
            "_________________________________________________________________\n",
            "dense_115 (Dense)            (None, 1)                 65        \n",
            "=================================================================\n",
            "Total params: 115,697\n",
            "Trainable params: 115,329\n",
            "Non-trainable params: 368\n",
            "_________________________________________________________________\n",
            "Train on 5532 samples, validate on 1383 samples\n",
            "Epoch 1/100\n",
            "5532/5532 [==============================] - 1s 192us/step - loss: 0.5881 - accuracy: 0.7016 - val_loss: 0.6805 - val_accuracy: 0.5582\n",
            "Epoch 2/100\n",
            "5532/5532 [==============================] - 0s 68us/step - loss: 0.5634 - accuracy: 0.7146 - val_loss: 0.6776 - val_accuracy: 0.5510\n",
            "Epoch 3/100\n",
            "5532/5532 [==============================] - 0s 64us/step - loss: 0.5652 - accuracy: 0.7097 - val_loss: 0.6693 - val_accuracy: 0.6493\n",
            "Epoch 4/100\n",
            "5532/5532 [==============================] - 0s 70us/step - loss: 0.5540 - accuracy: 0.7193 - val_loss: 0.6711 - val_accuracy: 0.5488\n",
            "Epoch 5/100\n",
            "5532/5532 [==============================] - 0s 64us/step - loss: 0.5541 - accuracy: 0.7222 - val_loss: 0.6481 - val_accuracy: 0.7354\n",
            "Epoch 6/100\n",
            "5532/5532 [==============================] - 0s 67us/step - loss: 0.5493 - accuracy: 0.7213 - val_loss: 0.6408 - val_accuracy: 0.7151\n",
            "Epoch 7/100\n",
            "5532/5532 [==============================] - 0s 64us/step - loss: 0.5507 - accuracy: 0.7223 - val_loss: 0.6212 - val_accuracy: 0.7057\n",
            "Epoch 8/100\n",
            "5532/5532 [==============================] - 0s 64us/step - loss: 0.5522 - accuracy: 0.7213 - val_loss: 0.5860 - val_accuracy: 0.7281\n",
            "Epoch 9/100\n",
            "5532/5532 [==============================] - 0s 70us/step - loss: 0.5515 - accuracy: 0.7236 - val_loss: 0.5753 - val_accuracy: 0.7238\n",
            "Epoch 10/100\n",
            "5532/5532 [==============================] - 0s 68us/step - loss: 0.5512 - accuracy: 0.7202 - val_loss: 0.5733 - val_accuracy: 0.7238\n",
            "Epoch 11/100\n",
            "5532/5532 [==============================] - 0s 64us/step - loss: 0.5500 - accuracy: 0.7223 - val_loss: 0.5649 - val_accuracy: 0.7303\n",
            "Epoch 12/100\n",
            "5532/5532 [==============================] - 0s 63us/step - loss: 0.5476 - accuracy: 0.7272 - val_loss: 0.5513 - val_accuracy: 0.7187\n",
            "Epoch 13/100\n",
            "5532/5532 [==============================] - 0s 64us/step - loss: 0.5498 - accuracy: 0.7227 - val_loss: 0.5598 - val_accuracy: 0.7368\n",
            "Epoch 14/100\n",
            "5532/5532 [==============================] - 0s 68us/step - loss: 0.5445 - accuracy: 0.7243 - val_loss: 0.5370 - val_accuracy: 0.7354\n",
            "Epoch 15/100\n",
            "5532/5532 [==============================] - 0s 69us/step - loss: 0.5431 - accuracy: 0.7258 - val_loss: 0.5352 - val_accuracy: 0.7310\n",
            "Epoch 16/100\n",
            "5532/5532 [==============================] - 0s 65us/step - loss: 0.5443 - accuracy: 0.7251 - val_loss: 0.5375 - val_accuracy: 0.7354\n",
            "Epoch 17/100\n",
            "5532/5532 [==============================] - 0s 64us/step - loss: 0.5449 - accuracy: 0.7270 - val_loss: 0.5366 - val_accuracy: 0.7317\n",
            "Epoch 18/100\n",
            "5532/5532 [==============================] - 0s 65us/step - loss: 0.5436 - accuracy: 0.7265 - val_loss: 0.5431 - val_accuracy: 0.7397\n",
            "Epoch 19/100\n",
            "5532/5532 [==============================] - 0s 67us/step - loss: 0.5456 - accuracy: 0.7222 - val_loss: 0.5388 - val_accuracy: 0.7310\n",
            "Epoch 20/100\n",
            "5532/5532 [==============================] - 0s 64us/step - loss: 0.5437 - accuracy: 0.7238 - val_loss: 0.5373 - val_accuracy: 0.7303\n",
            "Epoch 21/100\n",
            "5532/5532 [==============================] - 0s 65us/step - loss: 0.5442 - accuracy: 0.7216 - val_loss: 0.5376 - val_accuracy: 0.7346\n",
            "Epoch 22/100\n",
            "5532/5532 [==============================] - 0s 68us/step - loss: 0.5439 - accuracy: 0.7229 - val_loss: 0.5387 - val_accuracy: 0.7383\n",
            "Epoch 23/100\n",
            "5532/5532 [==============================] - 0s 63us/step - loss: 0.5408 - accuracy: 0.7238 - val_loss: 0.5848 - val_accuracy: 0.7238\n",
            "Epoch 24/100\n",
            "5532/5532 [==============================] - 0s 64us/step - loss: 0.5479 - accuracy: 0.7247 - val_loss: 0.5436 - val_accuracy: 0.7267\n",
            "Epoch 25/100\n",
            "5532/5532 [==============================] - 0s 64us/step - loss: 0.5453 - accuracy: 0.7184 - val_loss: 0.5459 - val_accuracy: 0.7180\n",
            "Epoch 26/100\n",
            "5532/5532 [==============================] - 0s 64us/step - loss: 0.5401 - accuracy: 0.7214 - val_loss: 0.5366 - val_accuracy: 0.7346\n",
            "Epoch 27/100\n",
            "5532/5532 [==============================] - 0s 64us/step - loss: 0.5427 - accuracy: 0.7263 - val_loss: 0.5381 - val_accuracy: 0.7346\n",
            "Epoch 28/100\n",
            "5532/5532 [==============================] - 0s 64us/step - loss: 0.5417 - accuracy: 0.7249 - val_loss: 0.5523 - val_accuracy: 0.7281\n",
            "Epoch 29/100\n",
            "5532/5532 [==============================] - 0s 63us/step - loss: 0.5441 - accuracy: 0.7265 - val_loss: 0.5369 - val_accuracy: 0.7383\n",
            "Epoch 30/100\n",
            "5532/5532 [==============================] - 0s 68us/step - loss: 0.5439 - accuracy: 0.7211 - val_loss: 0.5581 - val_accuracy: 0.7151\n",
            "Epoch 31/100\n",
            "5532/5532 [==============================] - 0s 72us/step - loss: 0.5422 - accuracy: 0.7227 - val_loss: 0.5379 - val_accuracy: 0.7346\n",
            "Epoch 32/100\n",
            "5532/5532 [==============================] - 0s 69us/step - loss: 0.5431 - accuracy: 0.7270 - val_loss: 0.5490 - val_accuracy: 0.7346\n",
            "Epoch 33/100\n",
            "5532/5532 [==============================] - 0s 65us/step - loss: 0.5422 - accuracy: 0.7252 - val_loss: 0.5409 - val_accuracy: 0.7354\n",
            "Epoch 34/100\n",
            "5532/5532 [==============================] - 0s 64us/step - loss: 0.5424 - accuracy: 0.7234 - val_loss: 0.5408 - val_accuracy: 0.7354\n",
            "Epoch 35/100\n",
            "5532/5532 [==============================] - 0s 66us/step - loss: 0.5420 - accuracy: 0.7238 - val_loss: 0.5366 - val_accuracy: 0.7361\n",
            "Epoch 36/100\n",
            "5532/5532 [==============================] - 0s 67us/step - loss: 0.5446 - accuracy: 0.7243 - val_loss: 0.5375 - val_accuracy: 0.7346\n",
            "Epoch 37/100\n",
            "5532/5532 [==============================] - 0s 64us/step - loss: 0.5424 - accuracy: 0.7207 - val_loss: 0.5387 - val_accuracy: 0.7267\n",
            "Epoch 38/100\n",
            "5532/5532 [==============================] - 0s 70us/step - loss: 0.5431 - accuracy: 0.7263 - val_loss: 0.5422 - val_accuracy: 0.7303\n",
            "Epoch 39/100\n",
            "5532/5532 [==============================] - 0s 65us/step - loss: 0.5406 - accuracy: 0.7232 - val_loss: 0.5470 - val_accuracy: 0.7361\n",
            "Epoch 40/100\n",
            "5532/5532 [==============================] - 0s 69us/step - loss: 0.5410 - accuracy: 0.7234 - val_loss: 0.5424 - val_accuracy: 0.7361\n",
            "Epoch 41/100\n",
            "5532/5532 [==============================] - 0s 68us/step - loss: 0.5408 - accuracy: 0.7258 - val_loss: 0.5550 - val_accuracy: 0.7195\n",
            "Epoch 42/100\n",
            "5532/5532 [==============================] - 0s 66us/step - loss: 0.5412 - accuracy: 0.7220 - val_loss: 0.5372 - val_accuracy: 0.7332\n",
            "Epoch 43/100\n",
            "5532/5532 [==============================] - 0s 67us/step - loss: 0.5410 - accuracy: 0.7303 - val_loss: 0.5381 - val_accuracy: 0.7390\n",
            "Epoch 44/100\n",
            "5532/5532 [==============================] - 0s 68us/step - loss: 0.5419 - accuracy: 0.7242 - val_loss: 0.5382 - val_accuracy: 0.7361\n",
            "Epoch 45/100\n",
            "5532/5532 [==============================] - 0s 65us/step - loss: 0.5411 - accuracy: 0.7260 - val_loss: 0.5387 - val_accuracy: 0.7303\n",
            "Epoch 00045: early stopping\n"
          ],
          "name": "stdout"
        },
        {
          "output_type": "display_data",
          "data": {
            "image/png": "[encoded data removed]",
            "text/plain": [
              "<Figure size 432x288 with 1 Axes>"
            ]
          },
          "metadata": {
            "tags": []
          }
        },
        {
          "output_type": "stream",
          "text": [
            "              precision    recall  f1-score   support\n",
            "\n",
            "           0       0.73      0.72      0.72      1480\n",
            "           1       0.72      0.73      0.73      1484\n",
            "\n",
            "    accuracy                           0.72      2964\n",
            "   macro avg       0.72      0.72      0.72      2964\n",
            "weighted avg       0.72      0.72      0.72      2964\n",
            "\n",
            "0.7236842105263158\n"
          ],
          "name": "stdout"
        }
      ]
    },
    {
      "cell_type": "markdown",
      "metadata": {
        "id": "vxAJmOJOltWP",
        "colab_type": "text"
      },
      "source": [
        "# Loss Comparison"
      ]
    },
    {
      "cell_type": "code",
      "metadata": {
        "id": "1bvxfOiWtFHq",
        "colab_type": "code",
        "colab": {
          "base_uri": "https://localhost:8080/",
          "height": 303
        },
        "outputId": "23ffc9e5-ddaf-4360-e04e-c49aecfc6cae"
      },
      "source": [
        "\n",
        "yT = y_test.reshape(len(y_test))\n",
        "CNN_pred = (y_pred >= threshold).reshape(len(y_test))\n",
        "from sklearn.metrics import log_loss\n",
        "loss_list = []\n",
        "for pred in pred_list:\n",
        "  loss_list.append(log_loss(pred,yT))\n",
        "loss_list.append(log_loss(MLP_pred,yT))\n",
        "loss_list.append(log_loss(CNN_pred,yT))\n",
        "\n",
        "plt.ylim(top=10) \n",
        "plt.ylim(bottom=9) \n",
        "plt.bar(['RF','XGB','Logistic','HGB','DecisionT','MLP','CNN'],loss_list)\n",
        "plt.ylabel('loss')\n",
        "plt.xlabel('model')\n"
      ],
      "execution_count": 298,
      "outputs": [
        {
          "output_type": "execute_result",
          "data": {
            "text/plain": [
              "Text(0.5, 0, 'model')"
            ]
          },
          "metadata": {
            "tags": []
          },
          "execution_count": 298
        },
        {
          "output_type": "display_data",
          "data": {
            "image/png": "[encoded data removed]",
            "text/plain": [
              "<Figure size 432x288 with 1 Axes>"
            ]
          },
          "metadata": {
            "tags": []
          }
        }
      ]
    }
  ]
}